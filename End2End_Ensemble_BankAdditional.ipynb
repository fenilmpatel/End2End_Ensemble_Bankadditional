{
 "cells": [
  {
   "cell_type": "markdown",
   "id": "fallen-voltage",
   "metadata": {},
   "source": [
    "## Import All Required Library"
   ]
  },
  {
   "cell_type": "code",
   "execution_count": 1,
   "id": "casual-sequence",
   "metadata": {},
   "outputs": [],
   "source": [
    "import numpy as np\n",
    "import pandas as pd\n",
    "import matplotlib.pyplot as plt\n",
    "import seaborn as sns\n",
    "import scipy.stats as stats"
   ]
  },
  {
   "cell_type": "markdown",
   "id": "joint-shopper",
   "metadata": {},
   "source": [
    "## Read Csv File"
   ]
  },
  {
   "cell_type": "code",
   "execution_count": 2,
   "id": "suffering-fetish",
   "metadata": {},
   "outputs": [
    {
     "ename": "FileNotFoundError",
     "evalue": "[Errno 2] No such file or directory: 'data\\\\ensemble-random-xgboost\\\\bank-additional-full.csv'",
     "output_type": "error",
     "traceback": [
      "\u001b[1;31m---------------------------------------------------------------------------\u001b[0m",
      "\u001b[1;31mFileNotFoundError\u001b[0m                         Traceback (most recent call last)",
      "\u001b[1;32m<ipython-input-2-1d1b37f6d0f7>\u001b[0m in \u001b[0;36m<module>\u001b[1;34m\u001b[0m\n\u001b[1;32m----> 1\u001b[1;33m \u001b[0md1\u001b[0m \u001b[1;33m=\u001b[0m \u001b[0mpd\u001b[0m\u001b[1;33m.\u001b[0m\u001b[0mread_csv\u001b[0m\u001b[1;33m(\u001b[0m\u001b[1;34m'data\\\\ensemble-random-xgboost\\\\bank-additional-full.csv'\u001b[0m\u001b[1;33m,\u001b[0m\u001b[0msep\u001b[0m\u001b[1;33m=\u001b[0m\u001b[1;34m';'\u001b[0m\u001b[1;33m)\u001b[0m\u001b[1;33m\u001b[0m\u001b[1;33m\u001b[0m\u001b[0m\n\u001b[0m",
      "\u001b[1;32m~\\anaconda3\\lib\\site-packages\\pandas\\io\\parsers.py\u001b[0m in \u001b[0;36mread_csv\u001b[1;34m(filepath_or_buffer, sep, delimiter, header, names, index_col, usecols, squeeze, prefix, mangle_dupe_cols, dtype, engine, converters, true_values, false_values, skipinitialspace, skiprows, skipfooter, nrows, na_values, keep_default_na, na_filter, verbose, skip_blank_lines, parse_dates, infer_datetime_format, keep_date_col, date_parser, dayfirst, cache_dates, iterator, chunksize, compression, thousands, decimal, lineterminator, quotechar, quoting, doublequote, escapechar, comment, encoding, dialect, error_bad_lines, warn_bad_lines, delim_whitespace, low_memory, memory_map, float_precision)\u001b[0m\n\u001b[0;32m    684\u001b[0m     )\n\u001b[0;32m    685\u001b[0m \u001b[1;33m\u001b[0m\u001b[0m\n\u001b[1;32m--> 686\u001b[1;33m     \u001b[1;32mreturn\u001b[0m \u001b[0m_read\u001b[0m\u001b[1;33m(\u001b[0m\u001b[0mfilepath_or_buffer\u001b[0m\u001b[1;33m,\u001b[0m \u001b[0mkwds\u001b[0m\u001b[1;33m)\u001b[0m\u001b[1;33m\u001b[0m\u001b[1;33m\u001b[0m\u001b[0m\n\u001b[0m\u001b[0;32m    687\u001b[0m \u001b[1;33m\u001b[0m\u001b[0m\n\u001b[0;32m    688\u001b[0m \u001b[1;33m\u001b[0m\u001b[0m\n",
      "\u001b[1;32m~\\anaconda3\\lib\\site-packages\\pandas\\io\\parsers.py\u001b[0m in \u001b[0;36m_read\u001b[1;34m(filepath_or_buffer, kwds)\u001b[0m\n\u001b[0;32m    450\u001b[0m \u001b[1;33m\u001b[0m\u001b[0m\n\u001b[0;32m    451\u001b[0m     \u001b[1;31m# Create the parser.\u001b[0m\u001b[1;33m\u001b[0m\u001b[1;33m\u001b[0m\u001b[1;33m\u001b[0m\u001b[0m\n\u001b[1;32m--> 452\u001b[1;33m     \u001b[0mparser\u001b[0m \u001b[1;33m=\u001b[0m \u001b[0mTextFileReader\u001b[0m\u001b[1;33m(\u001b[0m\u001b[0mfp_or_buf\u001b[0m\u001b[1;33m,\u001b[0m \u001b[1;33m**\u001b[0m\u001b[0mkwds\u001b[0m\u001b[1;33m)\u001b[0m\u001b[1;33m\u001b[0m\u001b[1;33m\u001b[0m\u001b[0m\n\u001b[0m\u001b[0;32m    453\u001b[0m \u001b[1;33m\u001b[0m\u001b[0m\n\u001b[0;32m    454\u001b[0m     \u001b[1;32mif\u001b[0m \u001b[0mchunksize\u001b[0m \u001b[1;32mor\u001b[0m \u001b[0miterator\u001b[0m\u001b[1;33m:\u001b[0m\u001b[1;33m\u001b[0m\u001b[1;33m\u001b[0m\u001b[0m\n",
      "\u001b[1;32m~\\anaconda3\\lib\\site-packages\\pandas\\io\\parsers.py\u001b[0m in \u001b[0;36m__init__\u001b[1;34m(self, f, engine, **kwds)\u001b[0m\n\u001b[0;32m    934\u001b[0m             \u001b[0mself\u001b[0m\u001b[1;33m.\u001b[0m\u001b[0moptions\u001b[0m\u001b[1;33m[\u001b[0m\u001b[1;34m\"has_index_names\"\u001b[0m\u001b[1;33m]\u001b[0m \u001b[1;33m=\u001b[0m \u001b[0mkwds\u001b[0m\u001b[1;33m[\u001b[0m\u001b[1;34m\"has_index_names\"\u001b[0m\u001b[1;33m]\u001b[0m\u001b[1;33m\u001b[0m\u001b[1;33m\u001b[0m\u001b[0m\n\u001b[0;32m    935\u001b[0m \u001b[1;33m\u001b[0m\u001b[0m\n\u001b[1;32m--> 936\u001b[1;33m         \u001b[0mself\u001b[0m\u001b[1;33m.\u001b[0m\u001b[0m_make_engine\u001b[0m\u001b[1;33m(\u001b[0m\u001b[0mself\u001b[0m\u001b[1;33m.\u001b[0m\u001b[0mengine\u001b[0m\u001b[1;33m)\u001b[0m\u001b[1;33m\u001b[0m\u001b[1;33m\u001b[0m\u001b[0m\n\u001b[0m\u001b[0;32m    937\u001b[0m \u001b[1;33m\u001b[0m\u001b[0m\n\u001b[0;32m    938\u001b[0m     \u001b[1;32mdef\u001b[0m \u001b[0mclose\u001b[0m\u001b[1;33m(\u001b[0m\u001b[0mself\u001b[0m\u001b[1;33m)\u001b[0m\u001b[1;33m:\u001b[0m\u001b[1;33m\u001b[0m\u001b[1;33m\u001b[0m\u001b[0m\n",
      "\u001b[1;32m~\\anaconda3\\lib\\site-packages\\pandas\\io\\parsers.py\u001b[0m in \u001b[0;36m_make_engine\u001b[1;34m(self, engine)\u001b[0m\n\u001b[0;32m   1166\u001b[0m     \u001b[1;32mdef\u001b[0m \u001b[0m_make_engine\u001b[0m\u001b[1;33m(\u001b[0m\u001b[0mself\u001b[0m\u001b[1;33m,\u001b[0m \u001b[0mengine\u001b[0m\u001b[1;33m=\u001b[0m\u001b[1;34m\"c\"\u001b[0m\u001b[1;33m)\u001b[0m\u001b[1;33m:\u001b[0m\u001b[1;33m\u001b[0m\u001b[1;33m\u001b[0m\u001b[0m\n\u001b[0;32m   1167\u001b[0m         \u001b[1;32mif\u001b[0m \u001b[0mengine\u001b[0m \u001b[1;33m==\u001b[0m \u001b[1;34m\"c\"\u001b[0m\u001b[1;33m:\u001b[0m\u001b[1;33m\u001b[0m\u001b[1;33m\u001b[0m\u001b[0m\n\u001b[1;32m-> 1168\u001b[1;33m             \u001b[0mself\u001b[0m\u001b[1;33m.\u001b[0m\u001b[0m_engine\u001b[0m \u001b[1;33m=\u001b[0m \u001b[0mCParserWrapper\u001b[0m\u001b[1;33m(\u001b[0m\u001b[0mself\u001b[0m\u001b[1;33m.\u001b[0m\u001b[0mf\u001b[0m\u001b[1;33m,\u001b[0m \u001b[1;33m**\u001b[0m\u001b[0mself\u001b[0m\u001b[1;33m.\u001b[0m\u001b[0moptions\u001b[0m\u001b[1;33m)\u001b[0m\u001b[1;33m\u001b[0m\u001b[1;33m\u001b[0m\u001b[0m\n\u001b[0m\u001b[0;32m   1169\u001b[0m         \u001b[1;32melse\u001b[0m\u001b[1;33m:\u001b[0m\u001b[1;33m\u001b[0m\u001b[1;33m\u001b[0m\u001b[0m\n\u001b[0;32m   1170\u001b[0m             \u001b[1;32mif\u001b[0m \u001b[0mengine\u001b[0m \u001b[1;33m==\u001b[0m \u001b[1;34m\"python\"\u001b[0m\u001b[1;33m:\u001b[0m\u001b[1;33m\u001b[0m\u001b[1;33m\u001b[0m\u001b[0m\n",
      "\u001b[1;32m~\\anaconda3\\lib\\site-packages\\pandas\\io\\parsers.py\u001b[0m in \u001b[0;36m__init__\u001b[1;34m(self, src, **kwds)\u001b[0m\n\u001b[0;32m   1996\u001b[0m         \u001b[0mkwds\u001b[0m\u001b[1;33m[\u001b[0m\u001b[1;34m\"usecols\"\u001b[0m\u001b[1;33m]\u001b[0m \u001b[1;33m=\u001b[0m \u001b[0mself\u001b[0m\u001b[1;33m.\u001b[0m\u001b[0musecols\u001b[0m\u001b[1;33m\u001b[0m\u001b[1;33m\u001b[0m\u001b[0m\n\u001b[0;32m   1997\u001b[0m \u001b[1;33m\u001b[0m\u001b[0m\n\u001b[1;32m-> 1998\u001b[1;33m         \u001b[0mself\u001b[0m\u001b[1;33m.\u001b[0m\u001b[0m_reader\u001b[0m \u001b[1;33m=\u001b[0m \u001b[0mparsers\u001b[0m\u001b[1;33m.\u001b[0m\u001b[0mTextReader\u001b[0m\u001b[1;33m(\u001b[0m\u001b[0msrc\u001b[0m\u001b[1;33m,\u001b[0m \u001b[1;33m**\u001b[0m\u001b[0mkwds\u001b[0m\u001b[1;33m)\u001b[0m\u001b[1;33m\u001b[0m\u001b[1;33m\u001b[0m\u001b[0m\n\u001b[0m\u001b[0;32m   1999\u001b[0m         \u001b[0mself\u001b[0m\u001b[1;33m.\u001b[0m\u001b[0munnamed_cols\u001b[0m \u001b[1;33m=\u001b[0m \u001b[0mself\u001b[0m\u001b[1;33m.\u001b[0m\u001b[0m_reader\u001b[0m\u001b[1;33m.\u001b[0m\u001b[0munnamed_cols\u001b[0m\u001b[1;33m\u001b[0m\u001b[1;33m\u001b[0m\u001b[0m\n\u001b[0;32m   2000\u001b[0m \u001b[1;33m\u001b[0m\u001b[0m\n",
      "\u001b[1;32mpandas\\_libs\\parsers.pyx\u001b[0m in \u001b[0;36mpandas._libs.parsers.TextReader.__cinit__\u001b[1;34m()\u001b[0m\n",
      "\u001b[1;32mpandas\\_libs\\parsers.pyx\u001b[0m in \u001b[0;36mpandas._libs.parsers.TextReader._setup_parser_source\u001b[1;34m()\u001b[0m\n",
      "\u001b[1;31mFileNotFoundError\u001b[0m: [Errno 2] No such file or directory: 'data\\\\ensemble-random-xgboost\\\\bank-additional-full.csv'"
     ]
    }
   ],
   "source": [
    "d1 = pd.read_csv('data\\\\ensemble-random-xgboost\\\\bank-additional-full.csv',sep=';')\n"
   ]
  },
  {
   "cell_type": "markdown",
   "id": "portuguese-priest",
   "metadata": {},
   "source": [
    "###  Make a copy of csv File"
   ]
  },
  {
   "cell_type": "code",
   "execution_count": null,
   "id": "talented-redhead",
   "metadata": {},
   "outputs": [],
   "source": [
    "df = d1.copy()"
   ]
  },
  {
   "cell_type": "code",
   "execution_count": null,
   "id": "strategic-single",
   "metadata": {},
   "outputs": [],
   "source": [
    "df.shape"
   ]
  },
  {
   "cell_type": "markdown",
   "id": "tribal-looking",
   "metadata": {},
   "source": [
    "###  Understand The Data"
   ]
  },
  {
   "cell_type": "code",
   "execution_count": null,
   "id": "roman-wealth",
   "metadata": {},
   "outputs": [],
   "source": [
    "df.describe()"
   ]
  },
  {
   "cell_type": "code",
   "execution_count": null,
   "id": "adjustable-enlargement",
   "metadata": {},
   "outputs": [],
   "source": [
    "df.head()"
   ]
  },
  {
   "cell_type": "markdown",
   "id": "japanese-artist",
   "metadata": {},
   "source": [
    "#  EDA"
   ]
  },
  {
   "cell_type": "markdown",
   "id": "ultimate-understanding",
   "metadata": {},
   "source": [
    ">> **Find Missing Values**"
   ]
  },
  {
   "cell_type": "code",
   "execution_count": 3,
   "id": "prerequisite-xerox",
   "metadata": {},
   "outputs": [
    {
     "ename": "NameError",
     "evalue": "name 'df' is not defined",
     "output_type": "error",
     "traceback": [
      "\u001b[1;31m---------------------------------------------------------------------------\u001b[0m",
      "\u001b[1;31mNameError\u001b[0m                                 Traceback (most recent call last)",
      "\u001b[1;32m<ipython-input-3-6cc656c51d22>\u001b[0m in \u001b[0;36m<module>\u001b[1;34m\u001b[0m\n\u001b[1;32m----> 1\u001b[1;33m \u001b[0mdf\u001b[0m\u001b[1;33m.\u001b[0m\u001b[0misnull\u001b[0m\u001b[1;33m(\u001b[0m\u001b[1;33m)\u001b[0m\u001b[1;33m.\u001b[0m\u001b[0msum\u001b[0m\u001b[1;33m(\u001b[0m\u001b[1;33m)\u001b[0m\u001b[1;33m.\u001b[0m\u001b[0msort_values\u001b[0m\u001b[1;33m(\u001b[0m\u001b[0mascending\u001b[0m\u001b[1;33m=\u001b[0m\u001b[1;32mFalse\u001b[0m\u001b[1;33m)\u001b[0m\u001b[1;33m\u001b[0m\u001b[1;33m\u001b[0m\u001b[0m\n\u001b[0m",
      "\u001b[1;31mNameError\u001b[0m: name 'df' is not defined"
     ]
    }
   ],
   "source": [
    "df.isnull().sum().sort_values(ascending=False)"
   ]
  },
  {
   "cell_type": "code",
   "execution_count": 83,
   "id": "thrown-village",
   "metadata": {},
   "outputs": [
    {
     "data": {
      "text/plain": [
       "<AxesSubplot:>"
      ]
     },
     "execution_count": 83,
     "metadata": {},
     "output_type": "execute_result"
    },
    {
     "data": {
      "image/png": "[encoded data removed]",
      "text/plain": [
       "<Figure size 1800x720 with 2 Axes>"
      ]
     },
     "metadata": {
      "needs_background": "light"
     },
     "output_type": "display_data"
    }
   ],
   "source": [
    "import missingno as mn\n",
    "mn.matrix(df)"
   ]
  },
  {
   "cell_type": "markdown",
   "id": "toxic-welsh",
   "metadata": {},
   "source": [
    "\n",
    "> **No Missing Values Found In DataSet By Above EDA**"
   ]
  },
  {
   "cell_type": "markdown",
   "id": "composed-florida",
   "metadata": {},
   "source": [
    "## Devide The Data Into Catagories and Numeric"
   ]
  },
  {
   "cell_type": "code",
   "execution_count": 84,
   "id": "extended-throat",
   "metadata": {},
   "outputs": [],
   "source": [
    "cat_col = [i for i in df.columns if df[i].dtype=='object']"
   ]
  },
  {
   "cell_type": "markdown",
   "id": "periodic-auckland",
   "metadata": {},
   "source": [
    "##  Check All Unique Values Present In Catagorical Columns"
   ]
  },
  {
   "cell_type": "code",
   "execution_count": 85,
   "id": "intermediate-diploma",
   "metadata": {},
   "outputs": [
    {
     "name": "stdout",
     "output_type": "stream",
     "text": [
      "job ----> ['housemaid' 'services' 'admin.' 'blue-collar' 'technician' 'retired'\n",
      " 'management' 'unemployed' 'self-employed' 'unknown' 'entrepreneur'\n",
      " 'student']\n",
      "------\n",
      "marital ----> ['married' 'single' 'divorced' 'unknown']\n",
      "------\n",
      "education ----> ['basic.4y' 'high.school' 'basic.6y' 'basic.9y' 'professional.course'\n",
      " 'unknown' 'university.degree' 'illiterate']\n",
      "------\n",
      "default ----> ['no' 'unknown' 'yes']\n",
      "------\n",
      "housing ----> ['no' 'yes' 'unknown']\n",
      "------\n",
      "loan ----> ['no' 'yes' 'unknown']\n",
      "------\n",
      "contact ----> ['telephone' 'cellular']\n",
      "------\n",
      "month ----> ['may' 'jun' 'jul' 'aug' 'oct' 'nov' 'dec' 'mar' 'apr' 'sep']\n",
      "------\n",
      "day_of_week ----> ['mon' 'tue' 'wed' 'thu' 'fri']\n",
      "------\n",
      "poutcome ----> ['nonexistent' 'failure' 'success']\n",
      "------\n",
      "y ----> ['no' 'yes']\n",
      "------\n"
     ]
    }
   ],
   "source": [
    "for i in cat_col:\n",
    "    print(i,'---->',df[i].unique())\n",
    "    print('------')"
   ]
  },
  {
   "cell_type": "code",
   "execution_count": 86,
   "id": "ecological-procurement",
   "metadata": {},
   "outputs": [
    {
     "data": {
      "text/plain": [
       "<AxesSubplot:>"
      ]
     },
     "execution_count": 86,
     "metadata": {},
     "output_type": "execute_result"
    },
    {
     "data": {
      "image/png": "[encoded data removed]",
      "text/plain": [
       "<Figure size 432x288 with 1 Axes>"
      ]
     },
     "metadata": {
      "needs_background": "light"
     },
     "output_type": "display_data"
    }
   ],
   "source": [
    "pd.Series(df['y'].value_counts()).plot(kind='bar')"
   ]
  },
  {
   "cell_type": "code",
   "execution_count": 87,
   "id": "reflected-version",
   "metadata": {},
   "outputs": [],
   "source": [
    "num_col = [i for i in df.columns if df[i].dtype!='object']"
   ]
  },
  {
   "cell_type": "code",
   "execution_count": 88,
   "id": "herbal-routine",
   "metadata": {},
   "outputs": [
    {
     "data": {
      "text/html": [
       "<div>\n",
       "<style scoped>\n",
       "    .dataframe tbody tr th:only-of-type {\n",
       "        vertical-align: middle;\n",
       "    }\n",
       "\n",
       "    .dataframe tbody tr th {\n",
       "        vertical-align: top;\n",
       "    }\n",
       "\n",
       "    .dataframe thead th {\n",
       "        text-align: right;\n",
       "    }\n",
       "</style>\n",
       "<table border=\"1\" class=\"dataframe\">\n",
       "  <thead>\n",
       "    <tr style=\"text-align: right;\">\n",
       "      <th></th>\n",
       "      <th>age</th>\n",
       "      <th>duration</th>\n",
       "      <th>campaign</th>\n",
       "      <th>pdays</th>\n",
       "      <th>previous</th>\n",
       "      <th>emp.var.rate</th>\n",
       "      <th>cons.price.idx</th>\n",
       "      <th>cons.conf.idx</th>\n",
       "      <th>euribor3m</th>\n",
       "      <th>nr.employed</th>\n",
       "    </tr>\n",
       "  </thead>\n",
       "  <tbody>\n",
       "    <tr>\n",
       "      <th>0</th>\n",
       "      <td>56</td>\n",
       "      <td>261</td>\n",
       "      <td>1</td>\n",
       "      <td>999</td>\n",
       "      <td>0</td>\n",
       "      <td>1.1</td>\n",
       "      <td>93.994</td>\n",
       "      <td>-36.4</td>\n",
       "      <td>4.857</td>\n",
       "      <td>5191.0</td>\n",
       "    </tr>\n",
       "    <tr>\n",
       "      <th>1</th>\n",
       "      <td>57</td>\n",
       "      <td>149</td>\n",
       "      <td>1</td>\n",
       "      <td>999</td>\n",
       "      <td>0</td>\n",
       "      <td>1.1</td>\n",
       "      <td>93.994</td>\n",
       "      <td>-36.4</td>\n",
       "      <td>4.857</td>\n",
       "      <td>5191.0</td>\n",
       "    </tr>\n",
       "    <tr>\n",
       "      <th>2</th>\n",
       "      <td>37</td>\n",
       "      <td>226</td>\n",
       "      <td>1</td>\n",
       "      <td>999</td>\n",
       "      <td>0</td>\n",
       "      <td>1.1</td>\n",
       "      <td>93.994</td>\n",
       "      <td>-36.4</td>\n",
       "      <td>4.857</td>\n",
       "      <td>5191.0</td>\n",
       "    </tr>\n",
       "    <tr>\n",
       "      <th>3</th>\n",
       "      <td>40</td>\n",
       "      <td>151</td>\n",
       "      <td>1</td>\n",
       "      <td>999</td>\n",
       "      <td>0</td>\n",
       "      <td>1.1</td>\n",
       "      <td>93.994</td>\n",
       "      <td>-36.4</td>\n",
       "      <td>4.857</td>\n",
       "      <td>5191.0</td>\n",
       "    </tr>\n",
       "    <tr>\n",
       "      <th>4</th>\n",
       "      <td>56</td>\n",
       "      <td>307</td>\n",
       "      <td>1</td>\n",
       "      <td>999</td>\n",
       "      <td>0</td>\n",
       "      <td>1.1</td>\n",
       "      <td>93.994</td>\n",
       "      <td>-36.4</td>\n",
       "      <td>4.857</td>\n",
       "      <td>5191.0</td>\n",
       "    </tr>\n",
       "    <tr>\n",
       "      <th>...</th>\n",
       "      <td>...</td>\n",
       "      <td>...</td>\n",
       "      <td>...</td>\n",
       "      <td>...</td>\n",
       "      <td>...</td>\n",
       "      <td>...</td>\n",
       "      <td>...</td>\n",
       "      <td>...</td>\n",
       "      <td>...</td>\n",
       "      <td>...</td>\n",
       "    </tr>\n",
       "    <tr>\n",
       "      <th>41183</th>\n",
       "      <td>73</td>\n",
       "      <td>334</td>\n",
       "      <td>1</td>\n",
       "      <td>999</td>\n",
       "      <td>0</td>\n",
       "      <td>-1.1</td>\n",
       "      <td>94.767</td>\n",
       "      <td>-50.8</td>\n",
       "      <td>1.028</td>\n",
       "      <td>4963.6</td>\n",
       "    </tr>\n",
       "    <tr>\n",
       "      <th>41184</th>\n",
       "      <td>46</td>\n",
       "      <td>383</td>\n",
       "      <td>1</td>\n",
       "      <td>999</td>\n",
       "      <td>0</td>\n",
       "      <td>-1.1</td>\n",
       "      <td>94.767</td>\n",
       "      <td>-50.8</td>\n",
       "      <td>1.028</td>\n",
       "      <td>4963.6</td>\n",
       "    </tr>\n",
       "    <tr>\n",
       "      <th>41185</th>\n",
       "      <td>56</td>\n",
       "      <td>189</td>\n",
       "      <td>2</td>\n",
       "      <td>999</td>\n",
       "      <td>0</td>\n",
       "      <td>-1.1</td>\n",
       "      <td>94.767</td>\n",
       "      <td>-50.8</td>\n",
       "      <td>1.028</td>\n",
       "      <td>4963.6</td>\n",
       "    </tr>\n",
       "    <tr>\n",
       "      <th>41186</th>\n",
       "      <td>44</td>\n",
       "      <td>442</td>\n",
       "      <td>1</td>\n",
       "      <td>999</td>\n",
       "      <td>0</td>\n",
       "      <td>-1.1</td>\n",
       "      <td>94.767</td>\n",
       "      <td>-50.8</td>\n",
       "      <td>1.028</td>\n",
       "      <td>4963.6</td>\n",
       "    </tr>\n",
       "    <tr>\n",
       "      <th>41187</th>\n",
       "      <td>74</td>\n",
       "      <td>239</td>\n",
       "      <td>3</td>\n",
       "      <td>999</td>\n",
       "      <td>1</td>\n",
       "      <td>-1.1</td>\n",
       "      <td>94.767</td>\n",
       "      <td>-50.8</td>\n",
       "      <td>1.028</td>\n",
       "      <td>4963.6</td>\n",
       "    </tr>\n",
       "  </tbody>\n",
       "</table>\n",
       "<p>41188 rows × 10 columns</p>\n",
       "</div>"
      ],
      "text/plain": [
       "       age  duration  campaign  pdays  previous  emp.var.rate  cons.price.idx  \\\n",
       "0       56       261         1    999         0           1.1          93.994   \n",
       "1       57       149         1    999         0           1.1          93.994   \n",
       "2       37       226         1    999         0           1.1          93.994   \n",
       "3       40       151         1    999         0           1.1          93.994   \n",
       "4       56       307         1    999         0           1.1          93.994   \n",
       "...    ...       ...       ...    ...       ...           ...             ...   \n",
       "41183   73       334         1    999         0          -1.1          94.767   \n",
       "41184   46       383         1    999         0          -1.1          94.767   \n",
       "41185   56       189         2    999         0          -1.1          94.767   \n",
       "41186   44       442         1    999         0          -1.1          94.767   \n",
       "41187   74       239         3    999         1          -1.1          94.767   \n",
       "\n",
       "       cons.conf.idx  euribor3m  nr.employed  \n",
       "0              -36.4      4.857       5191.0  \n",
       "1              -36.4      4.857       5191.0  \n",
       "2              -36.4      4.857       5191.0  \n",
       "3              -36.4      4.857       5191.0  \n",
       "4              -36.4      4.857       5191.0  \n",
       "...              ...        ...          ...  \n",
       "41183          -50.8      1.028       4963.6  \n",
       "41184          -50.8      1.028       4963.6  \n",
       "41185          -50.8      1.028       4963.6  \n",
       "41186          -50.8      1.028       4963.6  \n",
       "41187          -50.8      1.028       4963.6  \n",
       "\n",
       "[41188 rows x 10 columns]"
      ]
     },
     "execution_count": 88,
     "metadata": {},
     "output_type": "execute_result"
    }
   ],
   "source": [
    "df[num_col]"
   ]
  },
  {
   "cell_type": "markdown",
   "id": "fifty-instrumentation",
   "metadata": {},
   "source": [
    "#  Feature Engineering"
   ]
  },
  {
   "cell_type": "markdown",
   "id": "broke-premises",
   "metadata": {},
   "source": [
    "###  Checking All Unique Values Present in Catagorical Columns"
   ]
  },
  {
   "cell_type": "code",
   "execution_count": 89,
   "id": "abroad-beatles",
   "metadata": {},
   "outputs": [
    {
     "name": "stdout",
     "output_type": "stream",
     "text": [
      "job ----> ['housemaid' 'services' 'admin.' 'blue-collar' 'technician' 'retired'\n",
      " 'management' 'unemployed' 'self-employed' 'unknown' 'entrepreneur'\n",
      " 'student']\n",
      "------\n",
      "marital ----> ['married' 'single' 'divorced' 'unknown']\n",
      "------\n",
      "education ----> ['basic.4y' 'high.school' 'basic.6y' 'basic.9y' 'professional.course'\n",
      " 'unknown' 'university.degree' 'illiterate']\n",
      "------\n",
      "default ----> ['no' 'unknown' 'yes']\n",
      "------\n",
      "housing ----> ['no' 'yes' 'unknown']\n",
      "------\n",
      "loan ----> ['no' 'yes' 'unknown']\n",
      "------\n",
      "contact ----> ['telephone' 'cellular']\n",
      "------\n",
      "month ----> ['may' 'jun' 'jul' 'aug' 'oct' 'nov' 'dec' 'mar' 'apr' 'sep']\n",
      "------\n",
      "day_of_week ----> ['mon' 'tue' 'wed' 'thu' 'fri']\n",
      "------\n",
      "poutcome ----> ['nonexistent' 'failure' 'success']\n",
      "------\n",
      "y ----> ['no' 'yes']\n",
      "------\n"
     ]
    }
   ],
   "source": [
    "for i in cat_col:\n",
    "    print(i,'---->',df[i].unique())\n",
    "    print('------')"
   ]
  },
  {
   "cell_type": "markdown",
   "id": "applicable-radiation",
   "metadata": {},
   "source": [
    "###  Feature Engineerning "
   ]
  },
  {
   "cell_type": "markdown",
   "id": "soviet-department",
   "metadata": {},
   "source": [
    "## 1.y variable"
   ]
  },
  {
   "cell_type": "code",
   "execution_count": 90,
   "id": "bright-memory",
   "metadata": {},
   "outputs": [],
   "source": [
    "y = {'no':0,'yes':1}"
   ]
  },
  {
   "cell_type": "code",
   "execution_count": 91,
   "id": "taken-planet",
   "metadata": {},
   "outputs": [],
   "source": [
    "df['y']=df['y'].map(y)"
   ]
  },
  {
   "cell_type": "markdown",
   "id": "altered-marks",
   "metadata": {},
   "source": [
    "##  2. poutcome"
   ]
  },
  {
   "cell_type": "code",
   "execution_count": 92,
   "id": "certain-viking",
   "metadata": {},
   "outputs": [],
   "source": [
    "po = {'failure':0,'success':1,'nonexistent':2}"
   ]
  },
  {
   "cell_type": "code",
   "execution_count": 93,
   "id": "desperate-telephone",
   "metadata": {},
   "outputs": [],
   "source": [
    "df['poutcome'] = df['poutcome'].map(po)"
   ]
  },
  {
   "cell_type": "markdown",
   "id": "searching-connecticut",
   "metadata": {},
   "source": [
    "## 3. day of week"
   ]
  },
  {
   "cell_type": "code",
   "execution_count": 94,
   "id": "outstanding-mount",
   "metadata": {},
   "outputs": [],
   "source": [
    "day = {'mon':1,'tue':2,'wed':3,'thu':4,'fri':5}"
   ]
  },
  {
   "cell_type": "code",
   "execution_count": 95,
   "id": "minute-boston",
   "metadata": {},
   "outputs": [],
   "source": [
    "df['day_of_week'] = df['day_of_week'].map(day)"
   ]
  },
  {
   "cell_type": "markdown",
   "id": "indirect-overview",
   "metadata": {},
   "source": [
    "## 4. Month"
   ]
  },
  {
   "cell_type": "code",
   "execution_count": 96,
   "id": "boxed-agenda",
   "metadata": {},
   "outputs": [],
   "source": [
    "month = {'mar':0,'apr':1,'may':2,'jun':3,'jul':4,'aug':5,'sep':6,'oct':7,'nov':8,'dec':9}"
   ]
  },
  {
   "cell_type": "code",
   "execution_count": 97,
   "id": "sixth-beast",
   "metadata": {},
   "outputs": [],
   "source": [
    "df['month'] = df['month'].map(month)"
   ]
  },
  {
   "cell_type": "markdown",
   "id": "adjustable-providence",
   "metadata": {},
   "source": [
    "## 5. contact"
   ]
  },
  {
   "cell_type": "code",
   "execution_count": 98,
   "id": "abstract-immunology",
   "metadata": {},
   "outputs": [],
   "source": [
    "contact= {'telephone':0,'cellular':1}"
   ]
  },
  {
   "cell_type": "code",
   "execution_count": 99,
   "id": "miniature-updating",
   "metadata": {},
   "outputs": [],
   "source": [
    "df['contact'] = df['contact'].map(contact)"
   ]
  },
  {
   "cell_type": "markdown",
   "id": "suspended-publication",
   "metadata": {},
   "source": [
    "## 6. loan"
   ]
  },
  {
   "cell_type": "code",
   "execution_count": 100,
   "id": "comparative-manchester",
   "metadata": {},
   "outputs": [],
   "source": [
    "loan = {'no':0,'yes':1,'unknown':2}"
   ]
  },
  {
   "cell_type": "code",
   "execution_count": 101,
   "id": "metallic-phase",
   "metadata": {},
   "outputs": [],
   "source": [
    "df['loan'] = df['loan'].map(loan)"
   ]
  },
  {
   "cell_type": "markdown",
   "id": "dirty-general",
   "metadata": {},
   "source": [
    "## 7. Housing"
   ]
  },
  {
   "cell_type": "code",
   "execution_count": 102,
   "id": "vulnerable-consolidation",
   "metadata": {},
   "outputs": [],
   "source": [
    "ho = {'no':0,'yes':1,'unknown':2}"
   ]
  },
  {
   "cell_type": "code",
   "execution_count": 103,
   "id": "modular-roulette",
   "metadata": {},
   "outputs": [],
   "source": [
    "df['housing'] = df['housing'].map(ho) "
   ]
  },
  {
   "cell_type": "markdown",
   "id": "lonely-portable",
   "metadata": {},
   "source": [
    "## 8.default"
   ]
  },
  {
   "cell_type": "code",
   "execution_count": 104,
   "id": "atmospheric-plumbing",
   "metadata": {},
   "outputs": [],
   "source": [
    "de = {'no':0,'yes':1,'unknown':2}"
   ]
  },
  {
   "cell_type": "code",
   "execution_count": 105,
   "id": "worth-queue",
   "metadata": {},
   "outputs": [],
   "source": [
    "df['default'] = df['default'].map(de)"
   ]
  },
  {
   "cell_type": "markdown",
   "id": "sonic-williams",
   "metadata": {},
   "source": [
    "## 9.education"
   ]
  },
  {
   "cell_type": "code",
   "execution_count": 106,
   "id": "initial-complement",
   "metadata": {},
   "outputs": [],
   "source": [
    "ed = {'illiterate':0,'high.school':1,'basic.4y':2,'basic.6y':3,\n",
    "      'basic.9y':5,'professional.course':7,'university.degree':4,'unknown':6}"
   ]
  },
  {
   "cell_type": "code",
   "execution_count": 107,
   "id": "binary-experience",
   "metadata": {},
   "outputs": [],
   "source": [
    "df['education'] = df['education'].map(ed)"
   ]
  },
  {
   "cell_type": "markdown",
   "id": "electoral-increase",
   "metadata": {},
   "source": [
    "## 10. marital"
   ]
  },
  {
   "cell_type": "code",
   "execution_count": 108,
   "id": "actual-method",
   "metadata": {},
   "outputs": [],
   "source": [
    "ma = {'single':0,'married':1,'divorced':2,'unknown':3}"
   ]
  },
  {
   "cell_type": "code",
   "execution_count": 109,
   "id": "occupational-heath",
   "metadata": {},
   "outputs": [],
   "source": [
    "df['marital'] = df['marital'].map(ma)"
   ]
  },
  {
   "cell_type": "markdown",
   "id": "serial-inspector",
   "metadata": {},
   "source": [
    "## 11.Job"
   ]
  },
  {
   "cell_type": "code",
   "execution_count": 110,
   "id": "approved-portrait",
   "metadata": {},
   "outputs": [],
   "source": [
    "jb = {'unemployed':0,'student':1,'retired':3,'housemaid':2,\n",
    "      'technician':4,'management':5,'self-employed':6,'services':7,'entrepreneur':8,\n",
    "     'admin.':9,'blue-collar':10,'unknown':11}"
   ]
  },
  {
   "cell_type": "code",
   "execution_count": 111,
   "id": "sunrise-choir",
   "metadata": {},
   "outputs": [],
   "source": [
    "df['job'] = df['job'].map(jb)"
   ]
  },
  {
   "cell_type": "code",
   "execution_count": 112,
   "id": "enormous-walnut",
   "metadata": {},
   "outputs": [
    {
     "data": {
      "text/plain": [
       "0         2\n",
       "1         7\n",
       "2         7\n",
       "3         9\n",
       "4         7\n",
       "         ..\n",
       "41183     3\n",
       "41184    10\n",
       "41185     3\n",
       "41186     4\n",
       "41187     3\n",
       "Name: job, Length: 41188, dtype: int64"
      ]
     },
     "execution_count": 112,
     "metadata": {},
     "output_type": "execute_result"
    }
   ],
   "source": [
    "df['job']"
   ]
  },
  {
   "cell_type": "markdown",
   "id": "specified-clinic",
   "metadata": {},
   "source": [
    "## Correlation"
   ]
  },
  {
   "cell_type": "code",
   "execution_count": 113,
   "id": "republican-cruise",
   "metadata": {},
   "outputs": [],
   "source": [
    "cor=df.corr()\n",
    "cor = np.tril(cor,k=1)"
   ]
  },
  {
   "cell_type": "code",
   "execution_count": 114,
   "id": "defensive-thirty",
   "metadata": {
    "scrolled": true
   },
   "outputs": [
    {
     "data": {
      "text/plain": [
       "<AxesSubplot:>"
      ]
     },
     "execution_count": 114,
     "metadata": {},
     "output_type": "execute_result"
    },
    {
     "data": {
      "image/png": "[encoded data removed]",
      "text/plain": [
       "<Figure size 1440x1440 with 2 Axes>"
      ]
     },
     "metadata": {
      "needs_background": "light"
     },
     "output_type": "display_data"
    }
   ],
   "source": [
    "plt.figure(figsize=(20,20))\n",
    "sns.heatmap(cor,annot=True,vmin=-1,vmax=1,xticklabels=df.columns,yticklabels=df.columns)"
   ]
  },
  {
   "cell_type": "markdown",
   "id": "geographic-producer",
   "metadata": {},
   "source": [
    "> **Based on Correlation Matrix remove correlared features**"
   ]
  },
  {
   "cell_type": "code",
   "execution_count": 115,
   "id": "proof-proportion",
   "metadata": {},
   "outputs": [],
   "source": [
    "remove_f = ['previous','cons.price.idx','nr.employed']"
   ]
  },
  {
   "cell_type": "markdown",
   "id": "honey-cholesterol",
   "metadata": {},
   "source": [
    "## To Keep Columns Name Using List Comprehension\n",
    "### Remove unnecessary feature which shows multicolinarity"
   ]
  },
  {
   "cell_type": "code",
   "execution_count": 116,
   "id": "mediterranean-exclusion",
   "metadata": {},
   "outputs": [],
   "source": [
    "col = [i for i in df.columns if i not in remove_f]"
   ]
  },
  {
   "cell_type": "code",
   "execution_count": 117,
   "id": "suspended-destination",
   "metadata": {},
   "outputs": [],
   "source": [
    "df = df[col]"
   ]
  },
  {
   "cell_type": "markdown",
   "id": "extreme-budapest",
   "metadata": {},
   "source": [
    "###  Verify the Dataset "
   ]
  },
  {
   "cell_type": "code",
   "execution_count": 118,
   "id": "cutting-india",
   "metadata": {},
   "outputs": [
    {
     "data": {
      "text/plain": [
       "(41188, 18)"
      ]
     },
     "execution_count": 118,
     "metadata": {},
     "output_type": "execute_result"
    }
   ],
   "source": [
    "df.shape"
   ]
  },
  {
   "cell_type": "markdown",
   "id": "functioning-sleeve",
   "metadata": {},
   "source": [
    "## Import All Required Librarys For Machine Learing Model Building And Evalutions "
   ]
  },
  {
   "cell_type": "code",
   "execution_count": 179,
   "id": "latest-thursday",
   "metadata": {},
   "outputs": [],
   "source": [
    "from sklearn.model_selection import train_test_split\n",
    "from sklearn.ensemble import RandomForestClassifier,GradientBoostingClassifier,AdaBoostClassifier\n",
    "from sklearn.tree import DecisionTreeClassifier\n",
    "from sklearn.model_selection import RandomizedSearchCV,GridSearchCV\n",
    "from sklearn.metrics import confusion_matrix,classification_report,accuracy_score\n",
    "from sklearn.model_selection import cross_val_score,KFold,StratifiedKFold\n",
    "from xgboost import XGBClassifier"
   ]
  },
  {
   "cell_type": "markdown",
   "id": "timely-paragraph",
   "metadata": {},
   "source": [
    "# Goal(Matrix) :\n",
    "\n",
    "## Here from the problem statement we can conclude that we try to reduce FPR rather than FNR because if he actually not investing in company and predicted as investing that is bad for company hence try to reduce FPR."
   ]
  },
  {
   "cell_type": "markdown",
   "id": "august-charlotte",
   "metadata": {},
   "source": [
    "###  Train-Test Splits"
   ]
  },
  {
   "cell_type": "code",
   "execution_count": 120,
   "id": "constant-cache",
   "metadata": {},
   "outputs": [],
   "source": [
    "X = df.iloc[:,:-1]\n",
    "y = df.iloc[:,-1]"
   ]
  },
  {
   "cell_type": "code",
   "execution_count": 121,
   "id": "ahead-identification",
   "metadata": {},
   "outputs": [
    {
     "data": {
      "text/html": [
       "<div>\n",
       "<style scoped>\n",
       "    .dataframe tbody tr th:only-of-type {\n",
       "        vertical-align: middle;\n",
       "    }\n",
       "\n",
       "    .dataframe tbody tr th {\n",
       "        vertical-align: top;\n",
       "    }\n",
       "\n",
       "    .dataframe thead th {\n",
       "        text-align: right;\n",
       "    }\n",
       "</style>\n",
       "<table border=\"1\" class=\"dataframe\">\n",
       "  <thead>\n",
       "    <tr style=\"text-align: right;\">\n",
       "      <th></th>\n",
       "      <th>age</th>\n",
       "      <th>job</th>\n",
       "      <th>marital</th>\n",
       "      <th>education</th>\n",
       "      <th>default</th>\n",
       "      <th>housing</th>\n",
       "      <th>loan</th>\n",
       "      <th>contact</th>\n",
       "      <th>month</th>\n",
       "      <th>day_of_week</th>\n",
       "      <th>duration</th>\n",
       "      <th>campaign</th>\n",
       "      <th>pdays</th>\n",
       "      <th>poutcome</th>\n",
       "      <th>emp.var.rate</th>\n",
       "      <th>cons.conf.idx</th>\n",
       "      <th>euribor3m</th>\n",
       "    </tr>\n",
       "  </thead>\n",
       "  <tbody>\n",
       "    <tr>\n",
       "      <th>0</th>\n",
       "      <td>56</td>\n",
       "      <td>2</td>\n",
       "      <td>1</td>\n",
       "      <td>2</td>\n",
       "      <td>0</td>\n",
       "      <td>0</td>\n",
       "      <td>0</td>\n",
       "      <td>0</td>\n",
       "      <td>2</td>\n",
       "      <td>1</td>\n",
       "      <td>261</td>\n",
       "      <td>1</td>\n",
       "      <td>999</td>\n",
       "      <td>2</td>\n",
       "      <td>1.1</td>\n",
       "      <td>-36.4</td>\n",
       "      <td>4.857</td>\n",
       "    </tr>\n",
       "    <tr>\n",
       "      <th>1</th>\n",
       "      <td>57</td>\n",
       "      <td>7</td>\n",
       "      <td>1</td>\n",
       "      <td>1</td>\n",
       "      <td>2</td>\n",
       "      <td>0</td>\n",
       "      <td>0</td>\n",
       "      <td>0</td>\n",
       "      <td>2</td>\n",
       "      <td>1</td>\n",
       "      <td>149</td>\n",
       "      <td>1</td>\n",
       "      <td>999</td>\n",
       "      <td>2</td>\n",
       "      <td>1.1</td>\n",
       "      <td>-36.4</td>\n",
       "      <td>4.857</td>\n",
       "    </tr>\n",
       "    <tr>\n",
       "      <th>2</th>\n",
       "      <td>37</td>\n",
       "      <td>7</td>\n",
       "      <td>1</td>\n",
       "      <td>1</td>\n",
       "      <td>0</td>\n",
       "      <td>1</td>\n",
       "      <td>0</td>\n",
       "      <td>0</td>\n",
       "      <td>2</td>\n",
       "      <td>1</td>\n",
       "      <td>226</td>\n",
       "      <td>1</td>\n",
       "      <td>999</td>\n",
       "      <td>2</td>\n",
       "      <td>1.1</td>\n",
       "      <td>-36.4</td>\n",
       "      <td>4.857</td>\n",
       "    </tr>\n",
       "    <tr>\n",
       "      <th>3</th>\n",
       "      <td>40</td>\n",
       "      <td>9</td>\n",
       "      <td>1</td>\n",
       "      <td>3</td>\n",
       "      <td>0</td>\n",
       "      <td>0</td>\n",
       "      <td>0</td>\n",
       "      <td>0</td>\n",
       "      <td>2</td>\n",
       "      <td>1</td>\n",
       "      <td>151</td>\n",
       "      <td>1</td>\n",
       "      <td>999</td>\n",
       "      <td>2</td>\n",
       "      <td>1.1</td>\n",
       "      <td>-36.4</td>\n",
       "      <td>4.857</td>\n",
       "    </tr>\n",
       "    <tr>\n",
       "      <th>4</th>\n",
       "      <td>56</td>\n",
       "      <td>7</td>\n",
       "      <td>1</td>\n",
       "      <td>1</td>\n",
       "      <td>0</td>\n",
       "      <td>0</td>\n",
       "      <td>1</td>\n",
       "      <td>0</td>\n",
       "      <td>2</td>\n",
       "      <td>1</td>\n",
       "      <td>307</td>\n",
       "      <td>1</td>\n",
       "      <td>999</td>\n",
       "      <td>2</td>\n",
       "      <td>1.1</td>\n",
       "      <td>-36.4</td>\n",
       "      <td>4.857</td>\n",
       "    </tr>\n",
       "  </tbody>\n",
       "</table>\n",
       "</div>"
      ],
      "text/plain": [
       "   age  job  marital  education  default  housing  loan  contact  month  \\\n",
       "0   56    2        1          2        0        0     0        0      2   \n",
       "1   57    7        1          1        2        0     0        0      2   \n",
       "2   37    7        1          1        0        1     0        0      2   \n",
       "3   40    9        1          3        0        0     0        0      2   \n",
       "4   56    7        1          1        0        0     1        0      2   \n",
       "\n",
       "   day_of_week  duration  campaign  pdays  poutcome  emp.var.rate  \\\n",
       "0            1       261         1    999         2           1.1   \n",
       "1            1       149         1    999         2           1.1   \n",
       "2            1       226         1    999         2           1.1   \n",
       "3            1       151         1    999         2           1.1   \n",
       "4            1       307         1    999         2           1.1   \n",
       "\n",
       "   cons.conf.idx  euribor3m  \n",
       "0          -36.4      4.857  \n",
       "1          -36.4      4.857  \n",
       "2          -36.4      4.857  \n",
       "3          -36.4      4.857  \n",
       "4          -36.4      4.857  "
      ]
     },
     "execution_count": 121,
     "metadata": {},
     "output_type": "execute_result"
    }
   ],
   "source": [
    "X.head()"
   ]
  },
  {
   "cell_type": "code",
   "execution_count": 122,
   "id": "useful-minority",
   "metadata": {},
   "outputs": [
    {
     "data": {
      "text/plain": [
       "0    0\n",
       "1    0\n",
       "2    0\n",
       "3    0\n",
       "4    0\n",
       "Name: y, dtype: int64"
      ]
     },
     "execution_count": 122,
     "metadata": {},
     "output_type": "execute_result"
    }
   ],
   "source": [
    "y.head()"
   ]
  },
  {
   "cell_type": "markdown",
   "id": "regulation-livestock",
   "metadata": {},
   "source": [
    "###  Resuffle the Dataset"
   ]
  },
  {
   "cell_type": "code",
   "execution_count": 123,
   "id": "north-biology",
   "metadata": {},
   "outputs": [],
   "source": [
    "X=X.sample(frac=1)\n",
    "y=y.sample(frac=1)"
   ]
  },
  {
   "cell_type": "code",
   "execution_count": 124,
   "id": "excessive-insider",
   "metadata": {},
   "outputs": [],
   "source": [
    "trainx1,testx1,trainy1,testy1 = train_test_split(X,y,test_size=0.3)"
   ]
  },
  {
   "cell_type": "markdown",
   "id": "iraqi-probability",
   "metadata": {},
   "source": [
    "###  Verify the train-test Splits"
   ]
  },
  {
   "cell_type": "code",
   "execution_count": 125,
   "id": "normal-commitment",
   "metadata": {},
   "outputs": [
    {
     "name": "stdout",
     "output_type": "stream",
     "text": [
      "(28831, 17)\n",
      "(28831,)\n",
      "(12357, 17)\n",
      "(12357,)\n"
     ]
    }
   ],
   "source": [
    "print(trainx1.shape)\n",
    "print(trainy1.shape)\n",
    "print(testx1.shape)\n",
    "print(testy1.shape)"
   ]
  },
  {
   "cell_type": "markdown",
   "id": "adjusted-expansion",
   "metadata": {},
   "source": [
    "# 1.Bagging"
   ]
  },
  {
   "cell_type": "markdown",
   "id": "concrete-genealogy",
   "metadata": {},
   "source": [
    "## Random Forest"
   ]
  },
  {
   "cell_type": "code",
   "execution_count": 126,
   "id": "decent-memory",
   "metadata": {},
   "outputs": [],
   "source": [
    "rf = RandomForestClassifier().fit(trainx1,trainy1)"
   ]
  },
  {
   "cell_type": "code",
   "execution_count": 127,
   "id": "secret-authorization",
   "metadata": {},
   "outputs": [],
   "source": [
    "p1 = rf.predict(testx1)\n",
    "p1 = pd.Series(p1)"
   ]
  },
  {
   "cell_type": "code",
   "execution_count": 128,
   "id": "injured-society",
   "metadata": {},
   "outputs": [
    {
     "data": {
      "text/plain": [
       "0    10974\n",
       "1     1383\n",
       "Name: y, dtype: int64"
      ]
     },
     "execution_count": 128,
     "metadata": {},
     "output_type": "execute_result"
    }
   ],
   "source": [
    "testy1.value_counts()"
   ]
  },
  {
   "cell_type": "code",
   "execution_count": 129,
   "id": "inappropriate-transmission",
   "metadata": {},
   "outputs": [
    {
     "data": {
      "text/plain": [
       "0    12337\n",
       "1       20\n",
       "dtype: int64"
      ]
     },
     "execution_count": 129,
     "metadata": {},
     "output_type": "execute_result"
    }
   ],
   "source": [
    "p1.value_counts()"
   ]
  },
  {
   "cell_type": "markdown",
   "id": "infectious-tracker",
   "metadata": {},
   "source": [
    "### Reports & Matrix"
   ]
  },
  {
   "cell_type": "code",
   "execution_count": 130,
   "id": "racial-dover",
   "metadata": {},
   "outputs": [
    {
     "data": {
      "text/plain": [
       "array([[10956,    18],\n",
       "       [ 1381,     2]], dtype=int64)"
      ]
     },
     "execution_count": 130,
     "metadata": {},
     "output_type": "execute_result"
    }
   ],
   "source": [
    "confusion_matrix(testy1,p1)"
   ]
  },
  {
   "cell_type": "code",
   "execution_count": 131,
   "id": "bored-tsunami",
   "metadata": {},
   "outputs": [
    {
     "name": "stdout",
     "output_type": "stream",
     "text": [
      "              precision    recall  f1-score   support\n",
      "\n",
      "           0       0.89      1.00      0.94     10974\n",
      "           1       0.10      0.00      0.00      1383\n",
      "\n",
      "    accuracy                           0.89     12357\n",
      "   macro avg       0.49      0.50      0.47     12357\n",
      "weighted avg       0.80      0.89      0.84     12357\n",
      "\n"
     ]
    }
   ],
   "source": [
    "print(classification_report(testy1,p1))"
   ]
  },
  {
   "cell_type": "markdown",
   "id": "established-possession",
   "metadata": {},
   "source": [
    "##  HyperParameter Tunning Using Randomized SearchCV And GridSearchCV"
   ]
  },
  {
   "cell_type": "markdown",
   "id": "historical-window",
   "metadata": {},
   "source": [
    "## 1. RandomizedSearchCV"
   ]
  },
  {
   "cell_type": "code",
   "execution_count": null,
   "id": "further-nudist",
   "metadata": {},
   "outputs": [],
   "source": [
    "l1 = np.arange(0,0.0001,0.00001)\n",
    "l2 = np.arange(100,150,5)\n",
    "class_weight=[{0:i,1:j} for i,j in zip(l1,l2)]\n",
    "   "
   ]
  },
  {
   "cell_type": "code",
   "execution_count": null,
   "id": "rough-special",
   "metadata": {},
   "outputs": [],
   "source": [
    "param = {\n",
    "    'n_estimators' : np.arange(100,1000,100),\n",
    "    'criterion'    : ['gini','entropy'],\n",
    "    'max_depth'    : np.arange(3,21,2),\n",
    "    'min_samples_split' : np.arange(5,27,2),\n",
    "    'max_features' : [\"auto\", \"sqrt\", \"log2\"],\n",
    "    'ccp_alpha'    : np.arange(0,0.01,0.001),\n",
    "    'max_samples'  : np.arange(5,100,10),\n",
    "    'class_weight' : class_weight\n",
    "    \n",
    "    \n",
    "}"
   ]
  },
  {
   "cell_type": "markdown",
   "id": "local-chicago",
   "metadata": {},
   "source": [
    "### Use StratifiesKFold For cross-validations and \"ACCURACY\" As a Performance measure"
   ]
  },
  {
   "cell_type": "code",
   "execution_count": null,
   "id": "hungry-mediterranean",
   "metadata": {},
   "outputs": [],
   "source": [
    "cv=StratifiedKFold(n_splits=10,shuffle=True)"
   ]
  },
  {
   "cell_type": "code",
   "execution_count": null,
   "id": "afraid-transcription",
   "metadata": {},
   "outputs": [],
   "source": [
    "rmscv = RandomizedSearchCV(estimator=RandomForestClassifier(),param_distributions=param,\n",
    "                           n_iter=40,scoring='accuracy',n_jobs=7,cv=cv,verbose=5)"
   ]
  },
  {
   "cell_type": "code",
   "execution_count": null,
   "id": "hispanic-explosion",
   "metadata": {},
   "outputs": [],
   "source": [
    "rand  = rmscv.fit(trainx1,trainy1)"
   ]
  },
  {
   "cell_type": "markdown",
   "id": "voluntary-currency",
   "metadata": {},
   "source": [
    "### Best Parameters Using RandomizedSeachCV"
   ]
  },
  {
   "cell_type": "code",
   "execution_count": null,
   "id": "disturbed-wonder",
   "metadata": {},
   "outputs": [],
   "source": [
    "rand.best_estimator_"
   ]
  },
  {
   "cell_type": "code",
   "execution_count": null,
   "id": "handed-knock",
   "metadata": {},
   "outputs": [],
   "source": [
    "trainx1 = trainx1.sample(frac=1)\n",
    "trainy1 = trainy1.sample(frac=1)"
   ]
  },
  {
   "cell_type": "code",
   "execution_count": null,
   "id": "occasional-democracy",
   "metadata": {},
   "outputs": [],
   "source": [
    "rf_n = RandomForestClassifier(class_weight={0: 0.00002, 1: 125}, max_depth=9,\n",
    "                       max_features='log2', max_samples=5, min_samples_split=25,\n",
    "                       n_estimators=600).fit(trainx1,trainy1)"
   ]
  },
  {
   "cell_type": "code",
   "execution_count": null,
   "id": "vulnerable-territory",
   "metadata": {},
   "outputs": [],
   "source": [
    "p2=rf_n.predict(testx1)\n",
    "p2=pd.Series(p2)"
   ]
  },
  {
   "cell_type": "code",
   "execution_count": null,
   "id": "antique-technique",
   "metadata": {},
   "outputs": [],
   "source": [
    "testy.value_counts()"
   ]
  },
  {
   "cell_type": "code",
   "execution_count": null,
   "id": "black-alloy",
   "metadata": {},
   "outputs": [],
   "source": [
    "p2.value_counts()"
   ]
  },
  {
   "cell_type": "markdown",
   "id": "disciplinary-samuel",
   "metadata": {},
   "source": [
    "###  Reports And Matrix"
   ]
  },
  {
   "cell_type": "code",
   "execution_count": null,
   "id": "composed-start",
   "metadata": {},
   "outputs": [],
   "source": [
    "confusion_matrix(testy1,p2)"
   ]
  },
  {
   "cell_type": "code",
   "execution_count": null,
   "id": "optical-islam",
   "metadata": {},
   "outputs": [],
   "source": [
    "print(classification_report(testy1,p2))"
   ]
  },
  {
   "cell_type": "markdown",
   "id": "turned-berry",
   "metadata": {},
   "source": [
    "## Oversampling \n",
    "### Hence This dataset is Highly Imbalance Dataset Apply Oversampling"
   ]
  },
  {
   "cell_type": "code",
   "execution_count": 132,
   "id": "bigger-saskatchewan",
   "metadata": {},
   "outputs": [],
   "source": [
    "from imblearn.over_sampling import SMOTE"
   ]
  },
  {
   "cell_type": "code",
   "execution_count": 133,
   "id": "further-claim",
   "metadata": {},
   "outputs": [],
   "source": [
    "oversample = SMOTE(sampling_strategy=0.6)"
   ]
  },
  {
   "cell_type": "code",
   "execution_count": 134,
   "id": "respected-excuse",
   "metadata": {},
   "outputs": [],
   "source": [
    "X_s1,y_s1 = oversample.fit_resample(X,y)"
   ]
  },
  {
   "cell_type": "code",
   "execution_count": 136,
   "id": "national-calgary",
   "metadata": {},
   "outputs": [
    {
     "name": "stdout",
     "output_type": "stream",
     "text": [
      "0    36548\n",
      "1    21928\n",
      "Name: y, dtype: int64\n",
      "0    36548\n",
      "1     4640\n",
      "Name: y, dtype: int64\n"
     ]
    }
   ],
   "source": [
    "print(y_s1.value_counts())\n",
    "print(y.value_counts())"
   ]
  },
  {
   "cell_type": "code",
   "execution_count": 137,
   "id": "first-shakespeare",
   "metadata": {},
   "outputs": [
    {
     "name": "stdout",
     "output_type": "stream",
     "text": [
      "(41188, 17)\n",
      "(41188,)\n"
     ]
    }
   ],
   "source": [
    "print(X.shape)\n",
    "print(y.shape)"
   ]
  },
  {
   "cell_type": "code",
   "execution_count": 138,
   "id": "liberal-washer",
   "metadata": {},
   "outputs": [
    {
     "name": "stdout",
     "output_type": "stream",
     "text": [
      "(58476, 17)\n",
      "(58476,)\n"
     ]
    }
   ],
   "source": [
    "print(X_s1.shape)\n",
    "print(y_s1.shape)"
   ]
  },
  {
   "cell_type": "markdown",
   "id": "minus-cooler",
   "metadata": {},
   "source": [
    "### Train-Test Split On Oversample Dataset"
   ]
  },
  {
   "cell_type": "code",
   "execution_count": 139,
   "id": "hollywood-charger",
   "metadata": {},
   "outputs": [],
   "source": [
    "trainx_s1,testx_s1,trainy_s1,testy_s1 = train_test_split(X_s1,y_s1,test_size=0.3)"
   ]
  },
  {
   "cell_type": "code",
   "execution_count": 140,
   "id": "external-nurse",
   "metadata": {
    "scrolled": true
   },
   "outputs": [
    {
     "name": "stdout",
     "output_type": "stream",
     "text": [
      "(40933, 17)\n",
      "(40933,)\n",
      "(17543, 17)\n",
      "(17543,)\n"
     ]
    }
   ],
   "source": [
    "print(trainx_s1.shape)\n",
    "print(trainy_s1.shape)\n",
    "print(testx_s1.shape)\n",
    "print(testy_s1.shape)"
   ]
  },
  {
   "cell_type": "markdown",
   "id": "ecological-terminal",
   "metadata": {},
   "source": [
    "### Model Building and Reports Of Oversample Datasets"
   ]
  },
  {
   "cell_type": "code",
   "execution_count": 141,
   "id": "cathedral-calculator",
   "metadata": {},
   "outputs": [],
   "source": [
    "rf1 = RandomForestClassifier().fit(trainx_s1,trainy_s1)"
   ]
  },
  {
   "cell_type": "code",
   "execution_count": 142,
   "id": "hybrid-container",
   "metadata": {},
   "outputs": [],
   "source": [
    "p3 = rf1.predict(testx_s1)\n",
    "p3 = pd.Series(p3)"
   ]
  },
  {
   "cell_type": "code",
   "execution_count": 143,
   "id": "negative-vector",
   "metadata": {},
   "outputs": [
    {
     "data": {
      "text/plain": [
       "0    10990\n",
       "1     6553\n",
       "Name: y, dtype: int64"
      ]
     },
     "execution_count": 143,
     "metadata": {},
     "output_type": "execute_result"
    }
   ],
   "source": [
    "testy_s1.value_counts()"
   ]
  },
  {
   "cell_type": "code",
   "execution_count": 144,
   "id": "alive-matthew",
   "metadata": {},
   "outputs": [
    {
     "data": {
      "text/plain": [
       "0    12516\n",
       "1     5027\n",
       "dtype: int64"
      ]
     },
     "execution_count": 144,
     "metadata": {},
     "output_type": "execute_result"
    }
   ],
   "source": [
    "p3.value_counts()"
   ]
  },
  {
   "cell_type": "code",
   "execution_count": 145,
   "id": "changed-magnet",
   "metadata": {},
   "outputs": [
    {
     "data": {
      "text/plain": [
       "array([[10724,   266],\n",
       "       [ 1792,  4761]], dtype=int64)"
      ]
     },
     "execution_count": 145,
     "metadata": {},
     "output_type": "execute_result"
    }
   ],
   "source": [
    "confusion_matrix(testy_s1,p3)"
   ]
  },
  {
   "cell_type": "code",
   "execution_count": 146,
   "id": "forced-wrist",
   "metadata": {},
   "outputs": [
    {
     "name": "stdout",
     "output_type": "stream",
     "text": [
      "              precision    recall  f1-score   support\n",
      "\n",
      "           0       0.86      0.98      0.91     10990\n",
      "           1       0.95      0.73      0.82      6553\n",
      "\n",
      "    accuracy                           0.88     17543\n",
      "   macro avg       0.90      0.85      0.87     17543\n",
      "weighted avg       0.89      0.88      0.88     17543\n",
      "\n"
     ]
    }
   ],
   "source": [
    "print(classification_report(testy_s1,p3))"
   ]
  },
  {
   "cell_type": "markdown",
   "id": "extraordinary-hungary",
   "metadata": {},
   "source": [
    "##  RandomizedSearchCv\n",
    "### Apply  RandomizedSearchCv On Oversampling Dataset"
   ]
  },
  {
   "cell_type": "code",
   "execution_count": null,
   "id": "injured-matthew",
   "metadata": {},
   "outputs": [],
   "source": [
    "li1 = np.arange(0,0.1,0.01)\n",
    "li2 = np.linspace(0,5,10)\n",
    "\n",
    "\n",
    "cw = [{0:i,1:j} for i,j in zip(li1,li2)]\n"
   ]
  },
  {
   "cell_type": "code",
   "execution_count": null,
   "id": "ahead-robin",
   "metadata": {},
   "outputs": [],
   "source": [
    "param_s = {\n",
    "    'n_estimators' : np.arange(100,1000,100),\n",
    "    'criterion'    : ['gini','entropy'],\n",
    "    'max_depth'    : np.arange(3,21,2),\n",
    "    'min_samples_split' : np.arange(5,27,2),\n",
    "    'max_features' : [\"auto\", \"sqrt\", \"log2\"],\n",
    "    'ccp_alpha'    : np.arange(0,0.01,0.001),\n",
    "    'max_samples'  : np.arange(5,100,10),\n",
    "    'class_weight' : cw\n",
    "   \n",
    "    \n",
    "    \n",
    "}"
   ]
  },
  {
   "cell_type": "markdown",
   "id": "martial-lithuania",
   "metadata": {},
   "source": [
    "### Set RandomizesSearchCV"
   ]
  },
  {
   "cell_type": "code",
   "execution_count": null,
   "id": "physical-diameter",
   "metadata": {},
   "outputs": [],
   "source": [
    "rcv = RandomizedSearchCV(estimator=rf1,param_distributions=param_s,n_iter=40,n_jobs=-1,cv=cv,verbose=7,scoring='accuracy')"
   ]
  },
  {
   "cell_type": "markdown",
   "id": "lyric-victor",
   "metadata": {},
   "source": [
    "### Fit RandomizedSearchCV"
   ]
  },
  {
   "cell_type": "code",
   "execution_count": null,
   "id": "animal-listening",
   "metadata": {},
   "outputs": [],
   "source": [
    "rcv_ms = rcv.fit(trainx_s1,trainy_s1)"
   ]
  },
  {
   "cell_type": "code",
   "execution_count": null,
   "id": "established-border",
   "metadata": {},
   "outputs": [],
   "source": [
    "rcv_ms.best_params_\n"
   ]
  },
  {
   "cell_type": "markdown",
   "id": "competitive-collaboration",
   "metadata": {},
   "source": [
    "## Model Building On Tunned Parameter"
   ]
  },
  {
   "cell_type": "code",
   "execution_count": null,
   "id": "weird-nickel",
   "metadata": {},
   "outputs": [],
   "source": [
    "rf2 = RandomForestClassifier(n_estimators= 300,\n",
    " min_samples_split= 9,\n",
    " max_samples= 25,\n",
    " max_features= 'log2',\n",
    " max_depth= 13,\n",
    " criterion= 'entropy',\n",
    " class_weight= {0:0.5, 1:5},\n",
    " ccp_alpha= 0.003).fit(trainx_s,trainy_s)"
   ]
  },
  {
   "cell_type": "markdown",
   "id": "sustained-thunder",
   "metadata": {},
   "source": [
    "## Cross-Validations For Model we make"
   ]
  },
  {
   "cell_type": "markdown",
   "id": "local-viking",
   "metadata": {},
   "source": [
    "### 1. For Train"
   ]
  },
  {
   "cell_type": "code",
   "execution_count": null,
   "id": "amino-elevation",
   "metadata": {},
   "outputs": [],
   "source": [
    "np.mean(cross_val_score(rf2,trainx_s1,trainy_s1,scoring='accuracy',cv=cv,n_jobs=-1))"
   ]
  },
  {
   "cell_type": "markdown",
   "id": "combined-player",
   "metadata": {},
   "source": [
    "### 2.For Test"
   ]
  },
  {
   "cell_type": "code",
   "execution_count": null,
   "id": "complimentary-advisory",
   "metadata": {},
   "outputs": [],
   "source": [
    "np.mean(cross_val_score(rf2,testx_s1,testy_s1,scoring='accuracy',cv=cv,n_jobs=-1))"
   ]
  },
  {
   "cell_type": "markdown",
   "id": "contemporary-tackle",
   "metadata": {},
   "source": [
    "### Predictions On Test Dataset"
   ]
  },
  {
   "cell_type": "code",
   "execution_count": null,
   "id": "burning-greeting",
   "metadata": {},
   "outputs": [],
   "source": [
    "p4 = rf2.predict(testx_s1)\n",
    "p4 = pd.Series(p4)"
   ]
  },
  {
   "cell_type": "markdown",
   "id": "improved-question",
   "metadata": {},
   "source": [
    "### checking Values count"
   ]
  },
  {
   "cell_type": "code",
   "execution_count": null,
   "id": "promising-stations",
   "metadata": {},
   "outputs": [],
   "source": [
    "testy_s.value_counts()"
   ]
  },
  {
   "cell_type": "code",
   "execution_count": null,
   "id": "essential-toolbox",
   "metadata": {},
   "outputs": [],
   "source": [
    "p4.value_counts()"
   ]
  },
  {
   "cell_type": "markdown",
   "id": "manual-economy",
   "metadata": {},
   "source": [
    "### Reports &  Matrix"
   ]
  },
  {
   "cell_type": "code",
   "execution_count": null,
   "id": "elder-episode",
   "metadata": {},
   "outputs": [],
   "source": [
    "confusion_matrix(testy_s1,p4)"
   ]
  },
  {
   "cell_type": "code",
   "execution_count": null,
   "id": "fleet-moment",
   "metadata": {},
   "outputs": [],
   "source": [
    "print(classification_report(testy_s1,p4))"
   ]
  },
  {
   "cell_type": "markdown",
   "id": "listed-aviation",
   "metadata": {},
   "source": [
    "# Feature Selections (R.Forest)"
   ]
  },
  {
   "cell_type": "code",
   "execution_count": 149,
   "id": "earlier-muscle",
   "metadata": {},
   "outputs": [],
   "source": [
    "from sklearn.feature_selection import RFE"
   ]
  },
  {
   "cell_type": "code",
   "execution_count": 150,
   "id": "israeli-shaft",
   "metadata": {},
   "outputs": [],
   "source": [
    "features1=list(testx_s.columns)"
   ]
  },
  {
   "cell_type": "code",
   "execution_count": 151,
   "id": "molecular-cross",
   "metadata": {},
   "outputs": [],
   "source": [
    "fs1 = RFE(rf,n_features_to_select=10,verbose=5)"
   ]
  },
  {
   "cell_type": "code",
   "execution_count": 152,
   "id": "single-norway",
   "metadata": {},
   "outputs": [
    {
     "name": "stdout",
     "output_type": "stream",
     "text": [
      "Fitting estimator with 17 features.\n",
      "Fitting estimator with 16 features.\n",
      "Fitting estimator with 15 features.\n",
      "Fitting estimator with 14 features.\n",
      "Fitting estimator with 13 features.\n",
      "Fitting estimator with 12 features.\n",
      "Fitting estimator with 11 features.\n"
     ]
    },
    {
     "data": {
      "text/plain": [
       "RFE(estimator=RandomForestClassifier(), n_features_to_select=10, verbose=5)"
      ]
     },
     "execution_count": 152,
     "metadata": {},
     "output_type": "execute_result"
    }
   ],
   "source": [
    "fs1.fit(trainx_s1,trainy_s1)"
   ]
  },
  {
   "cell_type": "code",
   "execution_count": 154,
   "id": "experienced-mauritius",
   "metadata": {},
   "outputs": [],
   "source": [
    "support1 = fs1.support_\n",
    "ranking1 = fs1.ranking_"
   ]
  },
  {
   "cell_type": "code",
   "execution_count": 155,
   "id": "special-powder",
   "metadata": {},
   "outputs": [],
   "source": [
    "df_fs = pd.DataFrame({'feature':features1,'support':support1,'ranking':ranking1})"
   ]
  },
  {
   "cell_type": "code",
   "execution_count": 156,
   "id": "advised-wagner",
   "metadata": {},
   "outputs": [],
   "source": [
    "df_fs1=df_fs.sort_values(by='ranking',axis=0)"
   ]
  },
  {
   "cell_type": "code",
   "execution_count": 157,
   "id": "living-valley",
   "metadata": {},
   "outputs": [
    {
     "data": {
      "text/html": [
       "<div>\n",
       "<style scoped>\n",
       "    .dataframe tbody tr th:only-of-type {\n",
       "        vertical-align: middle;\n",
       "    }\n",
       "\n",
       "    .dataframe tbody tr th {\n",
       "        vertical-align: top;\n",
       "    }\n",
       "\n",
       "    .dataframe thead th {\n",
       "        text-align: right;\n",
       "    }\n",
       "</style>\n",
       "<table border=\"1\" class=\"dataframe\">\n",
       "  <thead>\n",
       "    <tr style=\"text-align: right;\">\n",
       "      <th></th>\n",
       "      <th>feature</th>\n",
       "      <th>support</th>\n",
       "      <th>ranking</th>\n",
       "    </tr>\n",
       "  </thead>\n",
       "  <tbody>\n",
       "    <tr>\n",
       "      <th>0</th>\n",
       "      <td>age</td>\n",
       "      <td>True</td>\n",
       "      <td>1</td>\n",
       "    </tr>\n",
       "    <tr>\n",
       "      <th>14</th>\n",
       "      <td>emp.var.rate</td>\n",
       "      <td>True</td>\n",
       "      <td>1</td>\n",
       "    </tr>\n",
       "    <tr>\n",
       "      <th>11</th>\n",
       "      <td>campaign</td>\n",
       "      <td>True</td>\n",
       "      <td>1</td>\n",
       "    </tr>\n",
       "    <tr>\n",
       "      <th>10</th>\n",
       "      <td>duration</td>\n",
       "      <td>True</td>\n",
       "      <td>1</td>\n",
       "    </tr>\n",
       "    <tr>\n",
       "      <th>9</th>\n",
       "      <td>day_of_week</td>\n",
       "      <td>True</td>\n",
       "      <td>1</td>\n",
       "    </tr>\n",
       "    <tr>\n",
       "      <th>15</th>\n",
       "      <td>cons.conf.idx</td>\n",
       "      <td>True</td>\n",
       "      <td>1</td>\n",
       "    </tr>\n",
       "    <tr>\n",
       "      <th>16</th>\n",
       "      <td>euribor3m</td>\n",
       "      <td>True</td>\n",
       "      <td>1</td>\n",
       "    </tr>\n",
       "    <tr>\n",
       "      <th>4</th>\n",
       "      <td>default</td>\n",
       "      <td>True</td>\n",
       "      <td>1</td>\n",
       "    </tr>\n",
       "    <tr>\n",
       "      <th>3</th>\n",
       "      <td>education</td>\n",
       "      <td>True</td>\n",
       "      <td>1</td>\n",
       "    </tr>\n",
       "    <tr>\n",
       "      <th>1</th>\n",
       "      <td>job</td>\n",
       "      <td>True</td>\n",
       "      <td>1</td>\n",
       "    </tr>\n",
       "    <tr>\n",
       "      <th>8</th>\n",
       "      <td>month</td>\n",
       "      <td>False</td>\n",
       "      <td>2</td>\n",
       "    </tr>\n",
       "    <tr>\n",
       "      <th>5</th>\n",
       "      <td>housing</td>\n",
       "      <td>False</td>\n",
       "      <td>3</td>\n",
       "    </tr>\n",
       "    <tr>\n",
       "      <th>2</th>\n",
       "      <td>marital</td>\n",
       "      <td>False</td>\n",
       "      <td>4</td>\n",
       "    </tr>\n",
       "    <tr>\n",
       "      <th>6</th>\n",
       "      <td>loan</td>\n",
       "      <td>False</td>\n",
       "      <td>5</td>\n",
       "    </tr>\n",
       "    <tr>\n",
       "      <th>7</th>\n",
       "      <td>contact</td>\n",
       "      <td>False</td>\n",
       "      <td>6</td>\n",
       "    </tr>\n",
       "    <tr>\n",
       "      <th>13</th>\n",
       "      <td>poutcome</td>\n",
       "      <td>False</td>\n",
       "      <td>7</td>\n",
       "    </tr>\n",
       "    <tr>\n",
       "      <th>12</th>\n",
       "      <td>pdays</td>\n",
       "      <td>False</td>\n",
       "      <td>8</td>\n",
       "    </tr>\n",
       "  </tbody>\n",
       "</table>\n",
       "</div>"
      ],
      "text/plain": [
       "          feature  support  ranking\n",
       "0             age     True        1\n",
       "14   emp.var.rate     True        1\n",
       "11       campaign     True        1\n",
       "10       duration     True        1\n",
       "9     day_of_week     True        1\n",
       "15  cons.conf.idx     True        1\n",
       "16      euribor3m     True        1\n",
       "4         default     True        1\n",
       "3       education     True        1\n",
       "1             job     True        1\n",
       "8           month    False        2\n",
       "5         housing    False        3\n",
       "2         marital    False        4\n",
       "6            loan    False        5\n",
       "7         contact    False        6\n",
       "13       poutcome    False        7\n",
       "12          pdays    False        8"
      ]
     },
     "execution_count": 157,
     "metadata": {},
     "output_type": "execute_result"
    }
   ],
   "source": [
    "df_fs1"
   ]
  },
  {
   "cell_type": "code",
   "execution_count": 158,
   "id": "august-investigation",
   "metadata": {},
   "outputs": [],
   "source": [
    "filt1=df_fs1['ranking']==1"
   ]
  },
  {
   "cell_type": "code",
   "execution_count": 159,
   "id": "surrounded-skiing",
   "metadata": {},
   "outputs": [],
   "source": [
    "selected_f1 = df_fs1.loc[filt1]['feature'].to_list()"
   ]
  },
  {
   "cell_type": "code",
   "execution_count": 162,
   "id": "breathing-acting",
   "metadata": {},
   "outputs": [],
   "source": [
    "fs_x1 = X_s[selected_f1]\n",
    "fs_y1 = y_s"
   ]
  },
  {
   "cell_type": "code",
   "execution_count": 163,
   "id": "technological-california",
   "metadata": {},
   "outputs": [
    {
     "name": "stdout",
     "output_type": "stream",
     "text": [
      "(58476, 10)\n",
      "(58476,)\n"
     ]
    }
   ],
   "source": [
    "print(fs_x1.shape)\n",
    "print(fs_y1.shape)"
   ]
  },
  {
   "cell_type": "markdown",
   "id": "quiet-volleyball",
   "metadata": {},
   "source": [
    "### Train-Test Splits On Selected Features"
   ]
  },
  {
   "cell_type": "code",
   "execution_count": 164,
   "id": "short-conditioning",
   "metadata": {},
   "outputs": [],
   "source": [
    "train_fs_x1,test_fs_x1,train_fs_y1,test_fs_y1 = train_test_split(fs_x1,fs_y1,test_size=0.3)"
   ]
  },
  {
   "cell_type": "code",
   "execution_count": 165,
   "id": "revolutionary-church",
   "metadata": {},
   "outputs": [
    {
     "name": "stdout",
     "output_type": "stream",
     "text": [
      "(40933, 10)\n",
      "(40933,)\n",
      "(17543, 10)\n",
      "(17543,)\n"
     ]
    }
   ],
   "source": [
    "print(train_fs_x1.shape)\n",
    "print(train_fs_y1.shape)\n",
    "print(test_fs_x1.shape)\n",
    "print(test_fs_y1.shape)\n"
   ]
  },
  {
   "cell_type": "markdown",
   "id": "afraid-sally",
   "metadata": {},
   "source": [
    "### Model Building On Selected Features "
   ]
  },
  {
   "cell_type": "code",
   "execution_count": 166,
   "id": "disciplinary-blair",
   "metadata": {},
   "outputs": [],
   "source": [
    "rf3 = RandomForestClassifier().fit(train_fs_x1,train_fs_y1)"
   ]
  },
  {
   "cell_type": "code",
   "execution_count": null,
   "id": "reliable-monkey",
   "metadata": {},
   "outputs": [],
   "source": [
    "p5 = rf3.predict(test_fs_x1)\n",
    "p5 = pd.Series(p5)"
   ]
  },
  {
   "cell_type": "code",
   "execution_count": null,
   "id": "chicken-tennis",
   "metadata": {},
   "outputs": [],
   "source": [
    "test_fs_y1.value_counts()"
   ]
  },
  {
   "cell_type": "code",
   "execution_count": null,
   "id": "colored-salad",
   "metadata": {},
   "outputs": [],
   "source": [
    "p5.value_counts()"
   ]
  },
  {
   "cell_type": "markdown",
   "id": "helpful-stroke",
   "metadata": {},
   "source": [
    "### Matrix & Reports"
   ]
  },
  {
   "cell_type": "code",
   "execution_count": null,
   "id": "resistant-beatles",
   "metadata": {},
   "outputs": [],
   "source": [
    "confusion_matrix(test_fs_y1,p5)"
   ]
  },
  {
   "cell_type": "code",
   "execution_count": null,
   "id": "committed-duncan",
   "metadata": {},
   "outputs": [],
   "source": [
    "print(classification_report(test_fs_y1,p5))"
   ]
  },
  {
   "cell_type": "markdown",
   "id": "turned-given",
   "metadata": {},
   "source": [
    "##  RandomizedSearchCv\n",
    "### Apply Hyperparameter Tunning On Selected Feature and Build New Model"
   ]
  },
  {
   "cell_type": "code",
   "execution_count": null,
   "id": "elementary-wheat",
   "metadata": {},
   "outputs": [],
   "source": [
    "list1 = np.arange(0,0.1,0.01)\n",
    "list2 = np.linspace(0,10,10)\n",
    "\n",
    "\n",
    "class_weight1= [{0:i,1:j} for i,j in zip(list1,list2)]\n"
   ]
  },
  {
   "cell_type": "code",
   "execution_count": null,
   "id": "selective-oxford",
   "metadata": {},
   "outputs": [],
   "source": [
    "param_fs = {\n",
    "    'n_estimators' : np.arange(100,1000,100),\n",
    "    'criterion'    : ['gini','entropy'],\n",
    "    'max_depth'    : np.arange(3,21,2),\n",
    "    'min_samples_split' : np.arange(5,27,2),\n",
    "    'max_features' : [\"auto\", \"sqrt\", \"log2\"],\n",
    "    'ccp_alpha'    : np.arange(0,0.01,0.001),\n",
    "    'max_samples'  : np.arange(5,100,10),\n",
    "    'class_weight' : class_weight1\n",
    "   \n",
    "    \n",
    "    \n",
    "}"
   ]
  },
  {
   "cell_type": "code",
   "execution_count": null,
   "id": "yellow-reunion",
   "metadata": {},
   "outputs": [],
   "source": [
    "r = RandomizedSearchCV(estimator=rf3,param_distributions=param_fs,n_iter=100,cv=cv,scoring='recall',verbose=5,n_jobs=-1)"
   ]
  },
  {
   "cell_type": "markdown",
   "id": "needed-hampshire",
   "metadata": {},
   "source": [
    "### Fit the Model"
   ]
  },
  {
   "cell_type": "code",
   "execution_count": null,
   "id": "ordered-tomorrow",
   "metadata": {},
   "outputs": [],
   "source": [
    "rv=r.fit(train_fs_x1,train_fs_y1)"
   ]
  },
  {
   "cell_type": "code",
   "execution_count": null,
   "id": "saving-clear",
   "metadata": {},
   "outputs": [],
   "source": [
    "rv.best_params_"
   ]
  },
  {
   "cell_type": "markdown",
   "id": "varying-collect",
   "metadata": {},
   "source": [
    "### Build the Model \n",
    "### Model Building On Tunned Parameters"
   ]
  },
  {
   "cell_type": "code",
   "execution_count": null,
   "id": "protected-fraud",
   "metadata": {},
   "outputs": [],
   "source": [
    "rf4 = RandomForestClassifier(n_estimators= 600,\n",
    " min_samples_split= 13,\n",
    " max_samples= 65,\n",
    " max_features= 'sqrt',\n",
    " max_depth= 19,\n",
    " criterion= 'gini',\n",
    " class_weight= {0: 2, 1:8.9},\n",
    " ccp_alpha= 0.009000000000000001).fit(train_fs_x,train_fs_y)"
   ]
  },
  {
   "cell_type": "code",
   "execution_count": null,
   "id": "operational-working",
   "metadata": {},
   "outputs": [],
   "source": [
    "p6 = rf4.predict(test_fs_x1)\n",
    "p6 = pd.Series(p6)"
   ]
  },
  {
   "cell_type": "code",
   "execution_count": null,
   "id": "twenty-summary",
   "metadata": {},
   "outputs": [],
   "source": [
    "test_fs_y1.value_counts()"
   ]
  },
  {
   "cell_type": "code",
   "execution_count": null,
   "id": "atomic-profile",
   "metadata": {},
   "outputs": [],
   "source": [
    "p6.value_counts()"
   ]
  },
  {
   "cell_type": "markdown",
   "id": "personalized-giant",
   "metadata": {},
   "source": [
    "### Reports & Matrix"
   ]
  },
  {
   "cell_type": "code",
   "execution_count": null,
   "id": "polished-perception",
   "metadata": {},
   "outputs": [],
   "source": [
    "confusion_matrix(test_fs_y1,p6)"
   ]
  },
  {
   "cell_type": "code",
   "execution_count": null,
   "id": "vanilla-representative",
   "metadata": {},
   "outputs": [],
   "source": [
    "print(classification_report(test_fs_y1,p6))"
   ]
  },
  {
   "cell_type": "markdown",
   "id": "greenhouse-toddler",
   "metadata": {},
   "source": [
    "### Cross-Validations on Final Model"
   ]
  },
  {
   "cell_type": "markdown",
   "id": "humanitarian-rough",
   "metadata": {},
   "source": [
    "#### 1.Train-Dataset"
   ]
  },
  {
   "cell_type": "code",
   "execution_count": null,
   "id": "handmade-split",
   "metadata": {},
   "outputs": [],
   "source": [
    "np.mean(cross_val_score(rf4,train_fs_x1,train_fs_y1,cv=cv,scoring='accuracy',n_jobs=-1))"
   ]
  },
  {
   "cell_type": "markdown",
   "id": "gross-highlight",
   "metadata": {},
   "source": [
    "#### 2. Test-Dataset"
   ]
  },
  {
   "cell_type": "code",
   "execution_count": null,
   "id": "alleged-egypt",
   "metadata": {},
   "outputs": [],
   "source": [
    "np.mean(cross_val_score(rf4,test_fs_x1,test_fs_y1,cv=cv,scoring='accuracy',n_jobs=-1))"
   ]
  },
  {
   "cell_type": "markdown",
   "id": "educational-respondent",
   "metadata": {},
   "source": [
    "## Compare All Models Build So Far"
   ]
  },
  {
   "cell_type": "markdown",
   "id": "broad-third",
   "metadata": {},
   "source": [
    "## 1. Base Model"
   ]
  },
  {
   "cell_type": "code",
   "execution_count": null,
   "id": "dress-round",
   "metadata": {},
   "outputs": [],
   "source": [
    "confusion_matrix(testy1,p1)"
   ]
  },
  {
   "cell_type": "code",
   "execution_count": null,
   "id": "overall-problem",
   "metadata": {},
   "outputs": [],
   "source": [
    "print(classification_report(testy1,p1))"
   ]
  },
  {
   "cell_type": "markdown",
   "id": "minimal-simulation",
   "metadata": {},
   "source": [
    "##  2. Base Model With Hyperparameter Tunning (RandomizedSearchCV)"
   ]
  },
  {
   "cell_type": "code",
   "execution_count": null,
   "id": "impressive-coating",
   "metadata": {},
   "outputs": [],
   "source": [
    "confusion_matrix(testy1,p2)"
   ]
  },
  {
   "cell_type": "code",
   "execution_count": null,
   "id": "twenty-deposit",
   "metadata": {},
   "outputs": [],
   "source": [
    "print(classification_report(testy1,p2))"
   ]
  },
  {
   "cell_type": "markdown",
   "id": "occupied-clone",
   "metadata": {},
   "source": [
    "## 3. Base Model With Oversampling Technique"
   ]
  },
  {
   "cell_type": "code",
   "execution_count": null,
   "id": "quantitative-equivalent",
   "metadata": {},
   "outputs": [],
   "source": [
    "confusion_matrix(testy_s1,p3)"
   ]
  },
  {
   "cell_type": "code",
   "execution_count": null,
   "id": "literary-genesis",
   "metadata": {},
   "outputs": [],
   "source": [
    "print(classification_report(testy_s1,p3))"
   ]
  },
  {
   "cell_type": "markdown",
   "id": "obvious-april",
   "metadata": {},
   "source": [
    "## 4. Base Model Oversampling with Hyperparameter Technique(RandomizedSearchCV)"
   ]
  },
  {
   "cell_type": "code",
   "execution_count": null,
   "id": "acknowledged-temple",
   "metadata": {},
   "outputs": [],
   "source": [
    "confusion_matrix(testy_s1,p4)"
   ]
  },
  {
   "cell_type": "code",
   "execution_count": null,
   "id": "congressional-measure",
   "metadata": {},
   "outputs": [],
   "source": [
    "print(classification_report(testy_s1,p4))"
   ]
  },
  {
   "cell_type": "markdown",
   "id": "attempted-roller",
   "metadata": {},
   "source": [
    "## 5.Feature Selection Model"
   ]
  },
  {
   "cell_type": "code",
   "execution_count": null,
   "id": "elect-vegetation",
   "metadata": {},
   "outputs": [],
   "source": [
    "confusion_matrix(test_fs_y1,p5)"
   ]
  },
  {
   "cell_type": "code",
   "execution_count": null,
   "id": "sitting-calculation",
   "metadata": {},
   "outputs": [],
   "source": [
    "print(classification_report(test_fs_y1,p5))"
   ]
  },
  {
   "cell_type": "markdown",
   "id": "stupid-general",
   "metadata": {},
   "source": [
    "## 6.Feature Selection Model with HyperParameter Tunning (RandomisedSearch Cv)"
   ]
  },
  {
   "cell_type": "code",
   "execution_count": null,
   "id": "attempted-treasury",
   "metadata": {},
   "outputs": [],
   "source": [
    "confusion_matrix(test_fs_y1,p6)"
   ]
  },
  {
   "cell_type": "code",
   "execution_count": null,
   "id": "noticed-representative",
   "metadata": {},
   "outputs": [],
   "source": [
    "print(classification_report(test_fs_y1,p6))"
   ]
  },
  {
   "cell_type": "markdown",
   "id": "official-massage",
   "metadata": {},
   "source": [
    "### from above comparizon we say model number 5 is Best among all"
   ]
  },
  {
   "cell_type": "markdown",
   "id": "complete-place",
   "metadata": {},
   "source": [
    "### export model 5 In pickle file so can save time"
   ]
  },
  {
   "cell_type": "code",
   "execution_count": null,
   "id": "unnecessary-warner",
   "metadata": {},
   "outputs": [],
   "source": [
    "import pickle"
   ]
  },
  {
   "cell_type": "code",
   "execution_count": null,
   "id": "increasing-seattle",
   "metadata": {},
   "outputs": [],
   "source": [
    "filename = 'rf.pkl'"
   ]
  },
  {
   "cell_type": "code",
   "execution_count": null,
   "id": "loving-exploration",
   "metadata": {},
   "outputs": [],
   "source": [
    "pickle.dump(rf3,open(filename,'wb'))"
   ]
  },
  {
   "cell_type": "code",
   "execution_count": null,
   "id": "noted-acquisition",
   "metadata": {},
   "outputs": [],
   "source": [
    "model = pickle.load(open(filename,'rb'))"
   ]
  },
  {
   "cell_type": "markdown",
   "id": "organizational-touch",
   "metadata": {},
   "source": [
    "### Verify Pickle Model Below"
   ]
  },
  {
   "cell_type": "code",
   "execution_count": null,
   "id": "fallen-combination",
   "metadata": {},
   "outputs": [],
   "source": [
    "p7=model.predict(test_fs_x1)"
   ]
  },
  {
   "cell_type": "code",
   "execution_count": null,
   "id": "protected-cooper",
   "metadata": {},
   "outputs": [],
   "source": [
    "confusion_matrix(test_fs_y1,p7)"
   ]
  },
  {
   "cell_type": "markdown",
   "id": "crude-champagne",
   "metadata": {},
   "source": [
    "# 2.Boosting"
   ]
  },
  {
   "cell_type": "markdown",
   "id": "graphic-bidder",
   "metadata": {},
   "source": [
    "## 1.ADA Boost"
   ]
  },
  {
   "cell_type": "code",
   "execution_count": 178,
   "id": "specified-soviet",
   "metadata": {},
   "outputs": [],
   "source": [
    "from sklearn.ensemble import AdaBoostClassifier,GradientBoostingClassifier"
   ]
  },
  {
   "cell_type": "markdown",
   "id": "collected-mozambique",
   "metadata": {},
   "source": [
    "## Model Building"
   ]
  },
  {
   "cell_type": "code",
   "execution_count": 180,
   "id": "convenient-atlanta",
   "metadata": {},
   "outputs": [],
   "source": [
    "ad1 = AdaBoostClassifier(base_estimator=DecisionTreeClassifier(max_depth=1),n_estimators=100,algorithm='SAMME.R').fit(trainx_s,trainy_s)"
   ]
  },
  {
   "cell_type": "code",
   "execution_count": 181,
   "id": "exotic-evolution",
   "metadata": {},
   "outputs": [],
   "source": [
    "pred1 = ad1.predict(testx_s1)\n",
    "pred1 = pd.Series(pred1)"
   ]
  },
  {
   "cell_type": "code",
   "execution_count": 182,
   "id": "ecological-least",
   "metadata": {},
   "outputs": [
    {
     "data": {
      "text/plain": [
       "0    10953\n",
       "1     6590\n",
       "Name: y, dtype: int64"
      ]
     },
     "execution_count": 182,
     "metadata": {},
     "output_type": "execute_result"
    }
   ],
   "source": [
    "testy_s.value_counts()"
   ]
  },
  {
   "cell_type": "code",
   "execution_count": 183,
   "id": "frequent-antigua",
   "metadata": {},
   "outputs": [
    {
     "data": {
      "text/plain": [
       "0    13000\n",
       "1     4543\n",
       "dtype: int64"
      ]
     },
     "execution_count": 183,
     "metadata": {},
     "output_type": "execute_result"
    }
   ],
   "source": [
    "pred1.value_counts()"
   ]
  },
  {
   "cell_type": "markdown",
   "id": "wrong-johns",
   "metadata": {},
   "source": [
    "### Reports & Matrix"
   ]
  },
  {
   "cell_type": "code",
   "execution_count": 184,
   "id": "level-muslim",
   "metadata": {},
   "outputs": [
    {
     "data": {
      "text/plain": [
       "array([[10245,   745],\n",
       "       [ 2755,  3798]], dtype=int64)"
      ]
     },
     "execution_count": 184,
     "metadata": {},
     "output_type": "execute_result"
    }
   ],
   "source": [
    "confusion_matrix(testy_s1,pred1)"
   ]
  },
  {
   "cell_type": "code",
   "execution_count": 185,
   "id": "dutch-tumor",
   "metadata": {},
   "outputs": [
    {
     "name": "stdout",
     "output_type": "stream",
     "text": [
      "              precision    recall  f1-score   support\n",
      "\n",
      "           0       0.79      0.93      0.85     10990\n",
      "           1       0.84      0.58      0.68      6553\n",
      "\n",
      "    accuracy                           0.80     17543\n",
      "   macro avg       0.81      0.76      0.77     17543\n",
      "weighted avg       0.81      0.80      0.79     17543\n",
      "\n"
     ]
    }
   ],
   "source": [
    "print(classification_report(testy_s1,pred1))"
   ]
  },
  {
   "cell_type": "markdown",
   "id": "compressed-ground",
   "metadata": {},
   "source": [
    "## Hyperparameter Tunning Using Randomized and GridSearch CV\n",
    "## 1.Randomized Search CV"
   ]
  },
  {
   "cell_type": "code",
   "execution_count": 186,
   "id": "upset-seattle",
   "metadata": {},
   "outputs": [],
   "source": [
    "cv =StratifiedKFold(n_splits=10,shuffle=True)"
   ]
  },
  {
   "cell_type": "code",
   "execution_count": null,
   "id": "thrown-pixel",
   "metadata": {},
   "outputs": [],
   "source": [
    "parameter = {\n",
    "    'n_estimators' : np.arange(50,400,50),\n",
    "    'learning_rate':[0.0001,0.0005,0.0007,0.001,0.005,0.007,0.01,0.03,0.07,0.1,0.3,0.7,1]\n",
    "}"
   ]
  },
  {
   "cell_type": "code",
   "execution_count": null,
   "id": "exciting-reserve",
   "metadata": {},
   "outputs": [],
   "source": [
    "rcv_ada = RandomizedSearchCV(estimator=ad1,param_distributions=parameter,n_iter=35,scoring='accuracy',n_jobs=-1,cv=cv,verbose=5,)"
   ]
  },
  {
   "cell_type": "code",
   "execution_count": null,
   "id": "apart-duration",
   "metadata": {},
   "outputs": [],
   "source": [
    "random=rcv_ada.fit(trainx_s1,trainy_s1)"
   ]
  },
  {
   "cell_type": "markdown",
   "id": "missing-plasma",
   "metadata": {},
   "source": [
    "## 2.GridSearch CV"
   ]
  },
  {
   "cell_type": "code",
   "execution_count": null,
   "id": "indirect-fraud",
   "metadata": {},
   "outputs": [],
   "source": [
    "random.best_params_"
   ]
  },
  {
   "cell_type": "code",
   "execution_count": null,
   "id": "level-tunnel",
   "metadata": {},
   "outputs": [],
   "source": [
    "grid_para = {\n",
    "    'n_estimators' :[random.best_params_['n_estimators']-100,[random.best_params_['n_estimators']-50,random.best_params_['n_estimators']\n",
    "                     ,random.best_params_['n_estimators']+50],random.best_params_['n_estimators']+100],\n",
    "    'learning_rate':[random.best_params_['learning_rate']-0.2,random.best_params_['learning_rate']-0.1,random.best_params_['learning_rate']\n",
    "                     ,random.best_params_['learning_rate']+0.1,random.best_params_['learning_rate']+0.2]\n",
    "    \n",
    "}"
   ]
  },
  {
   "cell_type": "code",
   "execution_count": null,
   "id": "saving-modem",
   "metadata": {},
   "outputs": [],
   "source": [
    "grid = GridSearchCV(estimator=ad1,param_grid=grid_para,scoring='accuracy',n_jobs=-1,cv=cv,verbose=5)"
   ]
  },
  {
   "cell_type": "code",
   "execution_count": null,
   "id": "according-sculpture",
   "metadata": {},
   "outputs": [],
   "source": [
    "grid_cv = grid.fit(trainx_s1,trainy_s1)"
   ]
  },
  {
   "cell_type": "code",
   "execution_count": null,
   "id": "flexible-korean",
   "metadata": {},
   "outputs": [],
   "source": [
    "grid_cv.best_params_"
   ]
  },
  {
   "cell_type": "markdown",
   "id": "certain-barcelona",
   "metadata": {},
   "source": [
    "### Model Build Using Tunned Parameter."
   ]
  },
  {
   "cell_type": "code",
   "execution_count": null,
   "id": "adverse-credits",
   "metadata": {},
   "outputs": [],
   "source": [
    "ad2 = AdaBoostClassifier(base_estimator=DecisionTreeClassifier(max_depth=1,class_weight={0:0.99,1:2.1}),algorithm='SAMME.R',\n",
    "                         learning_rate =  1.2 ,n_estimators= 450).fit(trainx_s,trainy_s)"
   ]
  },
  {
   "cell_type": "code",
   "execution_count": null,
   "id": "ordinary-brunswick",
   "metadata": {},
   "outputs": [],
   "source": [
    "pred2 = ad2.predict(testx_s1)\n",
    "pred2 = pd.Series(pred2)"
   ]
  },
  {
   "cell_type": "code",
   "execution_count": null,
   "id": "mighty-trash",
   "metadata": {},
   "outputs": [],
   "source": [
    "testy_s1.value_counts()"
   ]
  },
  {
   "cell_type": "code",
   "execution_count": null,
   "id": "pharmaceutical-camera",
   "metadata": {},
   "outputs": [],
   "source": [
    "pred2.value_counts()"
   ]
  },
  {
   "cell_type": "markdown",
   "id": "assisted-demographic",
   "metadata": {},
   "source": [
    "### Reports & Matrix"
   ]
  },
  {
   "cell_type": "code",
   "execution_count": null,
   "id": "enclosed-imagination",
   "metadata": {},
   "outputs": [],
   "source": [
    "confusion_matrix(testy_s1,pred2)"
   ]
  },
  {
   "cell_type": "code",
   "execution_count": null,
   "id": "cultural-villa",
   "metadata": {},
   "outputs": [],
   "source": [
    "print(classification_report(testy_s1,pred2))"
   ]
  },
  {
   "cell_type": "markdown",
   "id": "refined-infrared",
   "metadata": {},
   "source": [
    "## ROC Curve (AdaBoost) "
   ]
  },
  {
   "cell_type": "code",
   "execution_count": null,
   "id": "unauthorized-adult",
   "metadata": {},
   "outputs": [],
   "source": [
    "from sklearn.metrics import roc_auc_score,roc_curve"
   ]
  },
  {
   "cell_type": "code",
   "execution_count": null,
   "id": "pending-emerald",
   "metadata": {},
   "outputs": [],
   "source": [
    "roc_auc = roc_auc_score(testy_s1,pred2)"
   ]
  },
  {
   "cell_type": "code",
   "execution_count": null,
   "id": "civic-labor",
   "metadata": {},
   "outputs": [],
   "source": [
    "fpr,tpr,th = roc_curve(testy_s1,pred2)"
   ]
  },
  {
   "cell_type": "code",
   "execution_count": null,
   "id": "operating-poland",
   "metadata": {},
   "outputs": [],
   "source": [
    "plt.plot(fpr,tpr,label=f'{roc_auc:.2f}')\n",
    "plt.legend(loc='lower right')\n",
    "plt.plot(th,th,'o-.')\n",
    "plt.xlim([0,1])\n",
    "plt.ylim([0,1])\n",
    "plt.title('AdaBoost Classifier')\n",
    "plt.ylabel('True Positive Rate')\n",
    "plt.xlabel('False Positive Rate')\n"
   ]
  },
  {
   "cell_type": "markdown",
   "id": "massive-sodium",
   "metadata": {},
   "source": [
    "##  Feature Selection(AdaBoost)"
   ]
  },
  {
   "cell_type": "code",
   "execution_count": 175,
   "id": "graduate-kinase",
   "metadata": {},
   "outputs": [],
   "source": [
    "from sklearn.feature_selection import RFE"
   ]
  },
  {
   "cell_type": "code",
   "execution_count": 187,
   "id": "careful-tours",
   "metadata": {},
   "outputs": [],
   "source": [
    "rfe2 = RFE(estimator=ad1,n_features_to_select=7,verbose=5)"
   ]
  },
  {
   "cell_type": "code",
   "execution_count": 189,
   "id": "lucky-progress",
   "metadata": {},
   "outputs": [
    {
     "name": "stdout",
     "output_type": "stream",
     "text": [
      "Fitting estimator with 17 features.\n",
      "Fitting estimator with 16 features.\n",
      "Fitting estimator with 15 features.\n",
      "Fitting estimator with 14 features.\n",
      "Fitting estimator with 13 features.\n",
      "Fitting estimator with 12 features.\n",
      "Fitting estimator with 11 features.\n",
      "Fitting estimator with 10 features.\n",
      "Fitting estimator with 9 features.\n",
      "Fitting estimator with 8 features.\n"
     ]
    }
   ],
   "source": [
    "rfe_fs2=rfe2.fit(trainx_s1,trainy_s1)"
   ]
  },
  {
   "cell_type": "code",
   "execution_count": 191,
   "id": "searching-vector",
   "metadata": {},
   "outputs": [],
   "source": [
    "ranking2 = rfe_fs2.ranking_"
   ]
  },
  {
   "cell_type": "code",
   "execution_count": 192,
   "id": "fossil-allen",
   "metadata": {},
   "outputs": [],
   "source": [
    "features2=list(trainx_s1.columns)"
   ]
  },
  {
   "cell_type": "code",
   "execution_count": 193,
   "id": "embedded-things",
   "metadata": {},
   "outputs": [],
   "source": [
    "new_df2 = pd.DataFrame({'feature':features2,'ranking':ranking2})"
   ]
  },
  {
   "cell_type": "code",
   "execution_count": 194,
   "id": "downtown-decision",
   "metadata": {},
   "outputs": [],
   "source": [
    "new_df2 = new_df2.sort_values(by='ranking',axis=0)"
   ]
  },
  {
   "cell_type": "code",
   "execution_count": 195,
   "id": "proper-adventure",
   "metadata": {},
   "outputs": [
    {
     "data": {
      "text/html": [
       "<div>\n",
       "<style scoped>\n",
       "    .dataframe tbody tr th:only-of-type {\n",
       "        vertical-align: middle;\n",
       "    }\n",
       "\n",
       "    .dataframe tbody tr th {\n",
       "        vertical-align: top;\n",
       "    }\n",
       "\n",
       "    .dataframe thead th {\n",
       "        text-align: right;\n",
       "    }\n",
       "</style>\n",
       "<table border=\"1\" class=\"dataframe\">\n",
       "  <thead>\n",
       "    <tr style=\"text-align: right;\">\n",
       "      <th></th>\n",
       "      <th>feature</th>\n",
       "      <th>ranking</th>\n",
       "    </tr>\n",
       "  </thead>\n",
       "  <tbody>\n",
       "    <tr>\n",
       "      <th>8</th>\n",
       "      <td>month</td>\n",
       "      <td>1</td>\n",
       "    </tr>\n",
       "    <tr>\n",
       "      <th>14</th>\n",
       "      <td>emp.var.rate</td>\n",
       "      <td>1</td>\n",
       "    </tr>\n",
       "    <tr>\n",
       "      <th>15</th>\n",
       "      <td>cons.conf.idx</td>\n",
       "      <td>1</td>\n",
       "    </tr>\n",
       "    <tr>\n",
       "      <th>4</th>\n",
       "      <td>default</td>\n",
       "      <td>1</td>\n",
       "    </tr>\n",
       "    <tr>\n",
       "      <th>16</th>\n",
       "      <td>euribor3m</td>\n",
       "      <td>1</td>\n",
       "    </tr>\n",
       "    <tr>\n",
       "      <th>1</th>\n",
       "      <td>job</td>\n",
       "      <td>1</td>\n",
       "    </tr>\n",
       "    <tr>\n",
       "      <th>3</th>\n",
       "      <td>education</td>\n",
       "      <td>1</td>\n",
       "    </tr>\n",
       "    <tr>\n",
       "      <th>13</th>\n",
       "      <td>poutcome</td>\n",
       "      <td>2</td>\n",
       "    </tr>\n",
       "    <tr>\n",
       "      <th>2</th>\n",
       "      <td>marital</td>\n",
       "      <td>3</td>\n",
       "    </tr>\n",
       "    <tr>\n",
       "      <th>5</th>\n",
       "      <td>housing</td>\n",
       "      <td>4</td>\n",
       "    </tr>\n",
       "    <tr>\n",
       "      <th>11</th>\n",
       "      <td>campaign</td>\n",
       "      <td>5</td>\n",
       "    </tr>\n",
       "    <tr>\n",
       "      <th>9</th>\n",
       "      <td>day_of_week</td>\n",
       "      <td>6</td>\n",
       "    </tr>\n",
       "    <tr>\n",
       "      <th>7</th>\n",
       "      <td>contact</td>\n",
       "      <td>7</td>\n",
       "    </tr>\n",
       "    <tr>\n",
       "      <th>6</th>\n",
       "      <td>loan</td>\n",
       "      <td>8</td>\n",
       "    </tr>\n",
       "    <tr>\n",
       "      <th>12</th>\n",
       "      <td>pdays</td>\n",
       "      <td>9</td>\n",
       "    </tr>\n",
       "    <tr>\n",
       "      <th>10</th>\n",
       "      <td>duration</td>\n",
       "      <td>10</td>\n",
       "    </tr>\n",
       "    <tr>\n",
       "      <th>0</th>\n",
       "      <td>age</td>\n",
       "      <td>11</td>\n",
       "    </tr>\n",
       "  </tbody>\n",
       "</table>\n",
       "</div>"
      ],
      "text/plain": [
       "          feature  ranking\n",
       "8           month        1\n",
       "14   emp.var.rate        1\n",
       "15  cons.conf.idx        1\n",
       "4         default        1\n",
       "16      euribor3m        1\n",
       "1             job        1\n",
       "3       education        1\n",
       "13       poutcome        2\n",
       "2         marital        3\n",
       "5         housing        4\n",
       "11       campaign        5\n",
       "9     day_of_week        6\n",
       "7         contact        7\n",
       "6            loan        8\n",
       "12          pdays        9\n",
       "10       duration       10\n",
       "0             age       11"
      ]
     },
     "execution_count": 195,
     "metadata": {},
     "output_type": "execute_result"
    }
   ],
   "source": [
    "new_df2"
   ]
  },
  {
   "cell_type": "code",
   "execution_count": 196,
   "id": "vanilla-poetry",
   "metadata": {},
   "outputs": [],
   "source": [
    "filt2=new_df2['ranking']==1"
   ]
  },
  {
   "cell_type": "code",
   "execution_count": 197,
   "id": "congressional-discount",
   "metadata": {},
   "outputs": [],
   "source": [
    "select_feature2 =  new_df2.loc[filt2]['feature'].to_list()"
   ]
  },
  {
   "cell_type": "code",
   "execution_count": 198,
   "id": "cooked-guidance",
   "metadata": {},
   "outputs": [
    {
     "data": {
      "text/plain": [
       "['month',\n",
       " 'emp.var.rate',\n",
       " 'cons.conf.idx',\n",
       " 'default',\n",
       " 'euribor3m',\n",
       " 'job',\n",
       " 'education']"
      ]
     },
     "execution_count": 198,
     "metadata": {},
     "output_type": "execute_result"
    }
   ],
   "source": [
    "select_feature2"
   ]
  },
  {
   "cell_type": "markdown",
   "id": "fixed-deputy",
   "metadata": {},
   "source": [
    "## Model Building and Evalutions on Selected Features"
   ]
  },
  {
   "cell_type": "code",
   "execution_count": 199,
   "id": "related-detector",
   "metadata": {},
   "outputs": [],
   "source": [
    "X_fs2 = X_s1[select_feature2]\n",
    "y_fs2 = y_s1"
   ]
  },
  {
   "cell_type": "code",
   "execution_count": 200,
   "id": "sublime-cambridge",
   "metadata": {},
   "outputs": [
    {
     "name": "stdout",
     "output_type": "stream",
     "text": [
      "(58476, 7)\n",
      "(58476,)\n"
     ]
    }
   ],
   "source": [
    "print(X_fs2.shape)\n",
    "print(y_fs2.shape)"
   ]
  },
  {
   "cell_type": "code",
   "execution_count": 201,
   "id": "retired-drink",
   "metadata": {},
   "outputs": [],
   "source": [
    "trainx_fs_ada,testx_fs_ada,trainy_fs_ada,testy_fs_ada = train_test_split(X_fs2,y_fs2,test_size=0.3,shuffle=True)"
   ]
  },
  {
   "cell_type": "code",
   "execution_count": 202,
   "id": "finnish-buffer",
   "metadata": {},
   "outputs": [
    {
     "name": "stdout",
     "output_type": "stream",
     "text": [
      "(40933, 7)\n",
      "(40933,)\n",
      "(17543, 7)\n",
      "(17543,)\n"
     ]
    }
   ],
   "source": [
    "print(trainx_fs_ada.shape)\n",
    "print(trainy_fs_ada.shape)\n",
    "print(testx_fs_ada.shape)\n",
    "print(testy_fs_ada.shape)"
   ]
  },
  {
   "cell_type": "markdown",
   "id": "sticky-folder",
   "metadata": {},
   "source": [
    "### Model Building And Evaluations"
   ]
  },
  {
   "cell_type": "code",
   "execution_count": 203,
   "id": "occupational-transparency",
   "metadata": {},
   "outputs": [],
   "source": [
    "ad3 = AdaBoostClassifier(DecisionTreeClassifier(max_depth=1)).fit(trainx_fs_ada,trainy_fs_ada)"
   ]
  },
  {
   "cell_type": "code",
   "execution_count": 204,
   "id": "final-attribute",
   "metadata": {},
   "outputs": [],
   "source": [
    "pred3 = ad3.predict(testx_fs_ada)\n",
    "pred3 = pd.Series(pred3)"
   ]
  },
  {
   "cell_type": "code",
   "execution_count": 205,
   "id": "absolute-counter",
   "metadata": {},
   "outputs": [
    {
     "data": {
      "text/plain": [
       "0    10999\n",
       "1     6544\n",
       "Name: y, dtype: int64"
      ]
     },
     "execution_count": 205,
     "metadata": {},
     "output_type": "execute_result"
    }
   ],
   "source": [
    "testy_fs_ada.value_counts()"
   ]
  },
  {
   "cell_type": "code",
   "execution_count": 206,
   "id": "ordered-russell",
   "metadata": {},
   "outputs": [
    {
     "data": {
      "text/plain": [
       "0    14637\n",
       "1     2906\n",
       "dtype: int64"
      ]
     },
     "execution_count": 206,
     "metadata": {},
     "output_type": "execute_result"
    }
   ],
   "source": [
    "pred3.value_counts()"
   ]
  },
  {
   "cell_type": "code",
   "execution_count": 207,
   "id": "varying-authorization",
   "metadata": {},
   "outputs": [
    {
     "data": {
      "text/plain": [
       "array([[10844,   155],\n",
       "       [ 3793,  2751]], dtype=int64)"
      ]
     },
     "execution_count": 207,
     "metadata": {},
     "output_type": "execute_result"
    }
   ],
   "source": [
    "confusion_matrix(testy_fs_ada,pred3)"
   ]
  },
  {
   "cell_type": "code",
   "execution_count": 208,
   "id": "coated-activation",
   "metadata": {},
   "outputs": [
    {
     "name": "stdout",
     "output_type": "stream",
     "text": [
      "              precision    recall  f1-score   support\n",
      "\n",
      "           0       0.74      0.99      0.85     10999\n",
      "           1       0.95      0.42      0.58      6544\n",
      "\n",
      "    accuracy                           0.77     17543\n",
      "   macro avg       0.84      0.70      0.71     17543\n",
      "weighted avg       0.82      0.77      0.75     17543\n",
      "\n"
     ]
    }
   ],
   "source": [
    "print(classification_report(testy_fs_ada,pred3))"
   ]
  },
  {
   "cell_type": "markdown",
   "id": "pressed-ireland",
   "metadata": {},
   "source": [
    "## Hyperparameter Tunning \n",
    "### Randomizedsearch CV "
   ]
  },
  {
   "cell_type": "code",
   "execution_count": null,
   "id": "level-civilian",
   "metadata": {},
   "outputs": [],
   "source": [
    "param_ada = {\n",
    "    'learning_rate' : [0.01,0.03,0.07,0.09,0.02,0.04,0.06,0.1,0.3,0.7,0.9,0.2,0.4,0.6,0.8],\n",
    "    'n_estimators'  : np.arange(100,1600,100)\n",
    "    \n",
    "}"
   ]
  },
  {
   "cell_type": "code",
   "execution_count": null,
   "id": "sustainable-aviation",
   "metadata": {},
   "outputs": [],
   "source": [
    "r = RandomizedSearchCV(estimator=ad3,param_distributions=param_ada,n_iter=35,scoring='accuracy',n_jobs=-1,cv=cv,verbose=7,)"
   ]
  },
  {
   "cell_type": "code",
   "execution_count": null,
   "id": "optional-christian",
   "metadata": {
    "scrolled": true
   },
   "outputs": [],
   "source": [
    "rs_ada = r.fit(trainx_fs_ada,trainy_fs_ada)"
   ]
  },
  {
   "cell_type": "code",
   "execution_count": null,
   "id": "important-highland",
   "metadata": {},
   "outputs": [],
   "source": [
    "rs_ada.best_params_"
   ]
  },
  {
   "cell_type": "code",
   "execution_count": null,
   "id": "natural-sensitivity",
   "metadata": {},
   "outputs": [],
   "source": [
    "ad4 = AdaBoostClassifier(base_estimator=DecisionTreeClassifier(max_depth=1,class_weight={0:0.99,1:2.667})\n",
    "                         ,n_estimators = 1300, learning_rate = 0.9).fit(trainx_fs_ada,trainy_fs_ada)"
   ]
  },
  {
   "cell_type": "code",
   "execution_count": null,
   "id": "polished-mexico",
   "metadata": {},
   "outputs": [],
   "source": [
    "pred4 = ad4.predict(testx_fs_ada)\n",
    "pred4 = pd.Series(pred4)"
   ]
  },
  {
   "cell_type": "code",
   "execution_count": null,
   "id": "micro-berkeley",
   "metadata": {},
   "outputs": [],
   "source": [
    "testy_fs_ada.value_counts()"
   ]
  },
  {
   "cell_type": "code",
   "execution_count": null,
   "id": "blocked-outside",
   "metadata": {},
   "outputs": [],
   "source": [
    "pred4.value_counts()"
   ]
  },
  {
   "cell_type": "code",
   "execution_count": null,
   "id": "under-guide",
   "metadata": {},
   "outputs": [],
   "source": [
    "confusion_matrix(testy_fs_ada,pred4)"
   ]
  },
  {
   "cell_type": "code",
   "execution_count": null,
   "id": "atlantic-stuff",
   "metadata": {},
   "outputs": [],
   "source": [
    "print(classification_report(testy_fs_ada,pred4))"
   ]
  },
  {
   "cell_type": "code",
   "execution_count": null,
   "id": "billion-inclusion",
   "metadata": {},
   "outputs": [],
   "source": [
    "cross_val_score(ad4,trainx_fs_ada,trainy_fs_ada,scoring='accuracy',cv=cv,n_jobs=-1)"
   ]
  },
  {
   "cell_type": "code",
   "execution_count": null,
   "id": "official-drill",
   "metadata": {},
   "outputs": [],
   "source": [
    "cross_val_score(ad4,testx_fs_ada,testy_fs_ada,scoring='accuracy',cv=cv,n_jobs=-1)"
   ]
  },
  {
   "cell_type": "markdown",
   "id": "classical-leisure",
   "metadata": {},
   "source": [
    "## Compare All Models We build in AdaBoost"
   ]
  },
  {
   "cell_type": "markdown",
   "id": "cubic-ozone",
   "metadata": {},
   "source": [
    "### 1. ADA Boost Base Model"
   ]
  },
  {
   "cell_type": "code",
   "execution_count": null,
   "id": "historic-preference",
   "metadata": {},
   "outputs": [],
   "source": [
    "confusion_matrix(testy_s1,pred1)"
   ]
  },
  {
   "cell_type": "code",
   "execution_count": null,
   "id": "radical-convertible",
   "metadata": {},
   "outputs": [],
   "source": [
    "print(classification_report(testy_s1,pred1))"
   ]
  },
  {
   "cell_type": "code",
   "execution_count": null,
   "id": "restricted-screen",
   "metadata": {},
   "outputs": [],
   "source": [
    "roc_auc_score(testy_s1,pred1)"
   ]
  },
  {
   "cell_type": "markdown",
   "id": "unlimited-rapid",
   "metadata": {},
   "source": [
    "### 2.AdaBoost Base Model With Hyperparameter tunning with Randomized And Grid Search CV"
   ]
  },
  {
   "cell_type": "code",
   "execution_count": null,
   "id": "mobile-transmission",
   "metadata": {},
   "outputs": [],
   "source": [
    "confusion_matrix(testy_s1,pred2)"
   ]
  },
  {
   "cell_type": "code",
   "execution_count": null,
   "id": "median-thriller",
   "metadata": {},
   "outputs": [],
   "source": [
    "print(classification_report(testy_s1,pred2))"
   ]
  },
  {
   "cell_type": "code",
   "execution_count": null,
   "id": "painted-words",
   "metadata": {},
   "outputs": [],
   "source": [
    "roc_auc_score(testy_s1,pred2)"
   ]
  },
  {
   "cell_type": "markdown",
   "id": "color-operations",
   "metadata": {},
   "source": [
    "### 3.Adaboost With Selected(7) features"
   ]
  },
  {
   "cell_type": "code",
   "execution_count": null,
   "id": "strong-eight",
   "metadata": {},
   "outputs": [],
   "source": [
    "confusion_matrix(testy_fs_ada,pred3)"
   ]
  },
  {
   "cell_type": "code",
   "execution_count": null,
   "id": "concrete-fifteen",
   "metadata": {},
   "outputs": [],
   "source": [
    "print(classification_report(testy_fs_ada,pred3))"
   ]
  },
  {
   "cell_type": "code",
   "execution_count": null,
   "id": "preceding-purchase",
   "metadata": {},
   "outputs": [],
   "source": [
    "roc_auc_score(testy_fs_ada,pred3)"
   ]
  },
  {
   "cell_type": "markdown",
   "id": "artistic-force",
   "metadata": {},
   "source": [
    "### 4. Adaboost Hyperparameter(RandomisedSearch CV) Tunning on Selected Features(7)"
   ]
  },
  {
   "cell_type": "code",
   "execution_count": null,
   "id": "indirect-dialogue",
   "metadata": {},
   "outputs": [],
   "source": [
    "confusion_matrix(testy_fs_ada,pred4)"
   ]
  },
  {
   "cell_type": "code",
   "execution_count": null,
   "id": "aquatic-lawrence",
   "metadata": {},
   "outputs": [],
   "source": [
    "print(classification_report(testy_fs_ada,pred4))"
   ]
  },
  {
   "cell_type": "code",
   "execution_count": null,
   "id": "proved-breakfast",
   "metadata": {},
   "outputs": [],
   "source": [
    "roc_auc_score(testy_fs_ada,pred4)"
   ]
  },
  {
   "cell_type": "markdown",
   "id": "hazardous-chancellor",
   "metadata": {},
   "source": [
    "## By Comparing from above Parameter like auc-score,fpr,tpr,tnr,confusion-matrix,f1-score,recall,precision,sensitivity=tpr,specificity=tnr for All 4 Model We say last Model 4th number is Best"
   ]
  },
  {
   "cell_type": "markdown",
   "id": "tamil-works",
   "metadata": {},
   "source": [
    "export model to save time "
   ]
  },
  {
   "cell_type": "code",
   "execution_count": 69,
   "id": "tribal-gallery",
   "metadata": {},
   "outputs": [],
   "source": [
    "import pickle"
   ]
  },
  {
   "cell_type": "code",
   "execution_count": 67,
   "id": "uniform-elite",
   "metadata": {},
   "outputs": [],
   "source": [
    "filename = 'adaboost.pkl'"
   ]
  },
  {
   "cell_type": "code",
   "execution_count": null,
   "id": "neural-hacker",
   "metadata": {},
   "outputs": [],
   "source": [
    "pickle.dump(ad4,open(filename,'wb'))"
   ]
  },
  {
   "cell_type": "markdown",
   "id": "suffering-microwave",
   "metadata": {},
   "source": [
    "#### Verify Model by read and predict"
   ]
  },
  {
   "cell_type": "code",
   "execution_count": 209,
   "id": "bibliographic-andorra",
   "metadata": {},
   "outputs": [],
   "source": [
    "m1 = pickle.load(open(filename,'rb'))"
   ]
  },
  {
   "cell_type": "code",
   "execution_count": 210,
   "id": "opposite-filter",
   "metadata": {},
   "outputs": [],
   "source": [
    "p1 = m1.predict(testx_fs_ada)"
   ]
  },
  {
   "cell_type": "code",
   "execution_count": 211,
   "id": "according-courtesy",
   "metadata": {},
   "outputs": [
    {
     "data": {
      "text/plain": [
       "0.5"
      ]
     },
     "execution_count": 211,
     "metadata": {},
     "output_type": "execute_result"
    }
   ],
   "source": [
    "roc_auc_score(testy_fs_ada,p1)"
   ]
  },
  {
   "cell_type": "markdown",
   "id": "material-venezuela",
   "metadata": {},
   "source": [
    "#### Which Is equal to model 4 hence model is verify"
   ]
  },
  {
   "cell_type": "markdown",
   "id": "german-greek",
   "metadata": {},
   "source": [
    "# 2. Gredient Boost "
   ]
  },
  {
   "cell_type": "markdown",
   "id": "biological-hindu",
   "metadata": {},
   "source": [
    "### 1.Base Model"
   ]
  },
  {
   "cell_type": "code",
   "execution_count": 221,
   "id": "historical-insider",
   "metadata": {},
   "outputs": [],
   "source": [
    "gb1 = GradientBoostingClassifier().fit(trainx_s1,trainy_s1)"
   ]
  },
  {
   "cell_type": "code",
   "execution_count": 222,
   "id": "moral-values",
   "metadata": {},
   "outputs": [],
   "source": [
    "prediction1 = gb1.predict(testx_s1)\n",
    "prediction1 = pd.Series(prediction1)"
   ]
  },
  {
   "cell_type": "code",
   "execution_count": 223,
   "id": "pleased-aberdeen",
   "metadata": {},
   "outputs": [
    {
     "data": {
      "text/plain": [
       "0    10990\n",
       "1     6553\n",
       "Name: y, dtype: int64"
      ]
     },
     "execution_count": 223,
     "metadata": {},
     "output_type": "execute_result"
    }
   ],
   "source": [
    "testy_s1.value_counts()"
   ]
  },
  {
   "cell_type": "code",
   "execution_count": 224,
   "id": "continued-torture",
   "metadata": {},
   "outputs": [
    {
     "data": {
      "text/plain": [
       "0    13599\n",
       "1     3944\n",
       "dtype: int64"
      ]
     },
     "execution_count": 224,
     "metadata": {},
     "output_type": "execute_result"
    }
   ],
   "source": [
    "prediction1.value_counts()"
   ]
  },
  {
   "cell_type": "markdown",
   "id": "returning-preserve",
   "metadata": {},
   "source": [
    "### ROC-AUC For Base Model"
   ]
  },
  {
   "cell_type": "code",
   "execution_count": 225,
   "id": "forbidden-iraqi",
   "metadata": {},
   "outputs": [],
   "source": [
    "from sklearn.metrics import roc_auc_score,roc_curve\n",
    "\n"
   ]
  },
  {
   "cell_type": "code",
   "execution_count": 226,
   "id": "republican-third",
   "metadata": {},
   "outputs": [],
   "source": [
    "roc_auc = roc_auc_score(testy_s1,prediction1)"
   ]
  },
  {
   "cell_type": "code",
   "execution_count": 227,
   "id": "underlying-shower",
   "metadata": {},
   "outputs": [],
   "source": [
    "fpr,tpr,th = roc_curve(testy_s1,prediction1)"
   ]
  },
  {
   "cell_type": "code",
   "execution_count": 228,
   "id": "hourly-inspiration",
   "metadata": {},
   "outputs": [
    {
     "data": {
      "text/plain": [
       "Text(0.5, 0, 'False Positive Rate')"
      ]
     },
     "execution_count": 228,
     "metadata": {},
     "output_type": "execute_result"
    },
    {
     "data": {
      "image/png": "[encoded data removed]",
      "text/plain": [
       "<Figure size 432x288 with 1 Axes>"
      ]
     },
     "metadata": {
      "needs_background": "light"
     },
     "output_type": "display_data"
    }
   ],
   "source": [
    "plt.plot(fpr,tpr,label=f'{roc_auc:.2f}')\n",
    "plt.legend(loc='lower right')\n",
    "plt.plot(th,th,'o-.')\n",
    "plt.xlim([0,1])\n",
    "plt.ylim([0,1])\n",
    "plt.title('Gradient Boost Classifier')\n",
    "plt.ylabel('True Positive Rate')\n",
    "plt.xlabel('False Positive Rate')\n"
   ]
  },
  {
   "cell_type": "markdown",
   "id": "hawaiian-graphics",
   "metadata": {},
   "source": [
    "## HyperParameter Tunning Using \n",
    "## Randomized Search CV"
   ]
  },
  {
   "cell_type": "code",
   "execution_count": null,
   "id": "exempt-earthquake",
   "metadata": {},
   "outputs": [],
   "source": [
    "para_gb = {\n",
    "    'learning_rate': [0.1,0.3,0.5,0.7,0.9,0.01,0.03,0.05,0.07,0.09],\n",
    "    'n_estimators' : np.arange(100,1100,100),\n",
    "    'max_depth'    : np.arange(3,14),\n",
    "    \n",
    "    \n",
    "}"
   ]
  },
  {
   "cell_type": "code",
   "execution_count": null,
   "id": "brief-aggregate",
   "metadata": {},
   "outputs": [],
   "source": [
    "rgb = RandomizedSearchCV(estimator=gb1,param_distributions=para_gb,\n",
    "                         n_iter=45,scoring='accuracy',n_jobs=-1,cv=cv,verbose=5)"
   ]
  },
  {
   "cell_type": "code",
   "execution_count": null,
   "id": "provincial-symbol",
   "metadata": {},
   "outputs": [],
   "source": [
    "rgb_fit = rgb.fit(trainx_s1,trainy_s1)"
   ]
  },
  {
   "cell_type": "code",
   "execution_count": null,
   "id": "electoral-lawsuit",
   "metadata": {},
   "outputs": [],
   "source": [
    "rgb_fit.best_params_"
   ]
  },
  {
   "cell_type": "markdown",
   "id": "august-grove",
   "metadata": {},
   "source": [
    "### 2. Model"
   ]
  },
  {
   "cell_type": "code",
   "execution_count": 229,
   "id": "superb-ethernet",
   "metadata": {},
   "outputs": [
    {
     "name": "stdout",
     "output_type": "stream",
     "text": [
      "      Iter       Train Loss   Remaining Time \n",
      "         1           1.2387           12.61m\n",
      "         2           1.1663           13.14m\n",
      "         3           1.1064           13.55m\n",
      "         4           1.0536           13.82m\n",
      "         5           1.0074           14.05m\n",
      "         6           0.9608           14.52m\n",
      "         7           0.9231           14.68m\n",
      "         8           0.8849           14.77m\n",
      "         9           0.8483           14.86m\n",
      "        10           0.8137           14.93m\n",
      "        11           0.7836           14.95m\n",
      "        12           0.7577           14.98m\n",
      "        13           0.7315           14.91m\n",
      "        14           0.7088           15.02m\n",
      "        15           0.6799           15.13m\n",
      "        16           0.6579           15.12m\n",
      "        17           0.6370           15.12m\n",
      "        18           0.6148           15.11m\n",
      "        19           0.5928           15.16m\n",
      "        20           0.5720           15.11m\n",
      "        21           0.5545           15.06m\n",
      "        22           0.5391           15.00m\n",
      "        23           0.5196           14.95m\n",
      "        24           0.5038           14.89m\n",
      "        25           0.4885           14.83m\n",
      "        26           0.4778           14.75m\n",
      "        27           0.4599           14.72m\n",
      "        28           0.4506           14.63m\n",
      "        29           0.4395           14.54m\n",
      "        30           0.4258           14.54m\n",
      "        31           0.4164           14.47m\n",
      "        32           0.4103           14.37m\n",
      "        33           0.4023           14.32m\n",
      "        34           0.3946           14.27m\n",
      "        35           0.3812           14.26m\n",
      "        36           0.3736           14.22m\n",
      "        37           0.3696           14.10m\n",
      "        38           0.3588           14.06m\n",
      "        39           0.3562           13.93m\n",
      "        40           0.3492           13.88m\n",
      "        41           0.3438           13.79m\n",
      "        42           0.3388           13.71m\n",
      "        43           0.3324           13.69m\n",
      "        44           0.3270           13.65m\n",
      "        45           0.3249           13.53m\n",
      "        46           0.3181           13.52m\n",
      "        47           0.3151           13.44m\n",
      "        48           0.3092           13.44m\n",
      "        49           0.3075           13.36m\n",
      "        50           0.3017           13.35m\n",
      "        51           0.2928           13.40m\n",
      "        52           0.2904           13.35m\n",
      "        53           0.2846           13.37m\n",
      "        54           0.2794           13.37m\n",
      "        55           0.2749           13.38m\n",
      "        56           0.2729           13.33m\n",
      "        57           0.2696           13.32m\n",
      "        58           0.2649           13.33m\n",
      "        59           0.2621           13.31m\n",
      "        60           0.2580           13.30m\n",
      "        61           0.2534           13.31m\n",
      "        62           0.2492           13.31m\n",
      "        63           0.2479           13.26m\n",
      "        64           0.2460           13.24m\n",
      "        65           0.2431           13.22m\n",
      "        66           0.2403           13.21m\n",
      "        67           0.2382           13.18m\n",
      "        68           0.2371           13.12m\n",
      "        69           0.2324           13.13m\n",
      "        70           0.2278           13.14m\n",
      "        71           0.2270           13.08m\n",
      "        72           0.2249           13.06m\n",
      "        73           0.2200           13.07m\n",
      "        74           0.2192           13.01m\n",
      "        75           0.2133           13.03m\n",
      "        76           0.2118           13.01m\n",
      "        77           0.2090           13.00m\n",
      "        78           0.2062           12.98m\n",
      "        79           0.2036           12.96m\n",
      "        80           0.1975           12.99m\n",
      "        81           0.1914           13.00m\n",
      "        82           0.1877           13.00m\n",
      "        83           0.1835           13.01m\n",
      "        84           0.1807           13.00m\n",
      "        85           0.1770           13.00m\n",
      "        86           0.1758           12.97m\n",
      "        87           0.1728           12.96m\n",
      "        88           0.1703           12.92m\n",
      "        89           0.1677           12.91m\n",
      "        90           0.1650           12.90m\n",
      "        91           0.1639           12.86m\n",
      "        92           0.1618           12.85m\n",
      "        93           0.1608           12.82m\n",
      "        94           0.1585           12.79m\n",
      "        95           0.1567           12.77m\n",
      "        96           0.1548           12.77m\n",
      "        97           0.1527           12.76m\n",
      "        98           0.1519           12.73m\n",
      "        99           0.1510           12.69m\n",
      "       100           0.1506           12.65m\n",
      "       101           0.1491           12.62m\n",
      "       102           0.1471           12.61m\n",
      "       103           0.1452           12.60m\n",
      "       104           0.1437           12.59m\n",
      "       105           0.1416           12.59m\n",
      "       106           0.1408           12.56m\n",
      "       107           0.1366           12.59m\n",
      "       108           0.1350           12.56m\n",
      "       109           0.1314           12.58m\n",
      "       110           0.1303           12.56m\n",
      "       111           0.1272           12.56m\n",
      "       112           0.1266           12.53m\n",
      "       113           0.1257           12.51m\n",
      "       114           0.1253           12.47m\n",
      "       115           0.1234           12.46m\n",
      "       116           0.1201           12.48m\n",
      "       117           0.1163           12.50m\n",
      "       118           0.1138           12.49m\n",
      "       119           0.1105           12.49m\n",
      "       120           0.1084           12.49m\n",
      "       121           0.1072           12.46m\n",
      "       122           0.1069           12.42m\n",
      "       123           0.1042           12.43m\n",
      "       124           0.1016           12.45m\n",
      "       125           0.0998           12.43m\n",
      "       126           0.0981           12.42m\n",
      "       127           0.0965           12.40m\n",
      "       128           0.0939           12.40m\n",
      "       129           0.0926           12.38m\n",
      "       130           0.0912           12.37m\n",
      "       131           0.0903           12.33m\n",
      "       132           0.0883           12.32m\n",
      "       133           0.0864           12.31m\n",
      "       134           0.0860           12.27m\n",
      "       135           0.0842           12.26m\n",
      "       136           0.0830           12.25m\n",
      "       137           0.0810           12.24m\n",
      "       138           0.0799           12.22m\n",
      "       139           0.0782           12.22m\n",
      "       140           0.0779           12.18m\n",
      "       141           0.0769           12.16m\n",
      "       142           0.0742           12.17m\n",
      "       143           0.0733           12.14m\n",
      "       144           0.0728           12.11m\n",
      "       145           0.0725           12.08m\n",
      "       146           0.0719           12.05m\n",
      "       147           0.0710           12.02m\n",
      "       148           0.0689           12.03m\n",
      "       149           0.0683           12.01m\n",
      "       150           0.0678           11.98m\n",
      "       151           0.0670           11.96m\n",
      "       152           0.0665           11.93m\n",
      "       153           0.0657           11.91m\n",
      "       154           0.0641           11.91m\n",
      "       155           0.0628           11.90m\n",
      "       156           0.0618           11.88m\n",
      "       157           0.0605           11.87m\n",
      "       158           0.0591           11.86m\n",
      "       159           0.0585           11.84m\n",
      "       160           0.0574           11.84m\n",
      "       161           0.0561           11.83m\n",
      "       162           0.0557           11.81m\n",
      "       163           0.0546           11.79m\n",
      "       164           0.0538           11.77m\n",
      "       165           0.0529           11.76m\n",
      "       166           0.0523           11.73m\n",
      "       167           0.0508           11.73m\n",
      "       168           0.0506           11.69m\n",
      "       169           0.0500           11.67m\n",
      "       170           0.0494           11.66m\n",
      "       171           0.0487           11.65m\n",
      "       172           0.0475           11.64m\n",
      "       173           0.0470           11.62m\n",
      "       174           0.0459           11.61m\n",
      "       175           0.0453           11.59m\n",
      "       176           0.0445           11.58m\n",
      "       177           0.0438           11.56m\n",
      "       178           0.0431           11.56m\n",
      "       179           0.0426           11.54m\n",
      "       180           0.0422           11.52m\n",
      "       181           0.0413           11.52m\n",
      "       182           0.0409           11.50m\n"
     ]
    },
    {
     "name": "stdout",
     "output_type": "stream",
     "text": [
      "       183           0.0404           11.48m\n",
      "       184           0.0400           11.46m\n",
      "       185           0.0388           11.46m\n",
      "       186           0.0374           11.48m\n",
      "       187           0.0367           11.47m\n",
      "       188           0.0363           11.44m\n",
      "       189           0.0355           11.44m\n",
      "       190           0.0349           11.42m\n",
      "       191           0.0340           11.43m\n",
      "       192           0.0329           11.43m\n",
      "       193           0.0323           11.41m\n",
      "       194           0.0320           11.39m\n",
      "       195           0.0311           11.39m\n",
      "       196           0.0306           11.38m\n",
      "       197           0.0298           11.37m\n",
      "       198           0.0292           11.36m\n",
      "       199           0.0285           11.36m\n",
      "       200           0.0284           11.33m\n",
      "       201           0.0280           11.32m\n",
      "       202           0.0275           11.31m\n",
      "       203           0.0272           11.29m\n",
      "       204           0.0269           11.27m\n",
      "       205           0.0265           11.25m\n",
      "       206           0.0263           11.23m\n",
      "       207           0.0257           11.21m\n",
      "       208           0.0253           11.20m\n",
      "       209           0.0248           11.18m\n",
      "       210           0.0243           11.18m\n",
      "       211           0.0240           11.16m\n",
      "       212           0.0237           11.15m\n",
      "       213           0.0233           11.13m\n",
      "       214           0.0230           11.12m\n",
      "       215           0.0228           11.10m\n",
      "       216           0.0223           11.10m\n",
      "       217           0.0221           11.08m\n",
      "       218           0.0217           11.06m\n",
      "       219           0.0214           11.05m\n",
      "       220           0.0211           11.03m\n",
      "       221           0.0207           11.02m\n",
      "       222           0.0205           11.00m\n",
      "       223           0.0202           10.99m\n",
      "       224           0.0200           10.97m\n",
      "       225           0.0197           10.95m\n",
      "       226           0.0194           10.94m\n",
      "       227           0.0191           10.92m\n",
      "       228           0.0187           10.91m\n",
      "       229           0.0184           10.89m\n",
      "       230           0.0181           10.87m\n",
      "       231           0.0178           10.86m\n",
      "       232           0.0174           10.84m\n",
      "       233           0.0172           10.82m\n",
      "       234           0.0170           10.80m\n",
      "       235           0.0167           10.78m\n",
      "       236           0.0164           10.77m\n",
      "       237           0.0161           10.76m\n",
      "       238           0.0159           10.74m\n",
      "       239           0.0156           10.73m\n",
      "       240           0.0154           10.71m\n",
      "       241           0.0149           10.71m\n",
      "       242           0.0145           10.71m\n",
      "       243           0.0141           10.70m\n",
      "       244           0.0139           10.69m\n",
      "       245           0.0137           10.67m\n",
      "       246           0.0136           10.65m\n",
      "       247           0.0133           10.64m\n",
      "       248           0.0130           10.63m\n",
      "       249           0.0127           10.62m\n",
      "       250           0.0126           10.60m\n",
      "       251           0.0122           10.59m\n",
      "       252           0.0121           10.58m\n",
      "       253           0.0119           10.56m\n",
      "       254           0.0118           10.55m\n",
      "       255           0.0115           10.54m\n",
      "       256           0.0113           10.53m\n",
      "       257           0.0111           10.51m\n",
      "       258           0.0109           10.50m\n",
      "       259           0.0108           10.48m\n",
      "       260           0.0105           10.47m\n",
      "       261           0.0104           10.45m\n",
      "       262           0.0102           10.43m\n",
      "       263           0.0101           10.41m\n",
      "       264           0.0100           10.39m\n",
      "       265           0.0098           10.38m\n",
      "       266           0.0096           10.36m\n",
      "       267           0.0094           10.35m\n",
      "       268           0.0093           10.33m\n",
      "       269           0.0091           10.32m\n",
      "       270           0.0089           10.30m\n",
      "       271           0.0087           10.29m\n",
      "       272           0.0085           10.28m\n",
      "       273           0.0084           10.26m\n",
      "       274           0.0083           10.24m\n",
      "       275           0.0082           10.22m\n",
      "       276           0.0081           10.20m\n",
      "       277           0.0079           10.19m\n",
      "       278           0.0078           10.18m\n",
      "       279           0.0077           10.16m\n",
      "       280           0.0076           10.14m\n",
      "       281           0.0075           10.12m\n",
      "       282           0.0075           10.10m\n",
      "       283           0.0074           10.08m\n",
      "       284           0.0073           10.06m\n",
      "       285           0.0072           10.05m\n",
      "       286           0.0071           10.03m\n",
      "       287           0.0070           10.01m\n",
      "       288           0.0069           10.00m\n",
      "       289           0.0068            9.98m\n",
      "       290           0.0067            9.96m\n",
      "       291           0.0066            9.95m\n",
      "       292           0.0065            9.93m\n",
      "       293           0.0064            9.91m\n",
      "       294           0.0063            9.89m\n",
      "       295           0.0062            9.88m\n",
      "       296           0.0061            9.86m\n",
      "       297           0.0060            9.84m\n",
      "       298           0.0059            9.83m\n",
      "       299           0.0057            9.81m\n",
      "       300           0.0057            9.79m\n",
      "       301           0.0056            9.78m\n",
      "       302           0.0055            9.76m\n",
      "       303           0.0054            9.75m\n",
      "       304           0.0054            9.73m\n",
      "       305           0.0053            9.70m\n",
      "       306           0.0052            9.69m\n",
      "       307           0.0051            9.68m\n",
      "       308           0.0050            9.66m\n",
      "       309           0.0049            9.64m\n",
      "       310           0.0049            9.63m\n",
      "       311           0.0048            9.61m\n",
      "       312           0.0048            9.59m\n",
      "       313           0.0047            9.58m\n",
      "       314           0.0046            9.57m\n",
      "       315           0.0045            9.55m\n",
      "       316           0.0045            9.53m\n",
      "       317           0.0044            9.52m\n",
      "       318           0.0044            9.50m\n",
      "       319           0.0043            9.48m\n",
      "       320           0.0043            9.46m\n",
      "       321           0.0042            9.45m\n",
      "       322           0.0042            9.44m\n",
      "       323           0.0041            9.42m\n",
      "       324           0.0040            9.41m\n",
      "       325           0.0040            9.39m\n",
      "       326           0.0039            9.37m\n",
      "       327           0.0039            9.36m\n",
      "       328           0.0039            9.34m\n",
      "       329           0.0038            9.33m\n",
      "       330           0.0037            9.31m\n",
      "       331           0.0037            9.30m\n",
      "       332           0.0036            9.28m\n",
      "       333           0.0035            9.27m\n",
      "       334           0.0035            9.25m\n",
      "       335           0.0034            9.24m\n",
      "       336           0.0034            9.22m\n",
      "       337           0.0033            9.22m\n",
      "       338           0.0032            9.20m\n",
      "       339           0.0032            9.19m\n",
      "       340           0.0032            9.17m\n",
      "       341           0.0031            9.16m\n",
      "       342           0.0031            9.14m\n",
      "       343           0.0031            9.12m\n",
      "       344           0.0030            9.10m\n",
      "       345           0.0030            9.08m\n",
      "       346           0.0029            9.06m\n",
      "       347           0.0029            9.05m\n",
      "       348           0.0029            9.03m\n",
      "       349           0.0028            9.02m\n",
      "       350           0.0027            9.01m\n",
      "       351           0.0027            8.99m\n",
      "       352           0.0026            8.98m\n",
      "       353           0.0026            8.96m\n",
      "       354           0.0026            8.94m\n",
      "       355           0.0025            8.93m\n",
      "       356           0.0025            8.91m\n",
      "       357           0.0024            8.90m\n",
      "       358           0.0024            8.89m\n",
      "       359           0.0023            8.88m\n",
      "       360           0.0022            8.86m\n",
      "       361           0.0022            8.85m\n",
      "       362           0.0021            8.84m\n",
      "       363           0.0021            8.82m\n",
      "       364           0.0021            8.80m\n",
      "       365           0.0020            8.79m\n"
     ]
    },
    {
     "name": "stdout",
     "output_type": "stream",
     "text": [
      "       366           0.0020            8.77m\n",
      "       367           0.0020            8.75m\n",
      "       368           0.0020            8.73m\n",
      "       369           0.0019            8.72m\n",
      "       370           0.0019            8.70m\n",
      "       371           0.0019            8.69m\n",
      "       372           0.0019            8.67m\n",
      "       373           0.0018            8.65m\n",
      "       374           0.0018            8.63m\n",
      "       375           0.0018            8.62m\n",
      "       376           0.0017            8.60m\n",
      "       377           0.0017            8.59m\n",
      "       378           0.0017            8.57m\n",
      "       379           0.0016            8.56m\n",
      "       380           0.0016            8.55m\n",
      "       381           0.0016            8.53m\n",
      "       382           0.0015            8.52m\n",
      "       383           0.0015            8.50m\n",
      "       384           0.0015            8.49m\n",
      "       385           0.0015            8.48m\n",
      "       386           0.0014            8.46m\n",
      "       387           0.0014            8.44m\n",
      "       388           0.0014            8.43m\n",
      "       389           0.0014            8.41m\n",
      "       390           0.0014            8.39m\n",
      "       391           0.0013            8.38m\n",
      "       392           0.0013            8.36m\n",
      "       393           0.0013            8.35m\n",
      "       394           0.0013            8.33m\n",
      "       395           0.0012            8.32m\n",
      "       396           0.0012            8.30m\n",
      "       397           0.0012            8.28m\n",
      "       398           0.0012            8.27m\n",
      "       399           0.0012            8.25m\n",
      "       400           0.0012            8.24m\n",
      "       401           0.0011            8.22m\n",
      "       402           0.0011            8.21m\n",
      "       403           0.0011            8.19m\n",
      "       404           0.0011            8.18m\n",
      "       405           0.0011            8.16m\n",
      "       406           0.0011            8.14m\n",
      "       407           0.0010            8.13m\n",
      "       408           0.0010            8.11m\n",
      "       409           0.0010            8.10m\n",
      "       410           0.0010            8.08m\n",
      "       411           0.0010            8.07m\n",
      "       412           0.0009            8.06m\n",
      "       413           0.0009            8.04m\n",
      "       414           0.0009            8.03m\n",
      "       415           0.0009            8.02m\n",
      "       416           0.0009            8.00m\n",
      "       417           0.0009            7.99m\n",
      "       418           0.0009            7.97m\n",
      "       419           0.0008            7.95m\n",
      "       420           0.0008            7.94m\n",
      "       421           0.0008            7.93m\n",
      "       422           0.0008            7.91m\n",
      "       423           0.0008            7.90m\n",
      "       424           0.0008            7.89m\n",
      "       425           0.0008            7.87m\n",
      "       426           0.0008            7.86m\n",
      "       427           0.0008            7.84m\n",
      "       428           0.0007            7.82m\n",
      "       429           0.0007            7.81m\n",
      "       430           0.0007            7.79m\n",
      "       431           0.0007            7.78m\n",
      "       432           0.0007            7.76m\n",
      "       433           0.0007            7.74m\n",
      "       434           0.0007            7.73m\n",
      "       435           0.0007            7.71m\n",
      "       436           0.0007            7.70m\n",
      "       437           0.0007            7.68m\n",
      "       438           0.0006            7.67m\n",
      "       439           0.0006            7.65m\n",
      "       440           0.0006            7.64m\n",
      "       441           0.0006            7.62m\n",
      "       442           0.0006            7.60m\n",
      "       443           0.0006            7.59m\n",
      "       444           0.0006            7.58m\n",
      "       445           0.0006            7.56m\n",
      "       446           0.0006            7.54m\n",
      "       447           0.0006            7.53m\n",
      "       448           0.0006            7.51m\n",
      "       449           0.0005            7.50m\n",
      "       450           0.0005            7.48m\n",
      "       451           0.0005            7.47m\n",
      "       452           0.0005            7.45m\n",
      "       453           0.0005            7.44m\n",
      "       454           0.0005            7.42m\n",
      "       455           0.0005            7.40m\n",
      "       456           0.0005            7.38m\n",
      "       457           0.0005            7.37m\n",
      "       458           0.0005            7.35m\n",
      "       459           0.0005            7.33m\n",
      "       460           0.0005            7.31m\n",
      "       461           0.0005            7.30m\n",
      "       462           0.0005            7.28m\n",
      "       463           0.0005            7.26m\n",
      "       464           0.0004            7.25m\n",
      "       465           0.0004            7.23m\n",
      "       466           0.0004            7.21m\n",
      "       467           0.0004            7.20m\n",
      "       468           0.0004            7.18m\n",
      "       469           0.0004            7.16m\n",
      "       470           0.0004            7.15m\n",
      "       471           0.0004            7.13m\n",
      "       472           0.0004            7.11m\n",
      "       473           0.0004            7.10m\n",
      "       474           0.0004            7.08m\n",
      "       475           0.0004            7.06m\n",
      "       476           0.0004            7.05m\n",
      "       477           0.0004            7.03m\n",
      "       478           0.0004            7.01m\n",
      "       479           0.0004            7.00m\n",
      "       480           0.0004            6.98m\n",
      "       481           0.0004            6.96m\n",
      "       482           0.0003            6.95m\n",
      "       483           0.0003            6.93m\n",
      "       484           0.0003            6.91m\n",
      "       485           0.0003            6.89m\n",
      "       486           0.0003            6.88m\n",
      "       487           0.0003            6.86m\n",
      "       488           0.0003            6.85m\n",
      "       489           0.0003            6.83m\n",
      "       490           0.0003            6.81m\n",
      "       491           0.0003            6.79m\n",
      "       492           0.0003            6.78m\n",
      "       493           0.0003            6.76m\n",
      "       494           0.0003            6.74m\n",
      "       495           0.0003            6.73m\n",
      "       496           0.0003            6.71m\n",
      "       497           0.0003            6.69m\n",
      "       498           0.0003            6.68m\n",
      "       499           0.0003            6.66m\n",
      "       500           0.0003            6.65m\n",
      "       501           0.0003            6.63m\n",
      "       502           0.0003            6.61m\n",
      "       503           0.0003            6.60m\n",
      "       504           0.0003            6.58m\n",
      "       505           0.0003            6.56m\n",
      "       506           0.0003            6.54m\n",
      "       507           0.0002            6.53m\n",
      "       508           0.0002            6.51m\n",
      "       509           0.0002            6.49m\n",
      "       510           0.0002            6.48m\n",
      "       511           0.0002            6.46m\n",
      "       512           0.0002            6.45m\n",
      "       513           0.0002            6.43m\n",
      "       514           0.0002            6.41m\n",
      "       515           0.0002            6.40m\n",
      "       516           0.0002            6.38m\n",
      "       517           0.0002            6.36m\n",
      "       518           0.0002            6.35m\n",
      "       519           0.0002            6.33m\n",
      "       520           0.0002            6.31m\n",
      "       521           0.0002            6.29m\n",
      "       522           0.0002            6.28m\n",
      "       523           0.0002            6.26m\n",
      "       524           0.0002            6.25m\n",
      "       525           0.0002            6.23m\n",
      "       526           0.0002            6.21m\n",
      "       527           0.0002            6.20m\n",
      "       528           0.0002            6.18m\n",
      "       529           0.0002            6.16m\n",
      "       530           0.0002            6.15m\n",
      "       531           0.0002            6.13m\n",
      "       532           0.0002            6.11m\n",
      "       533           0.0002            6.10m\n",
      "       534           0.0002            6.08m\n",
      "       535           0.0002            6.06m\n",
      "       536           0.0002            6.05m\n",
      "       537           0.0002            6.03m\n",
      "       538           0.0002            6.02m\n",
      "       539           0.0002            6.00m\n",
      "       540           0.0002            5.98m\n",
      "       541           0.0002            5.97m\n",
      "       542           0.0002            5.95m\n",
      "       543           0.0002            5.94m\n",
      "       544           0.0002            5.92m\n",
      "       545           0.0002            5.90m\n",
      "       546           0.0002            5.88m\n",
      "       547           0.0002            5.86m\n",
      "       548           0.0002            5.85m\n"
     ]
    },
    {
     "name": "stdout",
     "output_type": "stream",
     "text": [
      "       549           0.0002            5.83m\n",
      "       550           0.0002            5.81m\n",
      "       551           0.0002            5.80m\n",
      "       552           0.0002            5.78m\n",
      "       553           0.0002            5.76m\n",
      "       554           0.0001            5.75m\n",
      "       555           0.0001            5.73m\n",
      "       556           0.0001            5.72m\n",
      "       557           0.0001            5.70m\n",
      "       558           0.0001            5.68m\n",
      "       559           0.0001            5.67m\n",
      "       560           0.0001            5.65m\n",
      "       561           0.0001            5.63m\n",
      "       562           0.0001            5.61m\n",
      "       563           0.0001            5.60m\n",
      "       564           0.0001            5.58m\n",
      "       565           0.0001            5.57m\n",
      "       566           0.0001            5.55m\n",
      "       567           0.0001            5.53m\n",
      "       568           0.0001            5.52m\n",
      "       569           0.0001            5.50m\n",
      "       570           0.0001            5.48m\n",
      "       571           0.0001            5.46m\n",
      "       572           0.0001            5.45m\n",
      "       573           0.0001            5.43m\n",
      "       574           0.0001            5.42m\n",
      "       575           0.0001            5.40m\n",
      "       576           0.0001            5.38m\n",
      "       577           0.0001            5.37m\n",
      "       578           0.0001            5.35m\n",
      "       579           0.0001            5.33m\n",
      "       580           0.0001            5.32m\n",
      "       581           0.0001            5.30m\n",
      "       582           0.0001            5.29m\n",
      "       583           0.0001            5.27m\n",
      "       584           0.0001            5.25m\n",
      "       585           0.0001            5.24m\n",
      "       586           0.0001            5.22m\n",
      "       587           0.0001            5.20m\n",
      "       588           0.0001            5.19m\n",
      "       589           0.0001            5.17m\n",
      "       590           0.0001            5.16m\n",
      "       591           0.0001            5.14m\n",
      "       592           0.0001            5.12m\n",
      "       593           0.0001            5.11m\n",
      "       594           0.0001            5.09m\n",
      "       595           0.0001            5.07m\n",
      "       596           0.0001            5.06m\n",
      "       597           0.0001            5.04m\n",
      "       598           0.0001            5.02m\n",
      "       599           0.0001            5.01m\n",
      "       600           0.0001            4.99m\n",
      "       601           0.0001            4.98m\n",
      "       602           0.0001            4.96m\n",
      "       603           0.0001            4.94m\n",
      "       604           0.0001            4.93m\n",
      "       605           0.0001            4.91m\n",
      "       606           0.0001            4.89m\n",
      "       607           0.0001            4.87m\n",
      "       608           0.0001            4.85m\n",
      "       609           0.0001            4.84m\n",
      "       610           0.0001            4.82m\n",
      "       611           0.0001            4.80m\n",
      "       612           0.0001            4.79m\n",
      "       613           0.0001            4.77m\n",
      "       614           0.0001            4.75m\n",
      "       615           0.0001            4.73m\n",
      "       616           0.0001            4.72m\n",
      "       617           0.0001            4.70m\n",
      "       618           0.0001            4.68m\n",
      "       619           0.0001            4.67m\n",
      "       620           0.0001            4.65m\n",
      "       621           0.0001            4.63m\n",
      "       622           0.0001            4.62m\n",
      "       623           0.0001            4.60m\n",
      "       624           0.0001            4.58m\n",
      "       625           0.0001            4.57m\n",
      "       626           0.0001            4.55m\n",
      "       627           0.0001            4.53m\n",
      "       628           0.0001            4.52m\n",
      "       629           0.0001            4.50m\n",
      "       630           0.0001            4.48m\n",
      "       631           0.0001            4.47m\n",
      "       632           0.0001            4.45m\n",
      "       633           0.0001            4.43m\n",
      "       634           0.0001            4.42m\n",
      "       635           0.0001            4.40m\n",
      "       636           0.0001            4.38m\n",
      "       637           0.0001            4.37m\n",
      "       638           0.0001            4.35m\n",
      "       639           0.0001            4.33m\n",
      "       640           0.0001            4.32m\n",
      "       641           0.0001            4.30m\n",
      "       642           0.0001            4.28m\n",
      "       643           0.0001            4.27m\n",
      "       644           0.0001            4.25m\n",
      "       645           0.0001            4.23m\n",
      "       646           0.0001            4.22m\n",
      "       647           0.0001            4.20m\n",
      "       648           0.0001            4.18m\n",
      "       649           0.0001            4.17m\n",
      "       650           0.0001            4.15m\n",
      "       651           0.0001            4.13m\n",
      "       652           0.0001            4.12m\n",
      "       653           0.0001            4.10m\n",
      "       654           0.0001            4.09m\n",
      "       655           0.0001            4.07m\n",
      "       656           0.0001            4.05m\n",
      "       657           0.0001            4.03m\n",
      "       658           0.0001            4.02m\n",
      "       659           0.0001            4.00m\n",
      "       660           0.0001            3.98m\n",
      "       661           0.0001            3.97m\n",
      "       662           0.0001            3.95m\n",
      "       663           0.0001            3.93m\n",
      "       664           0.0001            3.92m\n",
      "       665           0.0001            3.90m\n",
      "       666           0.0001            3.88m\n",
      "       667           0.0001            3.87m\n",
      "       668           0.0001            3.85m\n",
      "       669           0.0001            3.83m\n",
      "       670           0.0001            3.82m\n",
      "       671           0.0001            3.80m\n",
      "       672           0.0001            3.78m\n",
      "       673           0.0001            3.77m\n",
      "       674           0.0001            3.75m\n",
      "       675           0.0001            3.73m\n",
      "       676           0.0001            3.72m\n",
      "       677           0.0001            3.70m\n",
      "       678           0.0001            3.68m\n",
      "       679           0.0001            3.67m\n",
      "       680           0.0001            3.65m\n",
      "       681           0.0001            3.63m\n",
      "       682           0.0001            3.62m\n",
      "       683           0.0001            3.60m\n",
      "       684           0.0001            3.58m\n",
      "       685           0.0001            3.57m\n",
      "       686           0.0001            3.55m\n",
      "       687           0.0001            3.53m\n",
      "       688           0.0001            3.52m\n",
      "       689           0.0001            3.50m\n",
      "       690           0.0001            3.49m\n",
      "       691           0.0001            3.47m\n",
      "       692           0.0001            3.45m\n",
      "       693           0.0001            3.44m\n",
      "       694           0.0001            3.42m\n",
      "       695           0.0001            3.40m\n",
      "       696           0.0001            3.39m\n",
      "       697           0.0001            3.37m\n",
      "       698           0.0001            3.35m\n",
      "       699           0.0001            3.34m\n",
      "       700           0.0001            3.32m\n",
      "       701           0.0001            3.30m\n",
      "       702           0.0001            3.29m\n",
      "       703           0.0001            3.27m\n",
      "       704           0.0001            3.25m\n",
      "       705           0.0001            3.24m\n",
      "       706           0.0001            3.22m\n",
      "       707           0.0001            3.20m\n",
      "       708           0.0001            3.19m\n",
      "       709           0.0001            3.17m\n",
      "       710           0.0001            3.15m\n",
      "       711           0.0001            3.14m\n",
      "       712           0.0001            3.12m\n",
      "       713           0.0001            3.10m\n",
      "       714           0.0001            3.09m\n",
      "       715           0.0001            3.07m\n",
      "       716           0.0001            3.05m\n",
      "       717           0.0001            3.03m\n",
      "       718           0.0001            3.02m\n",
      "       719           0.0001            3.00m\n",
      "       720           0.0001            2.98m\n",
      "       721           0.0001            2.97m\n",
      "       722           0.0001            2.95m\n",
      "       723           0.0001            2.94m\n",
      "       724           0.0001            2.92m\n",
      "       725           0.0001            2.90m\n",
      "       726           0.0001            2.89m\n",
      "       727           0.0001            2.87m\n",
      "       728           0.0001            2.85m\n",
      "       729           0.0001            2.84m\n",
      "       730           0.0001            2.82m\n",
      "       731           0.0001            2.80m\n"
     ]
    },
    {
     "name": "stdout",
     "output_type": "stream",
     "text": [
      "       732           0.0001            2.79m\n",
      "       733           0.0001            2.77m\n",
      "       734           0.0001            2.75m\n",
      "       735           0.0001            2.74m\n",
      "       736           0.0001            2.72m\n",
      "       737           0.0001            2.70m\n",
      "       738           0.0001            2.69m\n",
      "       739           0.0001            2.67m\n",
      "       740           0.0001            2.65m\n",
      "       741           0.0001            2.64m\n",
      "       742           0.0001            2.62m\n",
      "       743           0.0001            2.60m\n",
      "       744           0.0001            2.58m\n",
      "       745           0.0001            2.57m\n",
      "       746           0.0001            2.55m\n",
      "       747           0.0001            2.53m\n",
      "       748           0.0001            2.52m\n",
      "       749           0.0001            2.50m\n",
      "       750           0.0001            2.48m\n",
      "       751           0.0001            2.47m\n",
      "       752           0.0001            2.45m\n",
      "       753           0.0001            2.44m\n",
      "       754           0.0001            2.42m\n",
      "       755           0.0001            2.40m\n",
      "       756           0.0001            2.39m\n",
      "       757           0.0001            2.37m\n",
      "       758           0.0001            2.35m\n",
      "       759           0.0001            2.34m\n",
      "       760           0.0001            2.32m\n",
      "       761           0.0001            2.30m\n",
      "       762           0.0001            2.29m\n",
      "       763           0.0001            2.27m\n",
      "       764           0.0001            2.25m\n",
      "       765           0.0001            2.24m\n",
      "       766           0.0001            2.22m\n",
      "       767           0.0001            2.20m\n",
      "       768           0.0001            2.19m\n",
      "       769           0.0001            2.17m\n",
      "       770           0.0001            2.15m\n",
      "       771           0.0001            2.14m\n",
      "       772           0.0001            2.12m\n",
      "       773           0.0001            2.10m\n",
      "       774           0.0001            2.09m\n",
      "       775           0.0001            2.07m\n",
      "       776           0.0001            2.05m\n",
      "       777           0.0001            2.04m\n",
      "       778           0.0001            2.02m\n",
      "       779           0.0001            2.00m\n",
      "       780           0.0001            1.99m\n",
      "       781           0.0001            1.97m\n",
      "       782           0.0001            1.95m\n",
      "       783           0.0001            1.94m\n",
      "       784           0.0001            1.92m\n",
      "       785           0.0001            1.90m\n",
      "       786           0.0001            1.89m\n",
      "       787           0.0001            1.87m\n",
      "       788           0.0001            1.85m\n",
      "       789           0.0001            1.84m\n",
      "       790           0.0001            1.82m\n",
      "       791           0.0001            1.80m\n",
      "       792           0.0001            1.79m\n",
      "       793           0.0001            1.77m\n",
      "       794           0.0001            1.75m\n",
      "       795           0.0001            1.74m\n",
      "       796           0.0001            1.72m\n",
      "       797           0.0001            1.70m\n",
      "       798           0.0001            1.69m\n",
      "       799           0.0001            1.67m\n",
      "       800           0.0001            1.65m\n",
      "       801           0.0001            1.64m\n",
      "       802           0.0001            1.62m\n",
      "       803           0.0001            1.60m\n",
      "       804           0.0001            1.59m\n",
      "       805           0.0001            1.57m\n",
      "       806           0.0001            1.56m\n",
      "       807           0.0001            1.54m\n",
      "       808           0.0001            1.52m\n",
      "       809           0.0001            1.51m\n",
      "       810           0.0001            1.49m\n",
      "       811           0.0001            1.47m\n",
      "       812           0.0001            1.46m\n",
      "       813           0.0001            1.44m\n",
      "       814           0.0001            1.42m\n",
      "       815           0.0001            1.41m\n",
      "       816           0.0001            1.39m\n",
      "       817           0.0001            1.37m\n",
      "       818           0.0001            1.36m\n",
      "       819           0.0001            1.34m\n",
      "       820           0.0001            1.32m\n",
      "       821           0.0001            1.31m\n",
      "       822           0.0001            1.29m\n",
      "       823           0.0001            1.27m\n",
      "       824           0.0001            1.26m\n",
      "       825           0.0001            1.24m\n",
      "       826           0.0001            1.22m\n",
      "       827           0.0001            1.21m\n",
      "       828           0.0001            1.19m\n",
      "       829           0.0001            1.17m\n",
      "       830           0.0001            1.16m\n",
      "       831           0.0001            1.14m\n",
      "       832           0.0001            1.12m\n",
      "       833           0.0001            1.11m\n",
      "       834           0.0001            1.09m\n",
      "       835           0.0001            1.07m\n",
      "       836           0.0001            1.06m\n",
      "       837           0.0001            1.04m\n",
      "       838           0.0001            1.02m\n",
      "       839           0.0001            1.01m\n",
      "       840           0.0001           59.53s\n",
      "       841           0.0001           58.52s\n",
      "       842           0.0001           57.52s\n",
      "       843           0.0001           56.54s\n",
      "       844           0.0001           55.55s\n",
      "       845           0.0001           54.55s\n",
      "       846           0.0001           53.55s\n",
      "       847           0.0001           52.57s\n",
      "       848           0.0001           51.58s\n",
      "       849           0.0001           50.58s\n",
      "       850           0.0001           49.59s\n",
      "       851           0.0001           48.59s\n",
      "       852           0.0001           47.59s\n",
      "       853           0.0001           46.60s\n",
      "       854           0.0001           45.61s\n",
      "       855           0.0001           44.62s\n",
      "       856           0.0001           43.63s\n",
      "       857           0.0001           42.63s\n",
      "       858           0.0001           41.64s\n",
      "       859           0.0001           40.65s\n",
      "       860           0.0001           39.65s\n",
      "       861           0.0001           38.66s\n",
      "       862           0.0001           37.67s\n",
      "       863           0.0001           36.68s\n",
      "       864           0.0001           35.69s\n",
      "       865           0.0001           34.69s\n",
      "       866           0.0001           33.70s\n",
      "       867           0.0001           32.71s\n",
      "       868           0.0001           31.72s\n",
      "       869           0.0001           30.72s\n",
      "       870           0.0001           29.73s\n",
      "       871           0.0001           28.74s\n",
      "       872           0.0001           27.74s\n",
      "       873           0.0001           26.74s\n",
      "       874           0.0001           25.75s\n",
      "       875           0.0001           24.76s\n",
      "       876           0.0001           23.77s\n",
      "       877           0.0001           22.77s\n",
      "       878           0.0001           21.78s\n",
      "       879           0.0001           20.79s\n",
      "       880           0.0001           19.80s\n",
      "       881           0.0001           18.81s\n",
      "       882           0.0001           17.82s\n",
      "       883           0.0001           16.82s\n",
      "       884           0.0001           15.83s\n",
      "       885           0.0001           14.84s\n",
      "       886           0.0001           13.85s\n",
      "       887           0.0001           12.86s\n",
      "       888           0.0001           11.87s\n",
      "       889           0.0001           10.88s\n",
      "       890           0.0001            9.90s\n",
      "       891           0.0001            8.91s\n",
      "       892           0.0001            7.92s\n",
      "       893           0.0001            6.93s\n",
      "       894           0.0001            5.94s\n",
      "       895           0.0001            4.95s\n",
      "       896           0.0001            3.96s\n",
      "       897           0.0001            2.97s\n",
      "       898           0.0001            1.98s\n",
      "       899           0.0001            0.99s\n",
      "       900           0.0001            0.00s\n"
     ]
    }
   ],
   "source": [
    "gb2 = GradientBoostingClassifier(n_estimators= 900, max_depth= 13, learning_rate= 0.1,verbose=5).fit(trainx_s1,trainy_s1)"
   ]
  },
  {
   "cell_type": "code",
   "execution_count": 230,
   "id": "configured-culture",
   "metadata": {},
   "outputs": [],
   "source": [
    "prediction2 = gb2.predict(testx_s1)\n",
    "prediction2 = pd.Series(prediction2)"
   ]
  },
  {
   "cell_type": "code",
   "execution_count": null,
   "id": "systematic-english",
   "metadata": {},
   "outputs": [],
   "source": [
    "testy_s1.value_counts()"
   ]
  },
  {
   "cell_type": "code",
   "execution_count": null,
   "id": "killing-frost",
   "metadata": {},
   "outputs": [],
   "source": [
    "prediction2.value_counts()"
   ]
  },
  {
   "cell_type": "markdown",
   "id": "logical-mayor",
   "metadata": {},
   "source": [
    "## Feature Selection For Gradient Boost"
   ]
  },
  {
   "cell_type": "code",
   "execution_count": null,
   "id": "chicken-danish",
   "metadata": {},
   "outputs": [],
   "source": [
    "from sklearn.feature_selection import RFE"
   ]
  },
  {
   "cell_type": "code",
   "execution_count": null,
   "id": "japanese-shadow",
   "metadata": {},
   "outputs": [],
   "source": [
    "rfe3 = RFE(estimator=GradientBoostingClassifier(n_estimators=50),n_features_to_select=7,verbose=5)"
   ]
  },
  {
   "cell_type": "code",
   "execution_count": null,
   "id": "inclusive-papua",
   "metadata": {},
   "outputs": [],
   "source": [
    "rfe_fs3=rfe3.fit(trainx_s1,trainy_s1)"
   ]
  },
  {
   "cell_type": "code",
   "execution_count": null,
   "id": "double-transcription",
   "metadata": {},
   "outputs": [],
   "source": [
    "ranking3 = rfe_fs3.ranking_"
   ]
  },
  {
   "cell_type": "code",
   "execution_count": null,
   "id": "raised-monitor",
   "metadata": {},
   "outputs": [],
   "source": [
    "features3=list(trainx_s1.columns)"
   ]
  },
  {
   "cell_type": "code",
   "execution_count": null,
   "id": "detailed-casting",
   "metadata": {},
   "outputs": [],
   "source": [
    "new_df3 = pd.DataFrame({'feature':features3,'ranking':ranking3})"
   ]
  },
  {
   "cell_type": "code",
   "execution_count": null,
   "id": "thousand-status",
   "metadata": {},
   "outputs": [],
   "source": [
    "new_df3 = new_df3.sort_values(by='ranking',axis=0)"
   ]
  },
  {
   "cell_type": "code",
   "execution_count": null,
   "id": "sublime-blind",
   "metadata": {},
   "outputs": [],
   "source": [
    "new_df3"
   ]
  },
  {
   "cell_type": "code",
   "execution_count": null,
   "id": "neutral-broadcast",
   "metadata": {},
   "outputs": [],
   "source": [
    "filt3=new_df3['ranking']==1"
   ]
  },
  {
   "cell_type": "code",
   "execution_count": null,
   "id": "configured-graphics",
   "metadata": {},
   "outputs": [],
   "source": [
    "select_feature3 =  new_df3.loc[filt3]['feature'].to_list()"
   ]
  },
  {
   "cell_type": "code",
   "execution_count": null,
   "id": "personal-major",
   "metadata": {},
   "outputs": [],
   "source": [
    "select_feature3"
   ]
  },
  {
   "cell_type": "markdown",
   "id": "english-parameter",
   "metadata": {},
   "source": [
    "## Model Building and Evalutions on Selected Features"
   ]
  },
  {
   "cell_type": "code",
   "execution_count": null,
   "id": "unsigned-duplicate",
   "metadata": {},
   "outputs": [],
   "source": [
    "X_fs3 = X_s[select_feature]\n",
    "y_fs3 = y_s"
   ]
  },
  {
   "cell_type": "code",
   "execution_count": null,
   "id": "cognitive-cement",
   "metadata": {},
   "outputs": [],
   "source": [
    "print(X_fs3.shape)\n",
    "print(y_fs3.shape)"
   ]
  },
  {
   "cell_type": "markdown",
   "id": "valued-sterling",
   "metadata": {},
   "source": [
    "### Train-Test Split"
   ]
  },
  {
   "cell_type": "code",
   "execution_count": null,
   "id": "stuffed-prefix",
   "metadata": {},
   "outputs": [],
   "source": [
    "trainx_fs_gb,testx_fs_gb,trainy_fs_gb,testy_fs_gb = train_test_split(X_fs,y_fs,test_size=0.3,shuffle=True)"
   ]
  },
  {
   "cell_type": "code",
   "execution_count": null,
   "id": "palestinian-building",
   "metadata": {},
   "outputs": [],
   "source": [
    "print(trainx_fs_gb.shape)\n",
    "print(trainy_fs_gb.shape)\n",
    "print(testx_fs_gb.shape)\n",
    "print(testy_fs_gb.shape)"
   ]
  },
  {
   "cell_type": "markdown",
   "id": "interior-halifax",
   "metadata": {},
   "source": [
    "###  Model Building For Selected Features"
   ]
  },
  {
   "cell_type": "code",
   "execution_count": null,
   "id": "egyptian-dress",
   "metadata": {},
   "outputs": [],
   "source": [
    "gb3 = GradientBoostingClassifier(n_estimators=800,max_depth=13,learning_rate=0.1,verbose=5).fit(trainx_fs_gb,trainy_fs_gb)"
   ]
  },
  {
   "cell_type": "code",
   "execution_count": null,
   "id": "nervous-bulgaria",
   "metadata": {},
   "outputs": [],
   "source": [
    "prediction3 = gb3.predict(testx_fs_gb)\n",
    "prediction3 = pd.Series(prediction3)"
   ]
  },
  {
   "cell_type": "code",
   "execution_count": null,
   "id": "received-abortion",
   "metadata": {},
   "outputs": [],
   "source": [
    "testy_fs_gb.value_counts()"
   ]
  },
  {
   "cell_type": "code",
   "execution_count": null,
   "id": "humanitarian-pearl",
   "metadata": {},
   "outputs": [],
   "source": [
    "prediction3.value_counts()"
   ]
  },
  {
   "cell_type": "markdown",
   "id": "solid-riverside",
   "metadata": {},
   "source": [
    "## Compare All Gradient Boost Models Reports and Matrix Score Based On Decied Which is Best Model"
   ]
  },
  {
   "cell_type": "markdown",
   "id": "honest-ethics",
   "metadata": {},
   "source": [
    "### 1.Base Model"
   ]
  },
  {
   "cell_type": "code",
   "execution_count": null,
   "id": "wound-conjunction",
   "metadata": {},
   "outputs": [],
   "source": [
    "confusion_matrix(testy_s1,prediction1)"
   ]
  },
  {
   "cell_type": "code",
   "execution_count": null,
   "id": "protected-teach",
   "metadata": {},
   "outputs": [],
   "source": [
    "print(classification_report(testy_s1,prediction1))"
   ]
  },
  {
   "cell_type": "markdown",
   "id": "present-thunder",
   "metadata": {},
   "source": [
    "### 2.Base Model With Hyperparameter Tunnig"
   ]
  },
  {
   "cell_type": "code",
   "execution_count": null,
   "id": "private-humor",
   "metadata": {},
   "outputs": [],
   "source": [
    "confusion_matrix(testy_s1,prediction2)"
   ]
  },
  {
   "cell_type": "code",
   "execution_count": null,
   "id": "minimal-westminster",
   "metadata": {},
   "outputs": [],
   "source": [
    "print(classification_report(testy_s1,prediction2))"
   ]
  },
  {
   "cell_type": "markdown",
   "id": "distributed-midnight",
   "metadata": {},
   "source": [
    "### 3. Final Model After Feature Selection"
   ]
  },
  {
   "cell_type": "code",
   "execution_count": null,
   "id": "unlikely-popularity",
   "metadata": {},
   "outputs": [],
   "source": [
    "confusion_matrix(testy_fs_gb,prediction3)"
   ]
  },
  {
   "cell_type": "code",
   "execution_count": null,
   "id": "thermal-ceramic",
   "metadata": {},
   "outputs": [],
   "source": [
    "print(classification_report(testy_fs_gb,prediction3))"
   ]
  },
  {
   "cell_type": "markdown",
   "id": "legitimate-phase",
   "metadata": {},
   "source": [
    "### Export Trained Model So we Can Save time"
   ]
  },
  {
   "cell_type": "code",
   "execution_count": null,
   "id": "exclusive-fault",
   "metadata": {},
   "outputs": [],
   "source": [
    "import pickle"
   ]
  },
  {
   "cell_type": "code",
   "execution_count": null,
   "id": "alternate-commitment",
   "metadata": {},
   "outputs": [],
   "source": [
    "filename = 'gbboost.pkl'"
   ]
  },
  {
   "cell_type": "markdown",
   "id": "continuing-annotation",
   "metadata": {},
   "source": [
    "### After Checking All Performance Measure on confusion matrix and Classification report I'll Decied 2nd Model is Best "
   ]
  },
  {
   "cell_type": "code",
   "execution_count": null,
   "id": "suffering-intention",
   "metadata": {},
   "outputs": [],
   "source": [
    "pickle.dump(gb2,open(filename,'wb'))"
   ]
  },
  {
   "cell_type": "markdown",
   "id": "professional-hanging",
   "metadata": {},
   "source": [
    "#  3. XGBoost Classifier"
   ]
  },
  {
   "cell_type": "markdown",
   "id": "structured-prospect",
   "metadata": {},
   "source": [
    "### 1. Base Model"
   ]
  },
  {
   "cell_type": "code",
   "execution_count": null,
   "id": "joint-catch",
   "metadata": {},
   "outputs": [],
   "source": [
    "xgb1 = XGBClassifier(n_estimators=400).fit(trainx_s1,trainy_s1)"
   ]
  },
  {
   "cell_type": "code",
   "execution_count": null,
   "id": "passing-package",
   "metadata": {},
   "outputs": [],
   "source": [
    "predx1= xgb1.predict(testx_s1)\n",
    "predx1 = pd.DataFrame(predx1)\n"
   ]
  },
  {
   "cell_type": "code",
   "execution_count": null,
   "id": "wooden-surprise",
   "metadata": {},
   "outputs": [],
   "source": [
    "testy_s1.value_counts()"
   ]
  },
  {
   "cell_type": "code",
   "execution_count": null,
   "id": "destroyed-penny",
   "metadata": {},
   "outputs": [],
   "source": [
    "predx1.value_counts()"
   ]
  },
  {
   "cell_type": "markdown",
   "id": "proprietary-straight",
   "metadata": {},
   "source": [
    "## HyperParameter Tunning \n",
    "## 1.GridSearch CV"
   ]
  },
  {
   "cell_type": "code",
   "execution_count": null,
   "id": "other-asbestos",
   "metadata": {},
   "outputs": [],
   "source": [
    "param_xgb = {\n",
    "    'n_estimators' : np.arange(500,1200,100),\n",
    "    'learning_rate' :[0.2,0.3,0.4,0.5,0.6],\n",
    "    'max_depth'   : [2,3,4,5,6],\n",
    "    'min_child_weight':[0,1]\n",
    "   \n",
    "    \n",
    "    \n",
    "    \n",
    "    \n",
    "}"
   ]
  },
  {
   "cell_type": "code",
   "execution_count": null,
   "id": "dietary-reaction",
   "metadata": {},
   "outputs": [],
   "source": [
    "gxgb = GridSearchCV(estimator=XGBClassifier(),param_grid=param_xgb,scoring='accuracy',cv=3,verbose=5,n_jobs=5) "
   ]
  },
  {
   "cell_type": "markdown",
   "id": "early-petroleum",
   "metadata": {},
   "source": [
    "### Fit the Grid Using GridsearchCV"
   ]
  },
  {
   "cell_type": "code",
   "execution_count": null,
   "id": "electoral-interface",
   "metadata": {},
   "outputs": [],
   "source": [
    "grid_xgboost = gxgb.fit(trainx_s,trainy_s)"
   ]
  },
  {
   "cell_type": "code",
   "execution_count": null,
   "id": "fitting-range",
   "metadata": {},
   "outputs": [],
   "source": [
    "grid_xgboost.best_params_"
   ]
  },
  {
   "cell_type": "markdown",
   "id": "chemical-information",
   "metadata": {},
   "source": [
    "## 2. Model Build Using Tunned Parameter"
   ]
  },
  {
   "cell_type": "code",
   "execution_count": null,
   "id": "broken-administrator",
   "metadata": {},
   "outputs": [],
   "source": [
    "xgb2 = grid_xgboost.best_estimator_"
   ]
  },
  {
   "cell_type": "code",
   "execution_count": null,
   "id": "informational-manner",
   "metadata": {},
   "outputs": [],
   "source": [
    "xgb2.fit(trainx_s1,trainy_s1)"
   ]
  },
  {
   "cell_type": "code",
   "execution_count": null,
   "id": "adequate-penguin",
   "metadata": {},
   "outputs": [],
   "source": [
    "predx2 = xgb2.predict(testx_s1)\n",
    "predx2 = pd.Series(predx2)"
   ]
  },
  {
   "cell_type": "code",
   "execution_count": null,
   "id": "pursuant-healthcare",
   "metadata": {},
   "outputs": [],
   "source": [
    "testy_s1.value_counts()"
   ]
  },
  {
   "cell_type": "code",
   "execution_count": null,
   "id": "sunset-business",
   "metadata": {},
   "outputs": [],
   "source": [
    "predx2.value_counts()"
   ]
  },
  {
   "cell_type": "markdown",
   "id": "meaningful-sustainability",
   "metadata": {},
   "source": [
    "### Feature Selection (XGBoost)"
   ]
  },
  {
   "cell_type": "code",
   "execution_count": 238,
   "id": "injured-peeing",
   "metadata": {},
   "outputs": [],
   "source": [
    "from sklearn.feature_selection import RFE"
   ]
  },
  {
   "cell_type": "code",
   "execution_count": 239,
   "id": "searching-basement",
   "metadata": {},
   "outputs": [],
   "source": [
    "rfe4 = RFE(estimator=XGBClassifier(n_estimators=500,n_jobs=-1),n_features_to_select=7,verbose=5)"
   ]
  },
  {
   "cell_type": "code",
   "execution_count": 240,
   "id": "elder-gross",
   "metadata": {},
   "outputs": [
    {
     "name": "stdout",
     "output_type": "stream",
     "text": [
      "Fitting estimator with 17 features.\n",
      "Fitting estimator with 16 features.\n",
      "Fitting estimator with 15 features.\n",
      "Fitting estimator with 14 features.\n",
      "Fitting estimator with 13 features.\n",
      "Fitting estimator with 12 features.\n",
      "Fitting estimator with 11 features.\n",
      "Fitting estimator with 10 features.\n",
      "Fitting estimator with 9 features.\n",
      "Fitting estimator with 8 features.\n"
     ]
    }
   ],
   "source": [
    "rfe_fs4=rfe4.fit(trainx_s1,trainy_s1)"
   ]
  },
  {
   "cell_type": "code",
   "execution_count": 241,
   "id": "conscious-syracuse",
   "metadata": {},
   "outputs": [],
   "source": [
    "ranking4 = rfe_fs4.ranking_"
   ]
  },
  {
   "cell_type": "code",
   "execution_count": 242,
   "id": "living-access",
   "metadata": {},
   "outputs": [],
   "source": [
    "features4=list(trainx_s1.columns)"
   ]
  },
  {
   "cell_type": "code",
   "execution_count": 243,
   "id": "olive-veteran",
   "metadata": {},
   "outputs": [],
   "source": [
    "new_df4 = pd.DataFrame({'feature':features4,'ranking':ranking4})"
   ]
  },
  {
   "cell_type": "code",
   "execution_count": 244,
   "id": "seeing-entertainment",
   "metadata": {},
   "outputs": [],
   "source": [
    "new_df4 = new_df4.sort_values(by='ranking',axis=0)"
   ]
  },
  {
   "cell_type": "code",
   "execution_count": 245,
   "id": "hindu-practitioner",
   "metadata": {},
   "outputs": [
    {
     "data": {
      "text/html": [
       "<div>\n",
       "<style scoped>\n",
       "    .dataframe tbody tr th:only-of-type {\n",
       "        vertical-align: middle;\n",
       "    }\n",
       "\n",
       "    .dataframe tbody tr th {\n",
       "        vertical-align: top;\n",
       "    }\n",
       "\n",
       "    .dataframe thead th {\n",
       "        text-align: right;\n",
       "    }\n",
       "</style>\n",
       "<table border=\"1\" class=\"dataframe\">\n",
       "  <thead>\n",
       "    <tr style=\"text-align: right;\">\n",
       "      <th></th>\n",
       "      <th>feature</th>\n",
       "      <th>ranking</th>\n",
       "    </tr>\n",
       "  </thead>\n",
       "  <tbody>\n",
       "    <tr>\n",
       "      <th>8</th>\n",
       "      <td>month</td>\n",
       "      <td>1</td>\n",
       "    </tr>\n",
       "    <tr>\n",
       "      <th>14</th>\n",
       "      <td>emp.var.rate</td>\n",
       "      <td>1</td>\n",
       "    </tr>\n",
       "    <tr>\n",
       "      <th>15</th>\n",
       "      <td>cons.conf.idx</td>\n",
       "      <td>1</td>\n",
       "    </tr>\n",
       "    <tr>\n",
       "      <th>7</th>\n",
       "      <td>contact</td>\n",
       "      <td>1</td>\n",
       "    </tr>\n",
       "    <tr>\n",
       "      <th>5</th>\n",
       "      <td>housing</td>\n",
       "      <td>1</td>\n",
       "    </tr>\n",
       "    <tr>\n",
       "      <th>16</th>\n",
       "      <td>euribor3m</td>\n",
       "      <td>1</td>\n",
       "    </tr>\n",
       "    <tr>\n",
       "      <th>4</th>\n",
       "      <td>default</td>\n",
       "      <td>1</td>\n",
       "    </tr>\n",
       "    <tr>\n",
       "      <th>9</th>\n",
       "      <td>day_of_week</td>\n",
       "      <td>2</td>\n",
       "    </tr>\n",
       "    <tr>\n",
       "      <th>6</th>\n",
       "      <td>loan</td>\n",
       "      <td>3</td>\n",
       "    </tr>\n",
       "    <tr>\n",
       "      <th>2</th>\n",
       "      <td>marital</td>\n",
       "      <td>4</td>\n",
       "    </tr>\n",
       "    <tr>\n",
       "      <th>3</th>\n",
       "      <td>education</td>\n",
       "      <td>5</td>\n",
       "    </tr>\n",
       "    <tr>\n",
       "      <th>1</th>\n",
       "      <td>job</td>\n",
       "      <td>6</td>\n",
       "    </tr>\n",
       "    <tr>\n",
       "      <th>12</th>\n",
       "      <td>pdays</td>\n",
       "      <td>7</td>\n",
       "    </tr>\n",
       "    <tr>\n",
       "      <th>13</th>\n",
       "      <td>poutcome</td>\n",
       "      <td>8</td>\n",
       "    </tr>\n",
       "    <tr>\n",
       "      <th>11</th>\n",
       "      <td>campaign</td>\n",
       "      <td>9</td>\n",
       "    </tr>\n",
       "    <tr>\n",
       "      <th>0</th>\n",
       "      <td>age</td>\n",
       "      <td>10</td>\n",
       "    </tr>\n",
       "    <tr>\n",
       "      <th>10</th>\n",
       "      <td>duration</td>\n",
       "      <td>11</td>\n",
       "    </tr>\n",
       "  </tbody>\n",
       "</table>\n",
       "</div>"
      ],
      "text/plain": [
       "          feature  ranking\n",
       "8           month        1\n",
       "14   emp.var.rate        1\n",
       "15  cons.conf.idx        1\n",
       "7         contact        1\n",
       "5         housing        1\n",
       "16      euribor3m        1\n",
       "4         default        1\n",
       "9     day_of_week        2\n",
       "6            loan        3\n",
       "2         marital        4\n",
       "3       education        5\n",
       "1             job        6\n",
       "12          pdays        7\n",
       "13       poutcome        8\n",
       "11       campaign        9\n",
       "0             age       10\n",
       "10       duration       11"
      ]
     },
     "execution_count": 245,
     "metadata": {},
     "output_type": "execute_result"
    }
   ],
   "source": [
    "new_df4"
   ]
  },
  {
   "cell_type": "code",
   "execution_count": 246,
   "id": "alert-documentary",
   "metadata": {},
   "outputs": [],
   "source": [
    "filt4=new_df4['ranking']==1"
   ]
  },
  {
   "cell_type": "code",
   "execution_count": 247,
   "id": "radical-absolute",
   "metadata": {},
   "outputs": [],
   "source": [
    "select_feature4 =  new_df4.loc[filt4]['feature'].to_list()"
   ]
  },
  {
   "cell_type": "code",
   "execution_count": 248,
   "id": "linear-playing",
   "metadata": {},
   "outputs": [
    {
     "data": {
      "text/plain": [
       "['month',\n",
       " 'emp.var.rate',\n",
       " 'cons.conf.idx',\n",
       " 'contact',\n",
       " 'housing',\n",
       " 'euribor3m',\n",
       " 'default']"
      ]
     },
     "execution_count": 248,
     "metadata": {},
     "output_type": "execute_result"
    }
   ],
   "source": [
    "select_feature4"
   ]
  },
  {
   "cell_type": "markdown",
   "id": "specified-adapter",
   "metadata": {},
   "source": [
    "## Model Building and Evalutions on Selected Features"
   ]
  },
  {
   "cell_type": "code",
   "execution_count": 250,
   "id": "suspected-cooperation",
   "metadata": {},
   "outputs": [],
   "source": [
    "X_fs4 = X_s1[select_feature4]\n",
    "y_fs4 = y_s1"
   ]
  },
  {
   "cell_type": "code",
   "execution_count": 251,
   "id": "frank-retail",
   "metadata": {},
   "outputs": [
    {
     "name": "stdout",
     "output_type": "stream",
     "text": [
      "(58476, 7)\n",
      "(58476,)\n"
     ]
    }
   ],
   "source": [
    "print(X_fs4.shape)\n",
    "print(y_fs4.shape)"
   ]
  },
  {
   "cell_type": "code",
   "execution_count": 253,
   "id": "ignored-hygiene",
   "metadata": {},
   "outputs": [],
   "source": [
    "trainx_fs_xg,testx_fs_xg,trainy_fs_xg,testy_fs_xg = train_test_split(X_fs4,y_fs4,test_size=0.3,shuffle=True)"
   ]
  },
  {
   "cell_type": "code",
   "execution_count": 254,
   "id": "cleared-member",
   "metadata": {},
   "outputs": [
    {
     "name": "stdout",
     "output_type": "stream",
     "text": [
      "(40933, 7)\n",
      "(40933,)\n",
      "(17543, 7)\n",
      "(17543,)\n"
     ]
    }
   ],
   "source": [
    "print(trainx_fs_xg.shape)\n",
    "print(trainy_fs_xg.shape)\n",
    "print(testx_fs_xg.shape)\n",
    "print(testy_fs_xg.shape)"
   ]
  },
  {
   "cell_type": "markdown",
   "id": "hungry-guitar",
   "metadata": {},
   "source": [
    "### 3. Model Build On Selected Features"
   ]
  },
  {
   "cell_type": "code",
   "execution_count": 255,
   "id": "union-parks",
   "metadata": {},
   "outputs": [],
   "source": [
    "xgb3 = XGBClassifier(n_estimators = 500, n_jobs=-1).fit(trainx_fs_xg,trainy_fs_xg)"
   ]
  },
  {
   "cell_type": "code",
   "execution_count": 260,
   "id": "noticed-onion",
   "metadata": {},
   "outputs": [],
   "source": [
    "predx3 = xgb3.predict(testx_fs_xg)\n",
    "predx3 = pd.Series(predx3)"
   ]
  },
  {
   "cell_type": "code",
   "execution_count": 261,
   "id": "worthy-rachel",
   "metadata": {},
   "outputs": [
    {
     "data": {
      "text/plain": [
       "0    10951\n",
       "1     6592\n",
       "Name: y, dtype: int64"
      ]
     },
     "execution_count": 261,
     "metadata": {},
     "output_type": "execute_result"
    }
   ],
   "source": [
    "testy_fs_xg.value_counts()"
   ]
  },
  {
   "cell_type": "code",
   "execution_count": 262,
   "id": "painful-bullet",
   "metadata": {},
   "outputs": [
    {
     "data": {
      "text/plain": [
       "0    12763\n",
       "1     4780\n",
       "dtype: int64"
      ]
     },
     "execution_count": 262,
     "metadata": {},
     "output_type": "execute_result"
    }
   ],
   "source": [
    "predx3.value_counts()"
   ]
  },
  {
   "cell_type": "code",
   "execution_count": 263,
   "id": "positive-qualification",
   "metadata": {},
   "outputs": [
    {
     "data": {
      "text/plain": [
       "array([[10919,    32],\n",
       "       [ 1844,  4748]], dtype=int64)"
      ]
     },
     "execution_count": 263,
     "metadata": {},
     "output_type": "execute_result"
    }
   ],
   "source": [
    "confusion_matrix(testy_fs_xg,predx3)"
   ]
  },
  {
   "cell_type": "code",
   "execution_count": 264,
   "id": "accessory-warrior",
   "metadata": {},
   "outputs": [
    {
     "name": "stdout",
     "output_type": "stream",
     "text": [
      "              precision    recall  f1-score   support\n",
      "\n",
      "           0       0.86      1.00      0.92     10951\n",
      "           1       0.99      0.72      0.84      6592\n",
      "\n",
      "    accuracy                           0.89     17543\n",
      "   macro avg       0.92      0.86      0.88     17543\n",
      "weighted avg       0.91      0.89      0.89     17543\n",
      "\n"
     ]
    }
   ],
   "source": [
    "print(classification_report(testy_fs_xg,predx3))"
   ]
  },
  {
   "cell_type": "markdown",
   "id": "peripheral-position",
   "metadata": {},
   "source": [
    "## Comparizon Of All Modes We Build InXGBoost From Confusion Matrix and Classification Report "
   ]
  },
  {
   "cell_type": "markdown",
   "id": "maritime-trade",
   "metadata": {},
   "source": [
    "### 1.Base Model"
   ]
  },
  {
   "cell_type": "code",
   "execution_count": 265,
   "id": "demanding-trading",
   "metadata": {},
   "outputs": [
    {
     "ename": "NameError",
     "evalue": "name 'predx1' is not defined",
     "output_type": "error",
     "traceback": [
      "\u001b[1;31m---------------------------------------------------------------------------\u001b[0m",
      "\u001b[1;31mNameError\u001b[0m                                 Traceback (most recent call last)",
      "\u001b[1;32m<ipython-input-265-4f430de33de2>\u001b[0m in \u001b[0;36m<module>\u001b[1;34m\u001b[0m\n\u001b[1;32m----> 1\u001b[1;33m \u001b[0mconfusion_matrix\u001b[0m\u001b[1;33m(\u001b[0m\u001b[0mtesty_s1\u001b[0m\u001b[1;33m,\u001b[0m\u001b[0mpredx1\u001b[0m\u001b[1;33m)\u001b[0m\u001b[1;33m\u001b[0m\u001b[1;33m\u001b[0m\u001b[0m\n\u001b[0m",
      "\u001b[1;31mNameError\u001b[0m: name 'predx1' is not defined"
     ]
    }
   ],
   "source": [
    "confusion_matrix(testy_s1,predx1)"
   ]
  },
  {
   "cell_type": "code",
   "execution_count": 266,
   "id": "gorgeous-sandwich",
   "metadata": {},
   "outputs": [
    {
     "ename": "NameError",
     "evalue": "name 'predx1' is not defined",
     "output_type": "error",
     "traceback": [
      "\u001b[1;31m---------------------------------------------------------------------------\u001b[0m",
      "\u001b[1;31mNameError\u001b[0m                                 Traceback (most recent call last)",
      "\u001b[1;32m<ipython-input-266-bbe79b428c8f>\u001b[0m in \u001b[0;36m<module>\u001b[1;34m\u001b[0m\n\u001b[1;32m----> 1\u001b[1;33m \u001b[0mprint\u001b[0m\u001b[1;33m(\u001b[0m\u001b[0mclassification_report\u001b[0m\u001b[1;33m(\u001b[0m\u001b[0mtesty_s1\u001b[0m\u001b[1;33m,\u001b[0m\u001b[0mpredx1\u001b[0m\u001b[1;33m)\u001b[0m\u001b[1;33m)\u001b[0m\u001b[1;33m\u001b[0m\u001b[1;33m\u001b[0m\u001b[0m\n\u001b[0m",
      "\u001b[1;31mNameError\u001b[0m: name 'predx1' is not defined"
     ]
    }
   ],
   "source": [
    "print(classification_report(testy_s1,predx1))"
   ]
  },
  {
   "cell_type": "markdown",
   "id": "characteristic-meditation",
   "metadata": {},
   "source": [
    "### 2.Base Model With HyperParameter Tunning"
   ]
  },
  {
   "cell_type": "code",
   "execution_count": 267,
   "id": "facial-static",
   "metadata": {},
   "outputs": [
    {
     "ename": "NameError",
     "evalue": "name 'predx2' is not defined",
     "output_type": "error",
     "traceback": [
      "\u001b[1;31m---------------------------------------------------------------------------\u001b[0m",
      "\u001b[1;31mNameError\u001b[0m                                 Traceback (most recent call last)",
      "\u001b[1;32m<ipython-input-267-4fbcd7943367>\u001b[0m in \u001b[0;36m<module>\u001b[1;34m\u001b[0m\n\u001b[1;32m----> 1\u001b[1;33m \u001b[0mconfusion_matrix\u001b[0m\u001b[1;33m(\u001b[0m\u001b[0mtesty_s1\u001b[0m\u001b[1;33m,\u001b[0m\u001b[0mpredx2\u001b[0m\u001b[1;33m)\u001b[0m\u001b[1;33m\u001b[0m\u001b[1;33m\u001b[0m\u001b[0m\n\u001b[0m",
      "\u001b[1;31mNameError\u001b[0m: name 'predx2' is not defined"
     ]
    }
   ],
   "source": [
    "confusion_matrix(testy_s1,predx2)"
   ]
  },
  {
   "cell_type": "code",
   "execution_count": 268,
   "id": "horizontal-lover",
   "metadata": {},
   "outputs": [
    {
     "ename": "NameError",
     "evalue": "name 'predx2' is not defined",
     "output_type": "error",
     "traceback": [
      "\u001b[1;31m---------------------------------------------------------------------------\u001b[0m",
      "\u001b[1;31mNameError\u001b[0m                                 Traceback (most recent call last)",
      "\u001b[1;32m<ipython-input-268-a7f14887dadd>\u001b[0m in \u001b[0;36m<module>\u001b[1;34m\u001b[0m\n\u001b[1;32m----> 1\u001b[1;33m \u001b[0mprint\u001b[0m\u001b[1;33m(\u001b[0m\u001b[0mclassification_report\u001b[0m\u001b[1;33m(\u001b[0m\u001b[0mtesty_s1\u001b[0m\u001b[1;33m,\u001b[0m\u001b[0mpredx2\u001b[0m\u001b[1;33m)\u001b[0m\u001b[1;33m)\u001b[0m\u001b[1;33m\u001b[0m\u001b[1;33m\u001b[0m\u001b[0m\n\u001b[0m",
      "\u001b[1;31mNameError\u001b[0m: name 'predx2' is not defined"
     ]
    }
   ],
   "source": [
    "print(classification_report(testy_s1,predx2))"
   ]
  },
  {
   "cell_type": "markdown",
   "id": "commercial-confidence",
   "metadata": {},
   "source": [
    "### 3. Final Model which is Feature Selection"
   ]
  },
  {
   "cell_type": "code",
   "execution_count": 269,
   "id": "mexican-nelson",
   "metadata": {},
   "outputs": [
    {
     "data": {
      "text/plain": [
       "array([[10919,    32],\n",
       "       [ 1844,  4748]], dtype=int64)"
      ]
     },
     "execution_count": 269,
     "metadata": {},
     "output_type": "execute_result"
    }
   ],
   "source": [
    "confusion_matrix(testy_fs_xg,predx3)"
   ]
  },
  {
   "cell_type": "code",
   "execution_count": 270,
   "id": "complete-butler",
   "metadata": {},
   "outputs": [
    {
     "name": "stdout",
     "output_type": "stream",
     "text": [
      "              precision    recall  f1-score   support\n",
      "\n",
      "           0       0.86      1.00      0.92     10951\n",
      "           1       0.99      0.72      0.84      6592\n",
      "\n",
      "    accuracy                           0.89     17543\n",
      "   macro avg       0.92      0.86      0.88     17543\n",
      "weighted avg       0.91      0.89      0.89     17543\n",
      "\n"
     ]
    }
   ],
   "source": [
    "print(classification_report(testy_fs_xg,predx3))"
   ]
  },
  {
   "cell_type": "markdown",
   "id": "going-canada",
   "metadata": {},
   "source": [
    "### Export Model so We can Save Time\n",
    "### From Confusion Matrix and Classification Report We say 3rd Model is Best"
   ]
  },
  {
   "cell_type": "code",
   "execution_count": 271,
   "id": "revolutionary-passenger",
   "metadata": {},
   "outputs": [],
   "source": [
    "import pickle"
   ]
  },
  {
   "cell_type": "code",
   "execution_count": 272,
   "id": "mature-grill",
   "metadata": {},
   "outputs": [],
   "source": [
    "filename = 'xgboost.pkl'"
   ]
  },
  {
   "cell_type": "code",
   "execution_count": 273,
   "id": "southwest-section",
   "metadata": {},
   "outputs": [],
   "source": [
    "pickle.dump(xgb3,open(filename,'wb'))"
   ]
  },
  {
   "cell_type": "markdown",
   "id": "secondary-junior",
   "metadata": {},
   "source": [
    "verify by cross check with original model"
   ]
  },
  {
   "cell_type": "code",
   "execution_count": 274,
   "id": "dangerous-style",
   "metadata": {},
   "outputs": [],
   "source": [
    "model = pickle.load(open(filename,'rb'))"
   ]
  },
  {
   "cell_type": "code",
   "execution_count": 275,
   "id": "american-audio",
   "metadata": {},
   "outputs": [],
   "source": [
    "predict = model.predict(testx_fs_xg)"
   ]
  },
  {
   "cell_type": "code",
   "execution_count": 276,
   "id": "australian-wiring",
   "metadata": {},
   "outputs": [
    {
     "data": {
      "text/plain": [
       "array([[10919,    32],\n",
       "       [ 1844,  4748]], dtype=int64)"
      ]
     },
     "execution_count": 276,
     "metadata": {},
     "output_type": "execute_result"
    }
   ],
   "source": [
    "confusion_matrix(testy_fs_xg,predict)"
   ]
  },
  {
   "cell_type": "code",
   "execution_count": null,
   "id": "needed-reader",
   "metadata": {},
   "outputs": [],
   "source": [
    "print(classification_report(testy_fs_xg,predict))"
   ]
  },
  {
   "cell_type": "markdown",
   "id": "entitled-ideal",
   "metadata": {},
   "source": [
    "# Final Comparizon Of All Models Random Forest,Among Adaboost, GradientBoost and XGBoost Which Is Perform Best"
   ]
  },
  {
   "cell_type": "code",
   "execution_count": 71,
   "id": "opened-ontario",
   "metadata": {},
   "outputs": [],
   "source": [
    "import pickle"
   ]
  },
  {
   "cell_type": "markdown",
   "id": "literary-paper",
   "metadata": {},
   "source": [
    "# 1. Random Forest"
   ]
  },
  {
   "cell_type": "code",
   "execution_count": 72,
   "id": "gentle-egypt",
   "metadata": {},
   "outputs": [],
   "source": [
    "ran_fin = pickle.load(open('rf.pkl','rb'))"
   ]
  },
  {
   "cell_type": "code",
   "execution_count": 167,
   "id": "front-support",
   "metadata": {},
   "outputs": [],
   "source": [
    "ran_pred = ran_fin.predict(test_fs_x1)"
   ]
  },
  {
   "cell_type": "code",
   "execution_count": 168,
   "id": "southern-bones",
   "metadata": {},
   "outputs": [],
   "source": [
    "ran_pred = pd.Series(ran_pred)"
   ]
  },
  {
   "cell_type": "code",
   "execution_count": 169,
   "id": "adopted-savings",
   "metadata": {},
   "outputs": [
    {
     "data": {
      "text/plain": [
       "0    10505\n",
       "1     7038\n",
       "dtype: int64"
      ]
     },
     "execution_count": 169,
     "metadata": {},
     "output_type": "execute_result"
    }
   ],
   "source": [
    "ran_pred.value_counts()"
   ]
  },
  {
   "cell_type": "code",
   "execution_count": 170,
   "id": "metallic-working",
   "metadata": {},
   "outputs": [
    {
     "data": {
      "text/plain": [
       "0    10980\n",
       "1     6563\n",
       "Name: y, dtype: int64"
      ]
     },
     "execution_count": 170,
     "metadata": {},
     "output_type": "execute_result"
    }
   ],
   "source": [
    "test_fs_y1.value_counts()"
   ]
  },
  {
   "cell_type": "markdown",
   "id": "oriented-investigator",
   "metadata": {},
   "source": [
    "### Matrix and Reports"
   ]
  },
  {
   "cell_type": "code",
   "execution_count": 171,
   "id": "innocent-ancient",
   "metadata": {},
   "outputs": [
    {
     "data": {
      "text/plain": [
       "array([[8714, 2266],\n",
       "       [1791, 4772]], dtype=int64)"
      ]
     },
     "execution_count": 171,
     "metadata": {},
     "output_type": "execute_result"
    }
   ],
   "source": [
    "confusion_matrix(test_fs_y1,ran_pred)"
   ]
  },
  {
   "cell_type": "code",
   "execution_count": 172,
   "id": "previous-establishment",
   "metadata": {},
   "outputs": [
    {
     "name": "stdout",
     "output_type": "stream",
     "text": [
      "              precision    recall  f1-score   support\n",
      "\n",
      "           0       0.83      0.79      0.81     10980\n",
      "           1       0.68      0.73      0.70      6563\n",
      "\n",
      "    accuracy                           0.77     17543\n",
      "   macro avg       0.75      0.76      0.76     17543\n",
      "weighted avg       0.77      0.77      0.77     17543\n",
      "\n"
     ]
    }
   ],
   "source": [
    "print(classification_report(test_fs_y1,ran_pred))"
   ]
  },
  {
   "cell_type": "code",
   "execution_count": 173,
   "id": "potential-arrow",
   "metadata": {},
   "outputs": [
    {
     "data": {
      "text/plain": [
       "0.7603656392421276"
      ]
     },
     "execution_count": 173,
     "metadata": {},
     "output_type": "execute_result"
    }
   ],
   "source": [
    "from sklearn.metrics import roc_auc_score\n",
    "roc_auc_score(test_fs_y1,ran_pred)"
   ]
  },
  {
   "cell_type": "markdown",
   "id": "satisfied-lesson",
   "metadata": {},
   "source": [
    "## 2. AdaBoost"
   ]
  },
  {
   "cell_type": "code",
   "execution_count": 212,
   "id": "moved-terror",
   "metadata": {},
   "outputs": [],
   "source": [
    "ada_fin = pickle.load(open('adaboost.pkl','rb'))"
   ]
  },
  {
   "cell_type": "code",
   "execution_count": 213,
   "id": "hollow-following",
   "metadata": {},
   "outputs": [],
   "source": [
    "ada_pred = ada_fin.predict(testx_fs_ada)"
   ]
  },
  {
   "cell_type": "code",
   "execution_count": 214,
   "id": "saved-adoption",
   "metadata": {},
   "outputs": [],
   "source": [
    "ada_pred = pd.Series(ada_pred)"
   ]
  },
  {
   "cell_type": "code",
   "execution_count": 215,
   "id": "color-genome",
   "metadata": {},
   "outputs": [
    {
     "data": {
      "text/plain": [
       "0    17543\n",
       "dtype: int64"
      ]
     },
     "execution_count": 215,
     "metadata": {},
     "output_type": "execute_result"
    }
   ],
   "source": [
    "ada_pred.value_counts()"
   ]
  },
  {
   "cell_type": "code",
   "execution_count": 216,
   "id": "natural-grass",
   "metadata": {},
   "outputs": [
    {
     "data": {
      "text/plain": [
       "0    10999\n",
       "1     6544\n",
       "Name: y, dtype: int64"
      ]
     },
     "execution_count": 216,
     "metadata": {},
     "output_type": "execute_result"
    }
   ],
   "source": [
    "testy_fs_ada.value_counts()"
   ]
  },
  {
   "cell_type": "markdown",
   "id": "eastern-produce",
   "metadata": {},
   "source": [
    "### Matrix and Reports"
   ]
  },
  {
   "cell_type": "code",
   "execution_count": 217,
   "id": "amino-spider",
   "metadata": {},
   "outputs": [
    {
     "data": {
      "text/plain": [
       "array([[10999,     0],\n",
       "       [ 6544,     0]], dtype=int64)"
      ]
     },
     "execution_count": 217,
     "metadata": {},
     "output_type": "execute_result"
    }
   ],
   "source": [
    "confusion_matrix(testy_fs_ada,ada_pred)"
   ]
  },
  {
   "cell_type": "code",
   "execution_count": 218,
   "id": "christian-durham",
   "metadata": {},
   "outputs": [
    {
     "name": "stdout",
     "output_type": "stream",
     "text": [
      "              precision    recall  f1-score   support\n",
      "\n",
      "           0       0.63      1.00      0.77     10999\n",
      "           1       0.00      0.00      0.00      6544\n",
      "\n",
      "    accuracy                           0.63     17543\n",
      "   macro avg       0.31      0.50      0.39     17543\n",
      "weighted avg       0.39      0.63      0.48     17543\n",
      "\n"
     ]
    },
    {
     "name": "stderr",
     "output_type": "stream",
     "text": [
      "C:\\Users\\fenil\\anaconda3\\lib\\site-packages\\sklearn\\metrics\\_classification.py:1221: UndefinedMetricWarning: Precision and F-score are ill-defined and being set to 0.0 in labels with no predicted samples. Use `zero_division` parameter to control this behavior.\n",
      "  _warn_prf(average, modifier, msg_start, len(result))\n"
     ]
    }
   ],
   "source": [
    "print(classification_report(testy_fs_ada,ada_pred))"
   ]
  },
  {
   "cell_type": "code",
   "execution_count": 219,
   "id": "direct-afternoon",
   "metadata": {},
   "outputs": [
    {
     "data": {
      "text/plain": [
       "0.5"
      ]
     },
     "execution_count": 219,
     "metadata": {},
     "output_type": "execute_result"
    }
   ],
   "source": [
    "roc_auc_score(testy_fs_ada,ada_pred)"
   ]
  },
  {
   "cell_type": "markdown",
   "id": "selected-heater",
   "metadata": {},
   "source": [
    "## 3. Gradient Boost"
   ]
  },
  {
   "cell_type": "code",
   "execution_count": 220,
   "id": "headed-stock",
   "metadata": {},
   "outputs": [],
   "source": [
    "gb_fin = pickle.load(open('gbboost.pkl','rb'))  "
   ]
  },
  {
   "cell_type": "code",
   "execution_count": 231,
   "id": "strong-ministry",
   "metadata": {},
   "outputs": [],
   "source": [
    "gb_pred = gb_fin.predict(testx_s1)\n",
    "gb_pred = pd.Series(gb_pred)"
   ]
  },
  {
   "cell_type": "code",
   "execution_count": 232,
   "id": "valuable-soviet",
   "metadata": {},
   "outputs": [
    {
     "data": {
      "text/plain": [
       "0    12104\n",
       "1     5439\n",
       "dtype: int64"
      ]
     },
     "execution_count": 232,
     "metadata": {},
     "output_type": "execute_result"
    }
   ],
   "source": [
    "gb_pred.value_counts()"
   ]
  },
  {
   "cell_type": "code",
   "execution_count": 233,
   "id": "present-woman",
   "metadata": {},
   "outputs": [
    {
     "data": {
      "text/plain": [
       "0    10990\n",
       "1     6553\n",
       "Name: y, dtype: int64"
      ]
     },
     "execution_count": 233,
     "metadata": {},
     "output_type": "execute_result"
    }
   ],
   "source": [
    "testy_s1.value_counts()"
   ]
  },
  {
   "cell_type": "code",
   "execution_count": 234,
   "id": "gentle-house",
   "metadata": {},
   "outputs": [
    {
     "data": {
      "text/plain": [
       "array([[10059,   931],\n",
       "       [ 2045,  4508]], dtype=int64)"
      ]
     },
     "execution_count": 234,
     "metadata": {},
     "output_type": "execute_result"
    }
   ],
   "source": [
    "confusion_matrix(testy_s1,gb_pred)"
   ]
  },
  {
   "cell_type": "code",
   "execution_count": 235,
   "id": "balanced-tamil",
   "metadata": {},
   "outputs": [
    {
     "name": "stdout",
     "output_type": "stream",
     "text": [
      "              precision    recall  f1-score   support\n",
      "\n",
      "           0       0.83      0.92      0.87     10990\n",
      "           1       0.83      0.69      0.75      6553\n",
      "\n",
      "    accuracy                           0.83     17543\n",
      "   macro avg       0.83      0.80      0.81     17543\n",
      "weighted avg       0.83      0.83      0.83     17543\n",
      "\n"
     ]
    }
   ],
   "source": [
    "print(classification_report(testy_s1,gb_pred))"
   ]
  },
  {
   "cell_type": "code",
   "execution_count": 236,
   "id": "forward-model",
   "metadata": {},
   "outputs": [
    {
     "data": {
      "text/plain": [
       "0.8016079084699865"
      ]
     },
     "execution_count": 236,
     "metadata": {},
     "output_type": "execute_result"
    }
   ],
   "source": [
    "roc_auc_score(testy_s1,gb_pred)"
   ]
  },
  {
   "cell_type": "markdown",
   "id": "strong-board",
   "metadata": {},
   "source": [
    "## 4. XGBoost"
   ]
  },
  {
   "cell_type": "code",
   "execution_count": 278,
   "id": "arabic-plasma",
   "metadata": {},
   "outputs": [],
   "source": [
    "xg_fin = pickle.load(open('xgboost.pkl','rb'))"
   ]
  },
  {
   "cell_type": "code",
   "execution_count": 279,
   "id": "incident-casting",
   "metadata": {},
   "outputs": [],
   "source": [
    "xg_pred = xg_fin.predict(testx_fs_xg)"
   ]
  },
  {
   "cell_type": "code",
   "execution_count": 280,
   "id": "legislative-sacramento",
   "metadata": {},
   "outputs": [
    {
     "data": {
      "text/plain": [
       "array([[10919,    32],\n",
       "       [ 1844,  4748]], dtype=int64)"
      ]
     },
     "execution_count": 280,
     "metadata": {},
     "output_type": "execute_result"
    }
   ],
   "source": [
    "confusion_matrix(testy_fs_xg,predx3)"
   ]
  },
  {
   "cell_type": "code",
   "execution_count": 281,
   "id": "coated-ocean",
   "metadata": {},
   "outputs": [
    {
     "name": "stdout",
     "output_type": "stream",
     "text": [
      "              precision    recall  f1-score   support\n",
      "\n",
      "           0       0.86      1.00      0.92     10951\n",
      "           1       0.99      0.72      0.84      6592\n",
      "\n",
      "    accuracy                           0.89     17543\n",
      "   macro avg       0.92      0.86      0.88     17543\n",
      "weighted avg       0.91      0.89      0.89     17543\n",
      "\n"
     ]
    }
   ],
   "source": [
    "print(classification_report(testy_fs_xg,predx3))"
   ]
  },
  {
   "cell_type": "code",
   "execution_count": 282,
   "id": "fitting-wildlife",
   "metadata": {},
   "outputs": [
    {
     "data": {
      "text/plain": [
       "0.8586724413605886"
      ]
     },
     "execution_count": 282,
     "metadata": {},
     "output_type": "execute_result"
    }
   ],
   "source": [
    "roc_auc_score(testy_fs_xg,predx3)"
   ]
  }
 ],
 "metadata": {
  "kernelspec": {
   "display_name": "Python 3",
   "language": "python",
   "name": "python3"
  },
  "language_info": {
   "codemirror_mode": {
    "name": "ipython",
    "version": 3
   },
   "file_extension": ".py",
   "mimetype": "text/x-python",
   "name": "python",
   "nbconvert_exporter": "python",
   "pygments_lexer": "ipython3",
   "version": "3.7.9"
  }
 },
 "nbformat": 4,
 "nbformat_minor": 5
}
